{
  "nbformat": 4,
  "nbformat_minor": 0,
  "metadata": {
    "colab": {
      "name": "Parsing text from a PDF.ipynb",
      "provenance": [],
      "collapsed_sections": []
    },
    "kernelspec": {
      "name": "python3",
      "display_name": "Python 3"
    },
    "language_info": {
      "name": "python"
    }
  },
  "cells": [
    {
      "cell_type": "markdown",
      "metadata": {
        "id": "qa4syYqDsmSR"
      },
      "source": [
        "\n",
        "# PARSING PDF\n",
        "\n"
      ]
    },
    {
      "cell_type": "markdown",
      "metadata": {
        "id": "8y2xgIzHic6L"
      },
      "source": [
        "https://persianov.net/extract-from-pdf"
      ]
    },
    {
      "cell_type": "markdown",
      "metadata": {
        "id": "afsPzMnGIxsJ"
      },
      "source": [
        "https://pdfminersix.readthedocs.io/_/downloads/en/latest/pdf/"
      ]
    },
    {
      "cell_type": "code",
      "metadata": {
        "colab": {
          "base_uri": "https://localhost:8080/"
        },
        "id": "6CORC6YHHsDj",
        "outputId": "499c8473-5bc2-4547-b838-63ee8d23f901"
      },
      "source": [
        "pip install pdfminer.six"
      ],
      "execution_count": 1,
      "outputs": [
        {
          "output_type": "stream",
          "text": [
            "Collecting pdfminer.six\n",
            "  Downloading pdfminer.six-20201018-py3-none-any.whl (5.6 MB)\n",
            "\u001b[K     |████████████████████████████████| 5.6 MB 5.4 MB/s \n",
            "\u001b[?25hRequirement already satisfied: chardet in /usr/local/lib/python3.7/dist-packages (from pdfminer.six) (3.0.4)\n",
            "Requirement already satisfied: sortedcontainers in /usr/local/lib/python3.7/dist-packages (from pdfminer.six) (2.4.0)\n",
            "Collecting cryptography\n",
            "  Downloading cryptography-3.4.7-cp36-abi3-manylinux2014_x86_64.whl (3.2 MB)\n",
            "\u001b[K     |████████████████████████████████| 3.2 MB 29.3 MB/s \n",
            "\u001b[?25hRequirement already satisfied: cffi>=1.12 in /usr/local/lib/python3.7/dist-packages (from cryptography->pdfminer.six) (1.14.6)\n",
            "Requirement already satisfied: pycparser in /usr/local/lib/python3.7/dist-packages (from cffi>=1.12->cryptography->pdfminer.six) (2.20)\n",
            "Installing collected packages: cryptography, pdfminer.six\n",
            "Successfully installed cryptography-3.4.7 pdfminer.six-20201018\n"
          ],
          "name": "stdout"
        }
      ]
    },
    {
      "cell_type": "code",
      "metadata": {
        "colab": {
          "base_uri": "https://localhost:8080/"
        },
        "id": "PMD7wJK1Hxg8",
        "outputId": "45f04033-d497-4e95-efff-aea648d9147a"
      },
      "source": [
        "pip install PyPDF2"
      ],
      "execution_count": null,
      "outputs": [
        {
          "output_type": "stream",
          "text": [
            "Requirement already satisfied: PyPDF2 in /usr/local/lib/python3.7/dist-packages (1.26.0)\n"
          ],
          "name": "stdout"
        }
      ]
    },
    {
      "cell_type": "code",
      "metadata": {
        "id": "EYe4qz4J0oR4"
      },
      "source": [
        "import pdfquery"
      ],
      "execution_count": 59,
      "outputs": []
    },
    {
      "cell_type": "code",
      "metadata": {
        "colab": {
          "base_uri": "https://localhost:8080/"
        },
        "id": "weejaJdGz2wN",
        "outputId": "ab3c345a-c4f6-487f-a4bd-fd19c7bb0622"
      },
      "source": [
        "pip install pdfquery"
      ],
      "execution_count": 56,
      "outputs": [
        {
          "output_type": "stream",
          "text": [
            "Collecting pdfquery\n",
            "  Downloading pdfquery-0.4.3.tar.gz (17 kB)\n",
            "Collecting cssselect>=0.7.1\n",
            "  Downloading cssselect-1.1.0-py2.py3-none-any.whl (16 kB)\n",
            "Requirement already satisfied: chardet in /usr/local/lib/python3.7/dist-packages (from pdfquery) (3.0.4)\n",
            "Requirement already satisfied: lxml>=3.0 in /usr/local/lib/python3.7/dist-packages (from pdfquery) (4.2.6)\n",
            "Requirement already satisfied: pdfminer.six in /usr/local/lib/python3.7/dist-packages (from pdfquery) (20201018)\n",
            "Collecting pyquery>=1.2.2\n",
            "  Downloading pyquery-1.4.3-py3-none-any.whl (22 kB)\n",
            "Collecting roman>=1.4.0\n",
            "  Downloading roman-3.3-py2.py3-none-any.whl (3.9 kB)\n",
            "Requirement already satisfied: cryptography in /usr/local/lib/python3.7/dist-packages (from pdfminer.six->pdfquery) (3.4.7)\n",
            "Requirement already satisfied: sortedcontainers in /usr/local/lib/python3.7/dist-packages (from pdfminer.six->pdfquery) (2.4.0)\n",
            "Requirement already satisfied: cffi>=1.12 in /usr/local/lib/python3.7/dist-packages (from cryptography->pdfminer.six->pdfquery) (1.14.6)\n",
            "Requirement already satisfied: pycparser in /usr/local/lib/python3.7/dist-packages (from cffi>=1.12->cryptography->pdfminer.six->pdfquery) (2.20)\n",
            "Building wheels for collected packages: pdfquery\n",
            "  Building wheel for pdfquery (setup.py) ... \u001b[?25l\u001b[?25hdone\n",
            "  Created wheel for pdfquery: filename=pdfquery-0.4.3-py3-none-any.whl size=16799 sha256=fbee63416732fa70f34da2be3b4b3270c663fc8390fc390bc177f0e52891682d\n",
            "  Stored in directory: /root/.cache/pip/wheels/3a/95/34/0fe71e3dc62a1e462856b503eebd43b2741f7face768fc94b5\n",
            "Successfully built pdfquery\n",
            "Installing collected packages: cssselect, roman, pyquery, pdfquery\n",
            "Successfully installed cssselect-1.1.0 pdfquery-0.4.3 pyquery-1.4.3 roman-3.3\n"
          ],
          "name": "stdout"
        }
      ]
    },
    {
      "cell_type": "code",
      "metadata": {
        "id": "GIqLfFqiJHRx"
      },
      "source": [
        "from io import StringIO\n",
        "from pdfminer.converter import TextConverter\n",
        "from pdfminer.layout import LAParams\n",
        "from pdfminer.pdfdocument import PDFDocument\n",
        "from pdfminer.pdfinterp import PDFResourceManager, PDFPageInterpreter \n",
        "from pdfminer.pdfpage import PDFPage\n",
        "from pdfminer.pdfparser import PDFParser"
      ],
      "execution_count": 2,
      "outputs": []
    },
    {
      "cell_type": "markdown",
      "metadata": {
        "id": "U5ttc0ycGz57"
      },
      "source": [
        "# ***Reading text*** - Accenture pdf"
      ]
    },
    {
      "cell_type": "code",
      "metadata": {
        "colab": {
          "base_uri": "https://localhost:8080/"
        },
        "id": "YEuvr2ihJNWX",
        "outputId": "c9249249-da44-4f3d-e059-b73992750270"
      },
      "source": [
        "output_string = StringIO()\n",
        "with open('/content/june.pdf', 'rb') as in_file:\n",
        "    parser = PDFParser(in_file)\n",
        "    doc = PDFDocument(parser)\n",
        "    rsrcmgr = PDFResourceManager()\n",
        "    device = TextConverter(rsrcmgr, output_string, laparams=LAParams())\n",
        "    interpreter = PDFPageInterpreter(rsrcmgr, device)\n",
        "    for page in PDFPage.create_pages(doc): \n",
        "        interpreter.process_page(page)\n",
        "print(output_string.getvalue())"
      ],
      "execution_count": 3,
      "outputs": [
        {
          "output_type": "stream",
          "text": [
            "END TO END HR PROCESS \n",
            "ACCELERATOR FOR \n",
            "WORKDAY\n",
            "\n",
            "Asset Toolkit Table of Contents\n",
            "\n",
            "Talent and Organization\n",
            "\n",
            "Workforce and HR Experience\n",
            "\n",
            "June 2020\n",
            "\n",
            "Copyright © 2020 Accenture. All rights reserved.\n",
            "\n",
            "\fTOOLKIT CONTENTS\n",
            "\n",
            "Delivery Assets\n",
            "\n",
            "01 - Getting Started\n",
            "\n",
            "02 – Sample Process \n",
            "Design Kick-off Deck\n",
            "\n",
            "03 - End to End HR \n",
            "Process Accelerator “S-\n",
            "Curves”\n",
            "\n",
            "Asset\n",
            "\n",
            "Brief Description\n",
            "\n",
            "Introduction to the Toolkit and its contents; suggested audience; \n",
            "when to use the Toolkit; how to access the assets\n",
            "\n",
            "Overview of end-to-end process documentation to support Workday \n",
            "Global Design; questions to ask to capture end-to-end components, \n",
            "difference from traditional Visio process map\n",
            "\n",
            "Process overview, S-Curve, and detailed process step for 24 HR \n",
            "processes\n",
            "\n",
            "PowerPoint\n",
            "\n",
            "Format\n",
            "\n",
            "PowerPoint\n",
            "\n",
            "PowerPoint\n",
            "\n",
            "04 - Sample End to End \n",
            "Process Workshop\n",
            "\n",
            "Sample workshop material for an end-to-end process workshop to \n",
            "be conducted as part of Global Design\n",
            "\n",
            "PowerPoint\n",
            "\n",
            "05 - Sustainability \n",
            "Approach\n",
            "\n",
            "Suggested process to maintain and update the S Curves throughout \n",
            "the Workday implementation and Post Go-Live\n",
            "\n",
            "PowerPoint\n",
            "\n",
            "Copyright © 2020 Accenture. All rights reserved.\n",
            "\n",
            "3\n",
            "\n",
            "\fTOOLKIT CONTENTS\n",
            "\n",
            "Sales Assets\n",
            "\n",
            "Asset\n",
            "\n",
            "Brief Description\n",
            "\n",
            "06 – Sample Proposal \n",
            "Slides\n",
            "\n",
            "Slides on the end-to-end process documentation that can be included \n",
            "in a sales meeting or proposal response\n",
            "\n",
            "07 - Global Design Artifacts One-page slide that links together the Workday business processes, \n",
            "end-to-end process documentation “S-curves”, and integrated digital \n",
            "experience\n",
            "\n",
            "Format\n",
            "\n",
            "PowerPoint\n",
            "\n",
            "PowerPoint\n",
            "\n",
            "Copyright © 2020 Accenture. All rights reserved.\n",
            "\n",
            "4\n",
            "\n",
            "\fTalent & Organization / Human \n",
            "Potential\n",
            "\n",
            "THANK \n",
            "YOU\n",
            "\n",
            "Copyright © 2020 Accenture. All rights reserved.\n",
            "\n",
            "\fIRENE BLECHER\n",
            "Senior Management\n",
            "Consulting Executive\n",
            "\n",
            "EMILY EATON\n",
            "Business & Integration \n",
            "Architect \n",
            "Senior Manager\n",
            "\n",
            "KEY CONTACTS\n",
            "\n",
            "JENN VALLEJOS\n",
            "Management Consulting \n",
            "Principal Director\n",
            "\n",
            "JACOB DUDEN\n",
            "\n",
            "Management Consulting \n",
            "Consultant \n",
            "\n",
            "Copyright © 2020 Accenture. All rights reserved.\n",
            "\n",
            "6\n",
            "\n",
            "\fDISCLAIMER\n",
            "\n",
            "This document and the information contained herein are proprietary to \n",
            "Accenture. This document, either in whole or in part, may not be reproduced in \n",
            "any form or by any means without Accenture’s prior written permission. This \n",
            "document provides no warranties with respect to the offerings described within. \n",
            "\n",
            "Any third-party names, trademarks, and copyrights contained in this document \n",
            "are the property of their respective owners.\n",
            "\n",
            "Copyright © 2020 Accenture. All rights reserved.\n",
            "\n",
            "7\n",
            "\n",
            "\f\n"
          ],
          "name": "stdout"
        }
      ]
    },
    {
      "cell_type": "markdown",
      "metadata": {
        "id": "uao0r46II5cq"
      },
      "source": [
        "# EXTRACTING ELEMENTS WITH IN THE TEXT"
      ]
    },
    {
      "cell_type": "code",
      "metadata": {
        "colab": {
          "base_uri": "https://localhost:8080/"
        },
        "id": "nPbYSdapglhe",
        "outputId": "8382b72a-542a-4db2-c3e1-f5311c313c02"
      },
      "source": [
        "from pdfminer.high_level import extract_pages \n",
        "for page_layout in extract_pages(\"/content/june.pdf\"):\n",
        "    for element in page_layout: \n",
        "        print(element)"
      ],
      "execution_count": 18,
      "outputs": [
        {
          "output_type": "stream",
          "text": [
            "<LTTextBoxHorizontal(0) 60.000,255.064,734.328,399.464 'END TO END HR PROCESS \\nACCELERATOR FOR \\nWORKDAY\\n'>\n",
            "<LTTextBoxHorizontal(1) 60.000,208.250,387.216,232.250 'Asset Toolkit Table of Contents\\n'>\n",
            "<LTTextBoxHorizontal(2) 60.000,171.530,313.440,195.530 'Talent and Organization\\n'>\n",
            "<LTTextBoxHorizontal(3) 60.000,134.685,383.435,158.709 'Workforce and HR Experience\\n'>\n",
            "<LTTextBoxHorizontal(4) 62.736,70.128,174.816,94.128 'June 2020\\n'>\n",
            "<LTTextBoxHorizontal(5) 27.600,3.860,240.485,13.820 'Copyright © 2020 Accenture. All rights reserved.\\n'>\n",
            "<LTRect 0.000,0.000,960.000,540.000>\n",
            "<LTFigure(Image6) 60.000,475.440,190.920,510.480 matrix=[130.92,0.00,0.00,35.04, (60.00,475.44)]>\n",
            "<LTFigure(Image6) 60.000,475.440,190.920,510.480 matrix=[130.92,0.00,0.00,35.04, (60.00,475.44)]>\n",
            "<LTTextBoxHorizontal(0) 30.000,492.283,488.337,532.267 'TOOLKIT CONTENTS\\n'>\n",
            "<LTTextBoxHorizontal(1) 30.000,447.008,139.198,462.968 'Delivery Assets\\n'>\n",
            "<LTTextBoxHorizontal(2) 37.200,374.578,176.803,390.538 '01 - Getting Started\\n'>\n",
            "<LTTextBoxHorizontal(3) 37.200,309.778,193.593,344.938 '02 – Sample Process \\nDesign Kick-off Deck\\n'>\n",
            "<LTTextBoxHorizontal(4) 37.200,225.748,205.255,280.108 '03 - End to End HR \\nProcess Accelerator “S-\\nCurves”\\n'>\n",
            "<LTTextBoxHorizontal(5) 37.200,400.978,80.180,416.938 'Asset\\n'>\n",
            "<LTTextBoxHorizontal(6) 247.100,400.978,375.881,416.938 'Brief Description\\n'>\n",
            "<LTTextBoxHorizontal(7) 247.100,355.378,702.247,390.538 'Introduction to the Toolkit and its contents; suggested audience; \\nwhen to use the Toolkit; how to access the assets\\n'>\n",
            "<LTTextBoxHorizontal(8) 247.100,290.573,730.548,344.938 'Overview of end-to-end process documentation to support Workday \\nGlobal Design; questions to ask to capture end-to-end components, \\ndifference from traditional Visio process map\\n'>\n",
            "<LTTextBoxHorizontal(9) 247.100,244.948,707.694,280.108 'Process overview, S-Curve, and detailed process step for 24 HR \\nprocesses\\n'>\n",
            "<LTTextBoxHorizontal(10) 747.960,264.148,829.643,280.108 'PowerPoint\\n'>\n",
            "<LTTextBoxHorizontal(11) 747.960,400.978,802.096,416.938 'Format\\n'>\n",
            "<LTTextBoxHorizontal(12) 747.960,374.578,829.643,390.538 'PowerPoint\\n'>\n",
            "<LTTextBoxHorizontal(13) 747.960,328.978,829.643,344.938 'PowerPoint\\n'>\n",
            "<LTTextBoxHorizontal(14) 37.200,180.148,211.436,215.308 '04 - Sample End to End \\nProcess Workshop\\n'>\n",
            "<LTTextBoxHorizontal(15) 247.100,180.148,718.429,215.308 'Sample workshop material for an end-to-end process workshop to \\nbe conducted as part of Global Design\\n'>\n",
            "<LTTextBoxHorizontal(16) 747.960,199.348,829.643,215.308 'PowerPoint\\n'>\n",
            "<LTTextBoxHorizontal(17) 37.200,134.528,167.817,169.688 '05 - Sustainability \\nApproach\\n'>\n",
            "<LTTextBoxHorizontal(18) 247.100,134.528,733.242,169.688 'Suggested process to maintain and update the S Curves throughout \\nthe Workday implementation and Post Go-Live\\n'>\n",
            "<LTTextBoxHorizontal(19) 747.960,153.728,829.643,169.688 'PowerPoint\\n'>\n",
            "<LTTextBoxHorizontal(20) 30.000,10.532,242.885,20.492 'Copyright © 2020 Accenture. All rights reserved.\\n'>\n",
            "<LTTextBoxHorizontal(21) 924.480,10.532,930.018,20.492 '3\\n'>\n",
            "<LTRect 0.000,0.000,960.000,540.000>\n",
            "<LTRect 30.000,397.170,239.870,423.570>\n",
            "<LTRect 239.870,397.170,740.670,423.570>\n",
            "<LTRect 740.670,397.170,873.600,423.570>\n",
            "<LTLine 239.870,130.270,239.870,424.070>\n",
            "<LTLine 740.670,130.270,740.670,424.070>\n",
            "<LTLine 29.500,397.170,874.100,397.170>\n",
            "<LTLine 29.500,351.570,874.100,351.570>\n",
            "<LTLine 29.500,286.770,874.100,286.770>\n",
            "<LTLine 29.500,221.970,874.100,221.970>\n",
            "<LTLine 29.500,176.370,874.100,176.370>\n",
            "<LTLine 30.000,130.270,30.000,424.070>\n",
            "<LTLine 873.600,130.270,873.600,424.070>\n",
            "<LTLine 29.500,423.570,874.100,423.570>\n",
            "<LTLine 29.500,130.770,874.100,130.770>\n",
            "<LTCurve 30.000,447.500,139.320,448.700>\n",
            "<LTTextBoxHorizontal(0) 30.000,492.283,488.337,532.267 'TOOLKIT CONTENTS\\n'>\n",
            "<LTTextBoxHorizontal(1) 37.200,452.768,128.635,468.728 'Sales Assets\\n'>\n",
            "<LTTextBoxHorizontal(2) 50.016,402.148,92.996,418.108 'Asset\\n'>\n",
            "<LTTextBoxHorizontal(3) 263.500,402.148,392.281,418.108 'Brief Description\\n'>\n",
            "<LTTextBoxHorizontal(4) 50.016,356.543,211.708,391.708 '06 – Sample Proposal \\nSlides\\n'>\n",
            "<LTTextBoxHorizontal(5) 263.500,356.543,759.782,391.708 'Slides on the end-to-end process documentation that can be included \\nin a sales meeting or proposal response\\n'>\n",
            "<LTTextBoxHorizontal(6) 50.016,277.398,751.070,331.758 '07 - Global Design Artifacts One-page slide that links together the Workday business processes, \\nend-to-end process documentation “S-curves”, and integrated digital \\nexperience\\n'>\n",
            "<LTTextBoxHorizontal(7) 772.900,402.148,826.925,418.108 'Format\\n'>\n",
            "<LTTextBoxHorizontal(8) 772.900,375.748,854.472,391.708 'PowerPoint\\n'>\n",
            "<LTTextBoxHorizontal(9) 772.900,315.798,854.472,331.758 'PowerPoint\\n'>\n",
            "<LTTextBoxHorizontal(10) 30.000,10.532,242.885,20.492 'Copyright © 2020 Accenture. All rights reserved.\\n'>\n",
            "<LTTextBoxHorizontal(11) 924.480,10.532,930.018,20.492 '4\\n'>\n",
            "<LTRect 0.000,0.000,960.000,540.000>\n",
            "<LTRect 42.800,398.330,256.250,424.730>\n",
            "<LTRect 256.250,398.330,765.600,424.730>\n",
            "<LTRect 765.610,398.330,900.800,424.730>\n",
            "<LTLine 256.250,273.100,256.250,425.230>\n",
            "<LTLine 765.610,273.100,765.610,425.230>\n",
            "<LTLine 42.300,398.330,901.300,398.330>\n",
            "<LTLine 42.300,338.400,901.300,338.400>\n",
            "<LTLine 42.800,273.100,42.800,425.230>\n",
            "<LTLine 900.800,273.100,900.800,425.230>\n",
            "<LTLine 42.300,424.730,901.300,424.730>\n",
            "<LTLine 42.300,273.600,901.300,273.600>\n",
            "<LTCurve 37.200,453.250,128.760,454.450>\n",
            "<LTTextBoxHorizontal(0) 203.640,321.065,650.406,383.825 'Talent & Organization / Human \\nPotential\\n'>\n",
            "<LTTextBoxHorizontal(1) 202.560,130.804,610.470,317.227 'THANK \\nYOU\\n'>\n",
            "<LTTextBoxHorizontal(2) 37.200,11.180,250.085,21.140 'Copyright © 2020 Accenture. All rights reserved.\\n'>\n",
            "<LTRect 0.000,0.000,960.000,540.000>\n",
            "<LTRect 0.000,-0.600,960.000,540.000>\n",
            "<LTFigure(Image30) 0.000,0.000,960.000,540.000 matrix=[960.00,0.00,0.00,540.00, (0.00,0.00)]>\n",
            "<LTFigure(Meta32) 316.200,78.240,705.477,482.513 matrix=[17.72,0.00,-0.00,17.73, (316.20,78.24)]>\n",
            "<LTCurve 927.660,15.767,931.470,21.541>\n",
            "<LTTextBoxHorizontal(0) 131.280,326.011,278.196,381.370 'IRENE BLECHER\\nSenior Management\\nConsulting Executive\\n'>\n",
            "<LTTextBoxHorizontal(1) 779.400,310.411,915.511,381.370 'EMILY EATON\\nBusiness & Integration \\nArchitect \\nSenior Manager\\n'>\n",
            "<LTTextBoxHorizontal(2) 322.490,460.948,637.454,496.948 'KEY CONTACTS\\n'>\n",
            "<LTTextBoxHorizontal(3) 468.820,333.401,619.242,388.779 'JENN VALLEJOS\\nManagement Consulting \\nPrincipal Director\\n'>\n",
            "<LTTextBoxHorizontal(4) 462.600,237.440,594.540,255.440 'JACOB DUDEN\\n'>\n",
            "<LTTextBoxHorizontal(5) 461.330,197.901,611.148,226.461 'Management Consulting \\nConsultant \\n'>\n",
            "<LTTextBoxHorizontal(6) 30.000,10.532,242.885,20.492 'Copyright © 2020 Accenture. All rights reserved.\\n'>\n",
            "<LTTextBoxHorizontal(7) 924.480,10.532,930.018,20.492 '6\\n'>\n",
            "<LTRect 0.000,0.000,960.000,540.000>\n",
            "<LTLine 469.080,368.640,517.080,368.640>\n",
            "<LTLine 463.080,232.200,511.080,232.200>\n",
            "<LTFigure(Image38) 356.760,312.720,454.560,409.560 matrix=[97.80,0.00,0.00,96.84, (356.76,312.72)]>\n",
            "<LTLine 133.920,361.320,181.920,361.320>\n",
            "<LTLine 781.920,361.320,829.920,361.320>\n",
            "<LTFigure(Image39) 23.520,309.240,122.160,407.880 matrix=[98.64,0.00,0.00,98.64, (23.52,309.24)]>\n",
            "<LTFigure(Image40) 671.040,310.320,766.920,406.080 matrix=[95.88,0.00,0.00,95.76, (671.04,310.32)]>\n",
            "<LTFigure(Image41) 355.080,176.880,454.080,275.760 matrix=[99.00,0.00,0.00,98.88, (355.08,176.88)]>\n",
            "<LTTextBoxHorizontal(0) 36.888,455.908,286.908,491.908 'DISCLAIMER\\n'>\n",
            "<LTTextBoxHorizontal(1) 96.456,280.000,814.800,362.800 'This document and the information contained herein are proprietary to \\nAccenture. This document, either in whole or in part, may not be reproduced in \\nany form or by any means without Accenture’s prior written permission. This \\ndocument provides no warranties with respect to the offerings described within. \\n'>\n",
            "<LTTextBoxHorizontal(2) 96.456,224.780,802.485,264.420 'Any third-party names, trademarks, and copyrights contained in this document \\nare the property of their respective owners.\\n'>\n",
            "<LTTextBoxHorizontal(3) 37.200,11.180,250.085,21.140 'Copyright © 2020 Accenture. All rights reserved.\\n'>\n",
            "<LTTextBoxHorizontal(4) 927.460,14.080,931.930,22.120 '7\\n'>\n",
            "<LTRect 0.000,0.000,960.000,540.000>\n",
            "<LTRect 0.000,0.000,960.000,540.000>\n"
          ],
          "name": "stdout"
        }
      ]
    },
    {
      "cell_type": "markdown",
      "metadata": {
        "id": "guF_DPPhHUHj"
      },
      "source": [
        "Locating Footer that contains - Copyright"
      ]
    },
    {
      "cell_type": "code",
      "metadata": {
        "colab": {
          "base_uri": "https://localhost:8080/"
        },
        "id": "kYblAiLj4j2j",
        "outputId": "76b25a53-5d03-47ee-b6c0-5f330e732b8e"
      },
      "source": [
        "pdf_44 = pdfquery.PDFQuery(\"/content/june.pdf\")\n",
        "pdf_44.load()\n",
        "label = pdf_44.pq('LTTextBoxHorizontal:contains(\"Copyright\")')\n",
        "label"
      ],
      "execution_count": 108,
      "outputs": [
        {
          "output_type": "execute_result",
          "data": {
            "text/plain": [
              "[<LTTextBoxHorizontal>, <LTTextBoxHorizontal>, <LTTextBoxHorizontal>, <LTTextBoxHorizontal>, <LTTextBoxHorizontal>, <LTTextBoxHorizontal>]"
            ]
          },
          "metadata": {},
          "execution_count": 108
        }
      ]
    },
    {
      "cell_type": "code",
      "metadata": {
        "colab": {
          "base_uri": "https://localhost:8080/"
        },
        "id": "bVeuR_uFtKoa",
        "outputId": "a606fe0d-c063-419a-a5c1-370fc662fd2f"
      },
      "source": [
        "from pdfminer.high_level import extract_pages \n",
        "for page_layout in extract_pages(\"/content/june.pdf\"):\n",
        "    for element in page_layout: \n",
        "        print(element)"
      ],
      "execution_count": 109,
      "outputs": [
        {
          "output_type": "stream",
          "text": [
            "<LTTextBoxHorizontal(0) 60.000,255.064,734.328,399.464 'END TO END HR PROCESS \\nACCELERATOR FOR \\nWORKDAY\\n'>\n",
            "<LTTextBoxHorizontal(1) 60.000,208.250,387.216,232.250 'Asset Toolkit Table of Contents\\n'>\n",
            "<LTTextBoxHorizontal(2) 60.000,171.530,313.440,195.530 'Talent and Organization\\n'>\n",
            "<LTTextBoxHorizontal(3) 60.000,134.685,383.435,158.709 'Workforce and HR Experience\\n'>\n",
            "<LTTextBoxHorizontal(4) 62.736,70.128,174.816,94.128 'June 2020\\n'>\n",
            "<LTTextBoxHorizontal(5) 27.600,3.860,240.485,13.820 'Copyright © 2020 Accenture. All rights reserved.\\n'>\n",
            "<LTRect 0.000,0.000,960.000,540.000>\n",
            "<LTFigure(Image6) 60.000,475.440,190.920,510.480 matrix=[130.92,0.00,0.00,35.04, (60.00,475.44)]>\n",
            "<LTFigure(Image6) 60.000,475.440,190.920,510.480 matrix=[130.92,0.00,0.00,35.04, (60.00,475.44)]>\n",
            "<LTTextBoxHorizontal(0) 30.000,492.283,488.337,532.267 'TOOLKIT CONTENTS\\n'>\n",
            "<LTTextBoxHorizontal(1) 30.000,447.008,139.198,462.968 'Delivery Assets\\n'>\n",
            "<LTTextBoxHorizontal(2) 37.200,374.578,176.803,390.538 '01 - Getting Started\\n'>\n",
            "<LTTextBoxHorizontal(3) 37.200,309.778,193.593,344.938 '02 – Sample Process \\nDesign Kick-off Deck\\n'>\n",
            "<LTTextBoxHorizontal(4) 37.200,225.748,205.255,280.108 '03 - End to End HR \\nProcess Accelerator “S-\\nCurves”\\n'>\n",
            "<LTTextBoxHorizontal(5) 37.200,400.978,80.180,416.938 'Asset\\n'>\n",
            "<LTTextBoxHorizontal(6) 247.100,400.978,375.881,416.938 'Brief Description\\n'>\n",
            "<LTTextBoxHorizontal(7) 247.100,355.378,702.247,390.538 'Introduction to the Toolkit and its contents; suggested audience; \\nwhen to use the Toolkit; how to access the assets\\n'>\n",
            "<LTTextBoxHorizontal(8) 247.100,290.573,730.548,344.938 'Overview of end-to-end process documentation to support Workday \\nGlobal Design; questions to ask to capture end-to-end components, \\ndifference from traditional Visio process map\\n'>\n",
            "<LTTextBoxHorizontal(9) 247.100,244.948,707.694,280.108 'Process overview, S-Curve, and detailed process step for 24 HR \\nprocesses\\n'>\n",
            "<LTTextBoxHorizontal(10) 747.960,264.148,829.643,280.108 'PowerPoint\\n'>\n",
            "<LTTextBoxHorizontal(11) 747.960,400.978,802.096,416.938 'Format\\n'>\n",
            "<LTTextBoxHorizontal(12) 747.960,374.578,829.643,390.538 'PowerPoint\\n'>\n",
            "<LTTextBoxHorizontal(13) 747.960,328.978,829.643,344.938 'PowerPoint\\n'>\n",
            "<LTTextBoxHorizontal(14) 37.200,180.148,211.436,215.308 '04 - Sample End to End \\nProcess Workshop\\n'>\n",
            "<LTTextBoxHorizontal(15) 247.100,180.148,718.429,215.308 'Sample workshop material for an end-to-end process workshop to \\nbe conducted as part of Global Design\\n'>\n",
            "<LTTextBoxHorizontal(16) 747.960,199.348,829.643,215.308 'PowerPoint\\n'>\n",
            "<LTTextBoxHorizontal(17) 37.200,134.528,167.817,169.688 '05 - Sustainability \\nApproach\\n'>\n",
            "<LTTextBoxHorizontal(18) 247.100,134.528,733.242,169.688 'Suggested process to maintain and update the S Curves throughout \\nthe Workday implementation and Post Go-Live\\n'>\n",
            "<LTTextBoxHorizontal(19) 747.960,153.728,829.643,169.688 'PowerPoint\\n'>\n",
            "<LTTextBoxHorizontal(20) 30.000,10.532,242.885,20.492 'Copyright © 2020 Accenture. All rights reserved.\\n'>\n",
            "<LTTextBoxHorizontal(21) 924.480,10.532,930.018,20.492 '3\\n'>\n",
            "<LTRect 0.000,0.000,960.000,540.000>\n",
            "<LTRect 30.000,397.170,239.870,423.570>\n",
            "<LTRect 239.870,397.170,740.670,423.570>\n",
            "<LTRect 740.670,397.170,873.600,423.570>\n",
            "<LTLine 239.870,130.270,239.870,424.070>\n",
            "<LTLine 740.670,130.270,740.670,424.070>\n",
            "<LTLine 29.500,397.170,874.100,397.170>\n",
            "<LTLine 29.500,351.570,874.100,351.570>\n",
            "<LTLine 29.500,286.770,874.100,286.770>\n",
            "<LTLine 29.500,221.970,874.100,221.970>\n",
            "<LTLine 29.500,176.370,874.100,176.370>\n",
            "<LTLine 30.000,130.270,30.000,424.070>\n",
            "<LTLine 873.600,130.270,873.600,424.070>\n",
            "<LTLine 29.500,423.570,874.100,423.570>\n",
            "<LTLine 29.500,130.770,874.100,130.770>\n",
            "<LTCurve 30.000,447.500,139.320,448.700>\n",
            "<LTTextBoxHorizontal(0) 30.000,492.283,488.337,532.267 'TOOLKIT CONTENTS\\n'>\n",
            "<LTTextBoxHorizontal(1) 37.200,452.768,128.635,468.728 'Sales Assets\\n'>\n",
            "<LTTextBoxHorizontal(2) 50.016,402.148,92.996,418.108 'Asset\\n'>\n",
            "<LTTextBoxHorizontal(3) 263.500,402.148,392.281,418.108 'Brief Description\\n'>\n",
            "<LTTextBoxHorizontal(4) 50.016,356.543,211.708,391.708 '06 – Sample Proposal \\nSlides\\n'>\n",
            "<LTTextBoxHorizontal(5) 263.500,356.543,759.782,391.708 'Slides on the end-to-end process documentation that can be included \\nin a sales meeting or proposal response\\n'>\n",
            "<LTTextBoxHorizontal(6) 50.016,277.398,751.070,331.758 '07 - Global Design Artifacts One-page slide that links together the Workday business processes, \\nend-to-end process documentation “S-curves”, and integrated digital \\nexperience\\n'>\n",
            "<LTTextBoxHorizontal(7) 772.900,402.148,826.925,418.108 'Format\\n'>\n",
            "<LTTextBoxHorizontal(8) 772.900,375.748,854.472,391.708 'PowerPoint\\n'>\n",
            "<LTTextBoxHorizontal(9) 772.900,315.798,854.472,331.758 'PowerPoint\\n'>\n",
            "<LTTextBoxHorizontal(10) 30.000,10.532,242.885,20.492 'Copyright © 2020 Accenture. All rights reserved.\\n'>\n",
            "<LTTextBoxHorizontal(11) 924.480,10.532,930.018,20.492 '4\\n'>\n",
            "<LTRect 0.000,0.000,960.000,540.000>\n",
            "<LTRect 42.800,398.330,256.250,424.730>\n",
            "<LTRect 256.250,398.330,765.600,424.730>\n",
            "<LTRect 765.610,398.330,900.800,424.730>\n",
            "<LTLine 256.250,273.100,256.250,425.230>\n",
            "<LTLine 765.610,273.100,765.610,425.230>\n",
            "<LTLine 42.300,398.330,901.300,398.330>\n",
            "<LTLine 42.300,338.400,901.300,338.400>\n",
            "<LTLine 42.800,273.100,42.800,425.230>\n",
            "<LTLine 900.800,273.100,900.800,425.230>\n",
            "<LTLine 42.300,424.730,901.300,424.730>\n",
            "<LTLine 42.300,273.600,901.300,273.600>\n",
            "<LTCurve 37.200,453.250,128.760,454.450>\n",
            "<LTTextBoxHorizontal(0) 203.640,321.065,650.406,383.825 'Talent & Organization / Human \\nPotential\\n'>\n",
            "<LTTextBoxHorizontal(1) 202.560,130.804,610.470,317.227 'THANK \\nYOU\\n'>\n",
            "<LTTextBoxHorizontal(2) 37.200,11.180,250.085,21.140 'Copyright © 2020 Accenture. All rights reserved.\\n'>\n",
            "<LTRect 0.000,0.000,960.000,540.000>\n",
            "<LTRect 0.000,-0.600,960.000,540.000>\n",
            "<LTFigure(Image30) 0.000,0.000,960.000,540.000 matrix=[960.00,0.00,0.00,540.00, (0.00,0.00)]>\n",
            "<LTFigure(Meta32) 316.200,78.240,705.477,482.513 matrix=[17.72,0.00,-0.00,17.73, (316.20,78.24)]>\n",
            "<LTCurve 927.660,15.767,931.470,21.541>\n",
            "<LTTextBoxHorizontal(0) 131.280,326.011,278.196,381.370 'IRENE BLECHER\\nSenior Management\\nConsulting Executive\\n'>\n",
            "<LTTextBoxHorizontal(1) 779.400,310.411,915.511,381.370 'EMILY EATON\\nBusiness & Integration \\nArchitect \\nSenior Manager\\n'>\n",
            "<LTTextBoxHorizontal(2) 322.490,460.948,637.454,496.948 'KEY CONTACTS\\n'>\n",
            "<LTTextBoxHorizontal(3) 468.820,333.401,619.242,388.779 'JENN VALLEJOS\\nManagement Consulting \\nPrincipal Director\\n'>\n",
            "<LTTextBoxHorizontal(4) 462.600,237.440,594.540,255.440 'JACOB DUDEN\\n'>\n",
            "<LTTextBoxHorizontal(5) 461.330,197.901,611.148,226.461 'Management Consulting \\nConsultant \\n'>\n",
            "<LTTextBoxHorizontal(6) 30.000,10.532,242.885,20.492 'Copyright © 2020 Accenture. All rights reserved.\\n'>\n",
            "<LTTextBoxHorizontal(7) 924.480,10.532,930.018,20.492 '6\\n'>\n",
            "<LTRect 0.000,0.000,960.000,540.000>\n",
            "<LTLine 469.080,368.640,517.080,368.640>\n",
            "<LTLine 463.080,232.200,511.080,232.200>\n",
            "<LTFigure(Image38) 356.760,312.720,454.560,409.560 matrix=[97.80,0.00,0.00,96.84, (356.76,312.72)]>\n",
            "<LTLine 133.920,361.320,181.920,361.320>\n",
            "<LTLine 781.920,361.320,829.920,361.320>\n",
            "<LTFigure(Image39) 23.520,309.240,122.160,407.880 matrix=[98.64,0.00,0.00,98.64, (23.52,309.24)]>\n",
            "<LTFigure(Image40) 671.040,310.320,766.920,406.080 matrix=[95.88,0.00,0.00,95.76, (671.04,310.32)]>\n",
            "<LTFigure(Image41) 355.080,176.880,454.080,275.760 matrix=[99.00,0.00,0.00,98.88, (355.08,176.88)]>\n",
            "<LTTextBoxHorizontal(0) 36.888,455.908,286.908,491.908 'DISCLAIMER\\n'>\n",
            "<LTTextBoxHorizontal(1) 96.456,280.000,814.800,362.800 'This document and the information contained herein are proprietary to \\nAccenture. This document, either in whole or in part, may not be reproduced in \\nany form or by any means without Accenture’s prior written permission. This \\ndocument provides no warranties with respect to the offerings described within. \\n'>\n",
            "<LTTextBoxHorizontal(2) 96.456,224.780,802.485,264.420 'Any third-party names, trademarks, and copyrights contained in this document \\nare the property of their respective owners.\\n'>\n",
            "<LTTextBoxHorizontal(3) 37.200,11.180,250.085,21.140 'Copyright © 2020 Accenture. All rights reserved.\\n'>\n",
            "<LTTextBoxHorizontal(4) 927.460,14.080,931.930,22.120 '7\\n'>\n",
            "<LTRect 0.000,0.000,960.000,540.000>\n",
            "<LTRect 0.000,0.000,960.000,540.000>\n"
          ],
          "name": "stdout"
        }
      ]
    },
    {
      "cell_type": "markdown",
      "metadata": {
        "id": "uXXpmCDUHtgW"
      },
      "source": [
        "# ***Extracting - LTTextLineHorizontal elements below***"
      ]
    },
    {
      "cell_type": "code",
      "metadata": {
        "id": "eQxA-JlawzFr"
      },
      "source": [
        "pdf_1 = \"/content/june.pdf\""
      ],
      "execution_count": 37,
      "outputs": []
    },
    {
      "cell_type": "code",
      "metadata": {
        "colab": {
          "base_uri": "https://localhost:8080/"
        },
        "id": "1YRYw2oBmegd",
        "outputId": "aab4be85-304f-4bed-a442-901d9a176649"
      },
      "source": [
        "from pdfminer.high_level import extract_pages\n",
        "from pdfminer.layout import LTTextContainer, LTChar \n",
        "for page_layout in extract_pages(pdf_1):\n",
        "    for element in page_layout:\n",
        "        if isinstance(element, LTTextContainer):\n",
        "            for text_line in element:\n",
        "                print(text_line)"
      ],
      "execution_count": 38,
      "outputs": [
        {
          "output_type": "stream",
          "text": [
            "<LTTextLineHorizontal 60.000,345.440,734.328,399.464 'END TO END HR PROCESS \\n'>\n",
            "<LTTextLineHorizontal 60.000,300.064,589.362,354.064 'ACCELERATOR FOR \\n'>\n",
            "<LTTextLineHorizontal 60.000,255.064,346.848,309.064 'WORKDAY\\n'>\n",
            "<LTTextLineHorizontal 60.000,208.250,387.216,232.250 'Asset Toolkit Table of Contents\\n'>\n",
            "<LTTextLineHorizontal 60.000,171.530,313.440,195.530 'Talent and Organization\\n'>\n",
            "<LTTextLineHorizontal 60.000,134.685,383.435,158.709 'Workforce and HR Experience\\n'>\n",
            "<LTTextLineHorizontal 62.736,70.128,174.816,94.128 'June 2020\\n'>\n",
            "<LTTextLineHorizontal 27.600,3.860,240.485,13.820 'Copyright © 2020 Accenture. All rights reserved.\\n'>\n",
            "<LTTextLineHorizontal 30.000,492.283,488.337,532.267 'TOOLKIT CONTENTS\\n'>\n",
            "<LTTextLineHorizontal 30.000,447.008,139.198,462.968 'Delivery Assets\\n'>\n",
            "<LTTextLineHorizontal 37.200,374.578,176.803,390.538 '01 - Getting Started\\n'>\n",
            "<LTTextLineHorizontal 37.200,328.978,193.593,344.938 '02 – Sample Process \\n'>\n",
            "<LTTextLineHorizontal 37.200,309.778,185.346,325.738 'Design Kick-off Deck\\n'>\n",
            "<LTTextLineHorizontal 37.200,264.148,180.426,280.108 '03 - End to End HR \\n'>\n",
            "<LTTextLineHorizontal 37.200,244.948,205.255,260.908 'Process Accelerator “S-\\n'>\n",
            "<LTTextLineHorizontal 37.200,225.748,93.140,241.708 'Curves”\\n'>\n",
            "<LTTextLineHorizontal 37.200,400.978,80.180,416.938 'Asset\\n'>\n",
            "<LTTextLineHorizontal 247.100,400.978,375.881,416.938 'Brief Description\\n'>\n",
            "<LTTextLineHorizontal 247.100,374.578,702.247,390.538 'Introduction to the Toolkit and its contents; suggested audience; \\n'>\n",
            "<LTTextLineHorizontal 247.100,355.378,597.199,371.338 'when to use the Toolkit; how to access the assets\\n'>\n",
            "<LTTextLineHorizontal 247.100,328.978,730.548,344.938 'Overview of end-to-end process documentation to support Workday \\n'>\n",
            "<LTTextLineHorizontal 247.100,309.778,730.079,325.738 'Global Design; questions to ask to capture end-to-end components, \\n'>\n",
            "<LTTextLineHorizontal 247.100,290.573,562.129,306.557 'difference from traditional Visio process map\\n'>\n",
            "<LTTextLineHorizontal 247.100,264.148,707.694,280.108 'Process overview, S-Curve, and detailed process step for 24 HR \\n'>\n",
            "<LTTextLineHorizontal 247.100,244.948,319.973,260.908 'processes\\n'>\n",
            "<LTTextLineHorizontal 747.960,264.148,829.643,280.108 'PowerPoint\\n'>\n",
            "<LTTextLineHorizontal 747.960,400.978,802.096,416.938 'Format\\n'>\n",
            "<LTTextLineHorizontal 747.960,374.578,829.643,390.538 'PowerPoint\\n'>\n",
            "<LTTextLineHorizontal 747.960,328.978,829.643,344.938 'PowerPoint\\n'>\n",
            "<LTTextLineHorizontal 37.200,199.348,211.436,215.308 '04 - Sample End to End \\n'>\n",
            "<LTTextLineHorizontal 37.200,180.148,171.168,196.108 'Process Workshop\\n'>\n",
            "<LTTextLineHorizontal 247.100,199.348,718.429,215.308 'Sample workshop material for an end-to-end process workshop to \\n'>\n",
            "<LTTextLineHorizontal 247.100,180.148,519.218,196.108 'be conducted as part of Global Design\\n'>\n",
            "<LTTextLineHorizontal 747.960,199.348,829.643,215.308 'PowerPoint\\n'>\n",
            "<LTTextLineHorizontal 37.200,153.728,167.817,169.688 '05 - Sustainability \\n'>\n",
            "<LTTextLineHorizontal 37.200,134.528,105.573,150.488 'Approach\\n'>\n",
            "<LTTextLineHorizontal 247.100,153.728,733.242,169.688 'Suggested process to maintain and update the S Curves throughout \\n'>\n",
            "<LTTextLineHorizontal 247.100,134.528,577.596,150.488 'the Workday implementation and Post Go-Live\\n'>\n",
            "<LTTextLineHorizontal 747.960,153.728,829.643,169.688 'PowerPoint\\n'>\n",
            "<LTTextLineHorizontal 30.000,10.532,242.885,20.492 'Copyright © 2020 Accenture. All rights reserved.\\n'>\n",
            "<LTTextLineHorizontal 924.480,10.532,930.018,20.492 '3\\n'>\n",
            "<LTTextLineHorizontal 30.000,492.283,488.337,532.267 'TOOLKIT CONTENTS\\n'>\n",
            "<LTTextLineHorizontal 37.200,452.768,128.635,468.728 'Sales Assets\\n'>\n",
            "<LTTextLineHorizontal 50.016,402.148,92.996,418.108 'Asset\\n'>\n",
            "<LTTextLineHorizontal 263.500,402.148,392.281,418.108 'Brief Description\\n'>\n",
            "<LTTextLineHorizontal 50.016,375.748,211.708,391.708 '06 – Sample Proposal \\n'>\n",
            "<LTTextLineHorizontal 50.016,356.543,93.620,372.527 'Slides\\n'>\n",
            "<LTTextLineHorizontal 263.500,375.748,759.782,391.708 'Slides on the end-to-end process documentation that can be included \\n'>\n",
            "<LTTextLineHorizontal 263.500,356.543,547.072,372.527 'in a sales meeting or proposal response\\n'>\n",
            "<LTTextLineHorizontal 50.016,315.798,750.440,331.758 '07 - Global Design Artifacts One-page slide that links together the Workday business processes, \\n'>\n",
            "<LTTextLineHorizontal 263.500,296.598,751.070,312.558 'end-to-end process documentation “S-curves”, and integrated digital \\n'>\n",
            "<LTTextLineHorizontal 263.500,277.398,341.608,293.358 'experience\\n'>\n",
            "<LTTextLineHorizontal 772.900,402.148,826.925,418.108 'Format\\n'>\n",
            "<LTTextLineHorizontal 772.900,375.748,854.472,391.708 'PowerPoint\\n'>\n",
            "<LTTextLineHorizontal 772.900,315.798,854.472,331.758 'PowerPoint\\n'>\n",
            "<LTTextLineHorizontal 30.000,10.532,242.885,20.492 'Copyright © 2020 Accenture. All rights reserved.\\n'>\n",
            "<LTTextLineHorizontal 924.480,10.532,930.018,20.492 '4\\n'>\n",
            "<LTTextLineHorizontal 203.640,351.785,650.406,383.825 'Talent & Organization / Human \\n'>\n",
            "<LTTextLineHorizontal 203.640,321.065,335.421,353.105 'Potential\\n'>\n",
            "<LTTextLineHorizontal 202.560,221.203,610.470,317.227 'THANK \\n'>\n",
            "<LTTextLineHorizontal 215.450,130.804,493.242,245.784 'YOU\\n'>\n",
            "<LTTextLineHorizontal 37.200,11.180,250.085,21.140 'Copyright © 2020 Accenture. All rights reserved.\\n'>\n",
            "<LTTextLineHorizontal 131.280,363.370,278.196,381.370 'IRENE BLECHER\\n'>\n",
            "<LTTextLineHorizontal 132.890,341.627,252.823,354.611 'Senior Management\\n'>\n",
            "<LTTextLineHorizontal 132.890,326.011,258.135,338.971 'Consulting Executive\\n'>\n",
            "<LTTextLineHorizontal 779.400,363.370,898.326,381.370 'EMILY EATON\\n'>\n",
            "<LTTextLineHorizontal 781.010,341.627,915.511,354.611 'Business & Integration \\n'>\n",
            "<LTTextLineHorizontal 781.010,326.011,838.254,338.971 'Architect \\n'>\n",
            "<LTTextLineHorizontal 781.010,310.411,874.594,323.371 'Senior Manager\\n'>\n",
            "<LTTextLineHorizontal 322.490,460.948,637.454,496.948 'KEY CONTACTS\\n'>\n",
            "<LTTextLineHorizontal 468.820,370.755,615.067,388.779 'JENN VALLEJOS\\n'>\n",
            "<LTTextLineHorizontal 469.800,349.001,619.242,361.961 'Management Consulting \\n'>\n",
            "<LTTextLineHorizontal 469.800,333.401,571.069,346.361 'Principal Director\\n'>\n",
            "<LTTextLineHorizontal 462.600,237.440,594.540,255.440 'JACOB DUDEN\\n'>\n",
            "<LTTextLineHorizontal 461.330,213.501,611.148,226.461 'Management Consulting \\n'>\n",
            "<LTTextLineHorizontal 461.330,197.901,529.396,210.861 'Consultant \\n'>\n",
            "<LTTextLineHorizontal 30.000,10.532,242.885,20.492 'Copyright © 2020 Accenture. All rights reserved.\\n'>\n",
            "<LTTextLineHorizontal 924.480,10.532,930.018,20.492 '6\\n'>\n",
            "<LTTextLineHorizontal 36.888,455.908,286.908,491.908 'DISCLAIMER\\n'>\n",
            "<LTTextLineHorizontal 96.456,344.800,728.562,362.800 'This document and the information contained herein are proprietary to \\n'>\n",
            "<LTTextLineHorizontal 96.456,323.200,797.236,341.200 'Accenture. This document, either in whole or in part, may not be reproduced in \\n'>\n",
            "<LTTextLineHorizontal 96.456,301.600,778.836,319.600 'any form or by any means without Accenture’s prior written permission. This \\n'>\n",
            "<LTTextLineHorizontal 96.456,280.000,814.800,298.000 'document provides no warranties with respect to the offerings described within. \\n'>\n",
            "<LTTextLineHorizontal 96.456,246.396,802.485,264.420 'Any third-party names, trademarks, and copyrights contained in this document \\n'>\n",
            "<LTTextLineHorizontal 96.456,224.780,483.906,242.780 'are the property of their respective owners.\\n'>\n",
            "<LTTextLineHorizontal 37.200,11.180,250.085,21.140 'Copyright © 2020 Accenture. All rights reserved.\\n'>\n",
            "<LTTextLineHorizontal 927.460,14.080,931.930,22.120 '7\\n'>\n"
          ],
          "name": "stdout"
        }
      ]
    },
    {
      "cell_type": "markdown",
      "metadata": {
        "id": "iELUqaoFJQyT"
      },
      "source": [
        "# ***READING THE SECOND pdf***"
      ]
    },
    {
      "cell_type": "code",
      "metadata": {
        "colab": {
          "base_uri": "https://localhost:8080/"
        },
        "id": "M8QqB4SQneA3",
        "outputId": "e70a66b9-a04d-4a36-d750-f7437b21a00a"
      },
      "source": [
        "output_string = StringIO()\n",
        "with open('/content/False_assumptions_that_will_thwart_your_COVID-19_course_correction.pdf', 'rb') as in_file:\n",
        "    parser = PDFParser(in_file)\n",
        "    doc = PDFDocument(parser)\n",
        "    rsrcmgr = PDFResourceManager()\n",
        "    device = TextConverter(rsrcmgr, output_string, laparams=LAParams())\n",
        "    interpreter = PDFPageInterpreter(rsrcmgr, device)\n",
        "    for page in PDFPage.create_pages(doc): \n",
        "        interpreter.process_page(page)\n",
        "print(output_string.getvalue())"
      ],
      "execution_count": 34,
      "outputs": [
        {
          "output_type": "stream",
          "text": [
            "4/12/2021\n",
            "\n",
            "Assumptions Behind Your COVID Course Corrections | Accenture\n",
            "\n",
            "\n",
            "\n",
            "Accenture Research\n",
            "\n",
            "SEPTEMBER 22, 2020\n",
            "\n",
            "False assumptions that will thwart your\n",
            "COVID-19 course correction\n",
            "\n",
            "SHARE\n",
            "\n",
            "\n",
            "\n",
            "\n",
            "\n",
            "\n",
            "\n",
            "I want to thank my colleague Taw\u0000ik Jarjour for his contribution to the research supporting this post. \n",
            "\n",
            "While COVID-19 has wrought the worst growth decline on record, many business leaders have positioned\n",
            "\n",
            "their companies to emerge even stronger from the crisis.  \n",
            "\n",
            "Recent research that my team and I conducted tells us these \u0000irms have not only become more digital\n",
            "\n",
            "but also more data-driven and cloud-based, which has made their operations more agile and their cost\n",
            "\n",
            "structures more variable. The result: better experiences for both employees and customers.  \n",
            "\n",
            "This is encouraging, to be sure. But uncertainty abounds and will for some time.  \n",
            "\n",
            "That is why every leader must be prepared to course-correct — and not just now, but again and again, as\n",
            "\n",
            "a permanent proposition. But how? And to what degree? Our research suggests leaders will need\n",
            "\n",
            "to reassess three common beliefs before it’s too late. \n",
            "\n",
            "https://www.accenture.com/us-en/blogs/accenture-research/false-assumptions-that-will-thwart-your-covid-19-course-correction\n",
            "\n",
            "1/5\n",
            "\n",
            "Cookies Settings\n",
            "\n",
            "Every leader must be prepared to course-correct — and not justnow, but again and again, as a permanent proposition.Click to tweet.\f4/12/2021\n",
            "\n",
            "Assumptions Behind Your COVID Course Corrections | Accenture\n",
            "\n",
            "False assumption #1: You know what customers and employees want and\n",
            "\n",
            "need\n",
            "\n",
            "Relevant and timely research and data have never been more important. Don’t assume you know what\n",
            "\n",
            "customers want or how they feel, even if you think you knew the answer last month, last week, or even\n",
            "\n",
            "yesterday.  \n",
            "\n",
            "You might be ready to get back to the o\u0000ice, but don’t assume everyone else is. Likewise, you might be\n",
            "\n",
            "ready to eat at a restaurant, but don’t assume others are. Accept that opinions, feelings, and desires can\n",
            "\n",
            "change faster than you can predict.  \n",
            "\n",
            "That’s why it’s critical to use analytical tools to determine what your customers and employees want and\n",
            "\n",
            "need on a near-daily basis. To do that, data tools must be integrated into daily decision-making\n",
            "\n",
            "processes. What repeated data sources are you using and providing for your teams to make decisions oﬀ\n",
            "\n",
            "of? What tracking sources can you use for the future, post-COVID, to have real-time data about employee\n",
            "\n",
            "and customer attitudes? Measure and internalize that insight. \n",
            "\n",
            "Our most successful clients have truly embraced and invested in the digital and analytics tools and\n",
            "\n",
            "related decision-making processes needed to operate in a time of uncertainty. One of our large retail\n",
            "\n",
            "clients has actively used customer trends, COVID-19 regulations, and online activity to determine how to\n",
            "\n",
            "stock brick-and-mortar stores versus warehouses for online orders for improved performance. \n",
            "\n",
            "False assumption #2: I need to worry mostly about the places where I\n",
            "operate \n",
            "\n",
            "One lesson the pandemic has taught us is how interconnected and interdependent everything really\n",
            "\n",
            "is. We can no longer assume far away things don’t matter. This is true whether you’re\n",
            "\n",
            "a multinational company or a regional business. If California shuts down, how does that impact buying\n",
            "\n",
            "patterns, supply chains, operations on the East Coast?  \n",
            "\n",
            "You must consider all the scenarios and continually look for the best strategy for each of them. Be\n",
            "\n",
            "prepared for all possibilities. Don’t let geographic presumptions put your business at risk. Don’t assume\n",
            "\n",
            "today’s stable operations are immune to shocks tomorrow.  \n",
            "\n",
            "Supply chains continue to be aﬀected in seemingly odd and unpredictable ways due\n",
            "\n",
            "to speci\u0000ic geographic impacts of COVID-19 aﬀecting local operations. Global shipping has been\n",
            "\n",
            "interrupted as quarantined airports and seaports have caused goods to be rerouted. And shortages of\n",
            "\n",
            "simple things like masks and other PPE have caused health facilities to shut down despite having\n",
            "\n",
            "everything else needed to operate. \n",
            "\n",
            "https://www.accenture.com/us-en/blogs/accenture-research/false-assumptions-that-will-thwart-your-covid-19-course-correction\n",
            "\n",
            "2/5\n",
            "\n",
            "Cookies Settings\n",
            "\n",
            "We can no longer assume far away things don’t matter. This istrue whether you’re a multinational company or a regionalbusiness.\f4/12/2021\n",
            "\n",
            "Assumptions Behind Your COVID Course Corrections | Accenture\n",
            "\n",
            "\n",
            "\n",
            "Assumption #3: More support from the government is on the way\n",
            "\n",
            "COVID-19 caught us all by surprise. Businesses, big and small, were put at risk in ways we couldn’t have\n",
            "\n",
            "anticipated, and government support was essential.\n",
            "\n",
            "But that support is fading fast. This is why leaders must chart a course of self-sustainability.\n",
            "\n",
            "In the airline and travel industries we have seen major players prepare for the worst if additional\n",
            "\n",
            "government support does not come. This has led to rapid shifts to new technologies, processes, and\n",
            "\n",
            "policies to keep the industry a\u0000loat.\n",
            "\n",
            "Part of this new shift is moving from a business predicated on charging additional fees to one that sells\n",
            "\n",
            "“experiences” to people on staycations. New oﬀerings such as \u0000irst- and business-class meals shipped to\n",
            "\n",
            "homes have begun to arise as companies attempt to open up new markets and opportunities.\n",
            "\n",
            "False assumptions can blow your company completely oﬀ-course \n",
            "\n",
            "We don’t yet fully understand what people — employees and consumers alike — can cope with and for\n",
            "\n",
            "how long. Though we were all pleasantly surprised by people’s fortitude and \u0000lexibility so far, we can’t\n",
            "\n",
            "assume their psychological strength inde\u0000initely.  \n",
            "\n",
            "While some companies have been quick to get rid of physical spaces, we should not assume the\n",
            "\n",
            "behaviors and productivity of the last four months will last forever. People sheltered in place once, but\n",
            "\n",
            "they may not again. People have made extraordinary sacri\u0000ices and it has taken incredible strength to\n",
            "\n",
            "make the past four to six months manageable.  \n",
            "\n",
            "So don’t expect people will work all night while taking care of their kids all day. Don’t assume the two\n",
            "\n",
            "hours of a commute that people are spared should be given back to work. Don’t assume more free time in\n",
            "\n",
            "their day means more productivity. Constantly correcting course with people in mind must be a top\n",
            "\n",
            "priority to make this recovery sustainable. \n",
            "\n",
            "G LO BA L   M A N AG I N G   D I R ECTO R   –   T H O U G H T   L E A D E RS H I P,   AC C E N T U R E   R E S E A RC H\n",
            "\n",
            "Paul Nunes\n",
            "\n",
            "\n",
            "\n",
            "\n",
            "\n",
            "Recent posts\n",
            "\n",
            "https://www.accenture.com/us-en/blogs/accenture-research/false-assumptions-that-will-thwart-your-covid-19-course-correction\n",
            "\n",
            "3/5\n",
            "\n",
            "Cookies Settings\n",
            "\n",
            "Click to tweet.\f4/12/2021\n",
            "\n",
            "Assumptions Behind Your COVID Course Corrections | Accenture\n",
            "\n",
            "\n",
            "\n",
            "How to overcome three pitfalls of working virtually\n",
            "\n",
            "AUGUST 3, 2020\n",
            "\n",
            "virtual...\n",
            "\n",
            "Accenture's blog explains what can leaders do to guard against the unintended consequences of\n",
            "\n",
            "What gardening taught me about research in a pandemic\n",
            "\n",
            "JULY 2, 2020\n",
            "\n",
            "have a lot in...\n",
            "\n",
            "Raghav Narsalay from Accenture Research shares his discovery that gardening and research\n",
            "\n",
            "https://www.accenture.com/us-en/blogs/accenture-research/false-assumptions-that-will-thwart-your-covid-19-course-correction\n",
            "\n",
            "4/5\n",
            "\n",
            "Cookies Settings\n",
            "\n",
            "\f4/12/2021\n",
            "\n",
            "Assumptions Behind Your COVID Course Corrections | Accenture\n",
            "\n",
            "\n",
            "\n",
            "3 powerful ways the pandemic is changing research forever\n",
            "\n",
            "JUNE 23, 2020\n",
            "\n",
            "researchers work in this...\n",
            "\n",
            "Francis Hintermann, head of Accenture Research, explains the recent changes in the way\n",
            "\n",
            "Subscribe to Accenture's\n",
            "Research Blog\n",
            "\n",
            "SUBSCRIBE\n",
            "\n",
            "ABOUT US\n",
            "\n",
            "CONTACT US\n",
            "\n",
            "CAREERS\n",
            "\n",
            "LOCATIONS\n",
            "\n",
            "\n",
            "\n",
            "\n",
            "\n",
            "\n",
            "\n",
            "\n",
            "\n",
            "Privacy Statement\n",
            "\n",
            "Terms & Conditions\n",
            "\n",
            " \n",
            "\n",
            "  Cookie Policy\n",
            "\n",
            "  Accessibility Statement\n",
            "\n",
            " \n",
            "\n",
            "Sitemap\n",
            "\n",
            "Do Not Sell My Personal Information (for CA)\n",
            "\n",
            "© 2021 Accenture. All Rights Reserved.\n",
            "\n",
            "https://www.accenture.com/us-en/blogs/accenture-research/false-assumptions-that-will-thwart-your-covid-19-course-correction\n",
            "\n",
            "5/5\n",
            "\n",
            "Cookies Settings\n",
            "\n",
            "\f\n"
          ],
          "name": "stdout"
        }
      ]
    },
    {
      "cell_type": "code",
      "metadata": {
        "colab": {
          "base_uri": "https://localhost:8080/"
        },
        "id": "MmFnLn1VsHvL",
        "outputId": "b5b70a3c-ed20-4754-a01c-c03c89cc1b8d"
      },
      "source": [
        "from pdfminer.high_level import extract_pages\n",
        "from pdfminer.layout import LTTextContainer, LTChar \n",
        "for page_layout in extract_pages(\"/content/False_assumptions_that_will_thwart_your_COVID-19_course_correction.pdf\"):\n",
        "    for element in page_layout:\n",
        "        if isinstance(element, LTTextContainer):\n",
        "            for text_line in element:\n",
        "                print(text_line)"
      ],
      "execution_count": 35,
      "outputs": [
        {
          "output_type": "stream",
          "text": [
            "<LTTextLineHorizontal 26.453,768.305,62.043,776.305 '4/12/2021\\n'>\n",
            "<LTTextLineHorizontal 222.625,768.305,455.180,776.305 'Assumptions Behind Your COVID Course Corrections | Accenture\\n'>\n",
            "<LTTextLineHorizontal 556.613,733.750,570.113,751.750 '\\uf4a5\\n'>\n",
            "<LTTextLineHorizontal 40.273,657.148,129.895,666.148 'Accenture Research\\n'>\n",
            "<LTTextLineHorizontal 40.273,562.648,135.781,571.648 'SEPTEMBER 22, 2020\\n'>\n",
            "<LTTextLineHorizontal 40.273,609.802,556.567,636.802 'False assumptions that will thwart your\\n'>\n",
            "<LTTextLineHorizontal 40.273,582.802,416.464,609.802 'COVID-19 course correction\\n'>\n",
            "<LTTextLineHorizontal 40.273,486.898,74.932,495.898 'SHARE\\n'>\n",
            "<LTTextLineHorizontal 107.785,483.715,118.495,497.995 '\\uf239\\n'>\n",
            "<LTTextLineHorizontal 159.523,484.600,171.692,497.800 '\\uf243\\n'>\n",
            "<LTTextLineHorizontal 215.469,483.715,220.824,497.995 '\\uf231\\n'>\n",
            "<LTTextLineHorizontal 37.935,383.894,559.155,436.454 'I\\xa0want\\xa0to thank my colleague Taw\\x00ik Jarjour\\xa0for\\xa0his contribution\\xa0to the research\\xa0supporting this post.\\xa0\\n'>\n",
            "<LTTextLineHorizontal 40.273,358.339,566.029,368.839 'While COVID-19 has wrought the worst growth decline on record, many business leaders have positioned\\n'>\n",
            "<LTTextLineHorizontal 40.273,341.839,332.467,352.339 'their\\xa0companies\\xa0to emerge\\xa0even stronger from the crisis.\\xa0\\xa0\\n'>\n",
            "<LTTextLineHorizontal 40.273,308.839,550.475,319.339 'Recent\\xa0research\\xa0that my team and I\\xa0conducted\\xa0tells us\\xa0these \\x00irms\\xa0have not only become more digital\\n'>\n",
            "<LTTextLineHorizontal 40.273,292.339,555.287,302.839 'but\\xa0also\\xa0more data-driven and cloud-based, which has made\\xa0their\\xa0operations more agile and\\xa0their\\xa0cost\\n'>\n",
            "<LTTextLineHorizontal 40.273,275.839,506.252,286.339 'structures\\xa0more variable.\\xa0The result:\\xa0better experiences for\\xa0both\\xa0employees and customers.\\xa0\\xa0\\n'>\n",
            "<LTTextLineHorizontal 40.273,242.089,446.402,252.589 'This is encouraging, to be sure. But uncertainty\\xa0abounds and\\xa0will for some time.\\xa0\\xa0\\n'>\n",
            "<LTTextLineHorizontal 40.273,209.089,564.296,219.589 'That is\\xa0why\\xa0every\\xa0leader\\xa0must be prepared to\\xa0course-correct\\xa0—\\xa0and not just\\xa0now, but again and again, as\\n'>\n",
            "<LTTextLineHorizontal 40.273,192.589,527.462,203.089 'a permanent proposition.\\xa0But how? And to what degree?\\xa0Our research suggests leaders will need\\n'>\n",
            "<LTTextLineHorizontal 40.273,176.089,308.044,186.589 'to\\xa0reassess three common beliefs\\xa0before it’s too late.\\xa0\\n'>\n",
            "<LTTextLineHorizontal 26.453,15.305,473.293,23.305 'https://www.accenture.com/us-en/blogs/accenture-research/false-assumptions-that-will-thwart-your-covid-19-course-correction\\n'>\n",
            "<LTTextLineHorizontal 574.406,15.305,585.512,23.305 '1/5\\n'>\n",
            "<LTTextLineHorizontal 522.770,39.898,579.499,47.458 'Cookies Settings\\n'>\n",
            "<LTTextLineHorizontal 26.453,768.305,62.043,776.305 '4/12/2021\\n'>\n",
            "<LTTextLineHorizontal 222.625,768.305,455.180,776.305 'Assumptions Behind Your COVID Course Corrections | Accenture\\n'>\n",
            "<LTTextLineHorizontal 40.273,746.830,571.558,761.830 'False assumption #1: You know what customers and employees want and\\n'>\n",
            "<LTTextLineHorizontal 556.613,733.750,570.113,751.750 '\\uf4a5\\n'>\n",
            "<LTTextLineHorizontal 40.273,728.830,77.383,743.830 'need\\n'>\n",
            "<LTTextLineHorizontal 40.273,707.839,550.478,718.339 'Relevant and timely research and data have never been more important. Don’t assume you know what\\n'>\n",
            "<LTTextLineHorizontal 40.273,691.339,552.431,701.839 'customers want or\\xa0how they\\xa0feel, even if you\\xa0think you knew the answer\\xa0last month, last week, or even\\n'>\n",
            "<LTTextLineHorizontal 40.273,674.839,97.225,685.339 'yesterday.\\xa0\\xa0\\n'>\n",
            "<LTTextLineHorizontal 40.273,641.839,555.749,652.339 'You might be ready to get back to the o\\x00ice, but don’t assume everyone else is. Likewise, you might be\\n'>\n",
            "<LTTextLineHorizontal 40.273,625.339,561.808,635.839 'ready to eat at a restaurant, but don’t assume others are. Accept that opinions, feelings, and desires can\\n'>\n",
            "<LTTextLineHorizontal 40.273,608.839,224.622,619.339 'change faster than you can predict.\\xa0\\xa0\\n'>\n",
            "<LTTextLineHorizontal 40.273,575.089,561.755,585.589 'That’s why it’s critical to use analytical tools to determine what your customers and employees want and\\n'>\n",
            "<LTTextLineHorizontal 40.273,558.589,515.902,569.089 'need on a near-daily basis. To do that, data tools must be integrated into daily decision-making\\n'>\n",
            "<LTTextLineHorizontal 40.273,542.089,565.556,552.589 'processes. What repeated data sources are you using and providing for your teams to make decisions oﬀ\\n'>\n",
            "<LTTextLineHorizontal 40.273,525.589,566.690,536.089 'of? What tracking sources can you use for the future,\\xa0post-COVID,\\xa0to have real-time data about employee\\n'>\n",
            "<LTTextLineHorizontal 40.273,509.089,350.233,519.589 'and customer\\xa0attitudes?\\xa0Measure and internalize that insight.\\xa0\\n'>\n",
            "<LTTextLineHorizontal 40.273,476.089,536.135,486.589 'Our most successful clients have truly embraced and invested in the digital and analytics tools and\\n'>\n",
            "<LTTextLineHorizontal 40.273,459.589,545.312,470.089 'related decision-making processes needed to operate in a time of uncertainty. One of our large retail\\n'>\n",
            "<LTTextLineHorizontal 40.273,443.089,563.446,453.589 'clients has actively used customer trends, COVID-19 regulations, and online activity to determine how to\\n'>\n",
            "<LTTextLineHorizontal 40.273,426.589,514.138,437.089 'stock brick-and-mortar stores versus warehouses for online orders\\xa0for\\xa0improved\\xa0performance.\\xa0\\n'>\n",
            "<LTTextLineHorizontal 40.273,389.830,546.763,404.830 'False assumption\\xa0#2:\\xa0I need to worry\\xa0mostly\\xa0about the places where I\\n'>\n",
            "<LTTextLineHorizontal 40.273,371.830,102.028,386.830 'operate\\xa0\\n'>\n",
            "<LTTextLineHorizontal 40.273,350.839,543.307,361.339 'One lesson\\xa0the pandemic\\xa0has taught us\\xa0is how interconnected and interdependent everything really\\n'>\n",
            "<LTTextLineHorizontal 40.273,334.339,463.706,344.839 'is.\\xa0We can\\xa0no longer\\xa0assume far away things don’t matter. This is true whether you’re\\n'>\n",
            "<LTTextLineHorizontal 40.273,317.839,554.027,328.339 'a\\xa0multinational\\xa0company\\xa0or a regional business.\\xa0If\\xa0California\\xa0shuts down, how does that impact buying\\n'>\n",
            "<LTTextLineHorizontal 40.273,301.339,318.261,311.839 'patterns, supply chains, operations\\xa0on the East Coast?\\xa0\\xa0\\n'>\n",
            "<LTTextLineHorizontal 40.273,268.339,531.022,278.839 'You must consider all the scenarios and continually\\xa0look for the\\xa0best strategy for each of them.\\xa0Be\\n'>\n",
            "<LTTextLineHorizontal 40.273,251.839,559.088,262.339 'prepared\\xa0for\\xa0all possibilities.\\xa0Don’t let geographic presumptions put\\xa0your business\\xa0at risk.\\xa0Don’t assume\\n'>\n",
            "<LTTextLineHorizontal 40.273,235.339,339.071,245.839 'today’s\\xa0stable operations are immune to shocks tomorrow.\\xa0\\xa0\\n'>\n",
            "<LTTextLineHorizontal 40.273,202.339,463.948,212.839 'Supply chains continue to be aﬀected in seemingly odd and unpredictable ways due\\n'>\n",
            "<LTTextLineHorizontal 40.273,185.839,524.501,196.339 'to\\xa0speci\\x00ic\\xa0geographic\\xa0impacts\\xa0of COVID-19\\xa0aﬀecting local operations. Global shipping has been\\n'>\n",
            "<LTTextLineHorizontal 40.273,169.339,551.801,179.839 'interrupted as\\xa0quarantined airports and\\xa0seaports have\\xa0caused goods to be\\xa0rerouted. And\\xa0shortages of\\n'>\n",
            "<LTTextLineHorizontal 40.273,152.839,523.756,163.339 'simple things like masks and other PPE have caused health facilities to shut down despite having\\n'>\n",
            "<LTTextLineHorizontal 40.273,136.339,218.773,146.839 'everything else needed to operate.\\xa0\\n'>\n",
            "<LTTextLineHorizontal 26.453,15.305,473.293,23.305 'https://www.accenture.com/us-en/blogs/accenture-research/false-assumptions-that-will-thwart-your-covid-19-course-correction\\n'>\n",
            "<LTTextLineHorizontal 574.406,15.305,585.512,23.305 '2/5\\n'>\n",
            "<LTTextLineHorizontal 522.770,39.898,579.499,47.458 'Cookies Settings\\n'>\n",
            "<LTTextLineHorizontal 26.453,768.305,62.043,776.305 '4/12/2021\\n'>\n",
            "<LTTextLineHorizontal 222.625,768.305,455.180,776.305 'Assumptions Behind Your COVID Course Corrections | Accenture\\n'>\n",
            "<LTTextLineHorizontal 556.613,733.750,570.113,751.750 '\\uf4a5\\n'>\n",
            "<LTTextLineHorizontal 40.273,690.580,515.758,705.580 'Assumption #3: More support from the government is on the way\\n'>\n",
            "<LTTextLineHorizontal 40.273,669.589,556.904,680.089 'COVID-19 caught us all by surprise. Businesses, big and small, were put at risk in ways we couldn’t have\\n'>\n",
            "<LTTextLineHorizontal 40.273,653.089,300.348,663.589 'anticipated, and government support was essential.\\n'>\n",
            "<LTTextLineHorizontal 40.273,620.089,496.603,630.589 'But that support is fading fast. This is why leaders must chart a course of self-sustainability.\\n'>\n",
            "<LTTextLineHorizontal 40.273,586.339,518.653,596.839 'In the airline and travel industries we have seen major players prepare for the worst if additional\\n'>\n",
            "<LTTextLineHorizontal 40.273,569.839,544.871,580.339 'government support does not come. This has led to rapid shifts to new technologies, processes, and\\n'>\n",
            "<LTTextLineHorizontal 40.273,553.339,216.621,563.839 'policies to keep the industry a\\x00loat.\\n'>\n",
            "<LTTextLineHorizontal 40.273,520.339,555.676,530.839 'Part of this new shift is moving from a business predicated on charging additional fees to one that sells\\n'>\n",
            "<LTTextLineHorizontal 40.273,503.839,563.225,514.339 '“experiences” to people on staycations. New oﬀerings such as \\x00irst- and business-class meals shipped to\\n'>\n",
            "<LTTextLineHorizontal 40.273,487.339,509.245,497.839 'homes have begun to arise as companies attempt to open up new markets and opportunities.\\n'>\n",
            "<LTTextLineHorizontal 40.273,450.580,524.878,465.580 'False assumptions\\xa0can blow your company\\xa0completely oﬀ-course\\xa0\\n'>\n",
            "<LTTextLineHorizontal 40.273,429.589,552.862,440.089 'We don’t yet\\xa0fully\\xa0understand what people\\xa0—\\xa0employees and consumers alike\\xa0—\\xa0can\\xa0cope\\xa0with and for\\n'>\n",
            "<LTTextLineHorizontal 40.273,413.089,548.914,423.589 'how long.\\xa0Though\\xa0we\\xa0were\\xa0all\\xa0pleasantly surprised by people’s\\xa0fortitude\\xa0and\\xa0\\x00lexibility\\xa0so far, we\\xa0can’t\\n'>\n",
            "<LTTextLineHorizontal 40.273,396.589,289.848,407.089 'assume\\xa0their\\xa0psychological strength\\xa0inde\\x00initely.\\xa0\\xa0\\n'>\n",
            "<LTTextLineHorizontal 40.273,363.589,522.002,374.089 'While some companies have been quick to get rid of physical spaces, we should not assume the\\n'>\n",
            "<LTTextLineHorizontal 40.273,347.089,552.106,357.589 'behaviors and productivity of the last four months will last forever. People sheltered in place once, but\\n'>\n",
            "<LTTextLineHorizontal 40.273,330.589,547.129,341.089 'they may not again. People have made extraordinary sacri\\x00ices and it has taken incredible strength to\\n'>\n",
            "<LTTextLineHorizontal 40.273,314.089,277.720,324.589 'make the past four to six months manageable.\\xa0\\xa0\\n'>\n",
            "<LTTextLineHorizontal 40.273,281.089,545.396,291.589 'So don’t expect people will work all night while taking care of their kids all day. Don’t assume the two\\n'>\n",
            "<LTTextLineHorizontal 40.273,264.589,569.956,275.089 'hours of a commute that people are spared should be given\\xa0back\\xa0to work. Don’t assume more free time in\\n'>\n",
            "<LTTextLineHorizontal 40.273,248.089,539.390,258.589 'their day means more productivity.\\xa0Constantly correcting course with people\\xa0in mind\\xa0must be a top\\n'>\n",
            "<LTTextLineHorizontal 40.273,231.589,253.308,242.089 'priority to make this\\xa0recovery\\xa0sustainable.\\xa0\\n'>\n",
            "<LTTextLineHorizontal 112.988,165.898,538.688,174.898 'G LO BA L   M A N AG I N G   D I R ECTO R   –   T H O U G H T   L E A D E RS H I P,   AC C E N T U R E   R E S E A RC H\\n'>\n",
            "<LTTextLineHorizontal 112.988,181.651,187.346,195.151 'Paul Nunes\\n'>\n",
            "<LTTextLineHorizontal 120.781,138.805,130.951,152.365 '\\uf239\\n'>\n",
            "<LTTextLineHorizontal 161.434,140.680,171.169,151.240 '\\uf243\\n'>\n",
            "<LTTextLineHorizontal 29.000,54.796,144.002,72.796 'Recent posts\\n'>\n",
            "<LTTextLineHorizontal 26.453,15.305,473.293,23.305 'https://www.accenture.com/us-en/blogs/accenture-research/false-assumptions-that-will-thwart-your-covid-19-course-correction\\n'>\n",
            "<LTTextLineHorizontal 574.406,15.305,585.512,23.305 '3/5\\n'>\n",
            "<LTTextLineHorizontal 522.770,39.898,579.499,47.458 'Cookies Settings\\n'>\n",
            "<LTTextLineHorizontal 26.453,768.305,62.043,776.305 '4/12/2021\\n'>\n",
            "<LTTextLineHorizontal 222.625,768.305,455.180,776.305 'Assumptions Behind Your COVID Course Corrections | Accenture\\n'>\n",
            "<LTTextLineHorizontal 556.613,733.750,570.113,751.750 '\\uf4a5\\n'>\n",
            "<LTTextLineHorizontal 71.023,543.888,408.685,557.388 'How to overcome three pitfalls of working virtually\\n'>\n",
            "<LTTextLineHorizontal 71.023,520.648,145.390,529.648 'AUGUST 3, 2020\\n'>\n",
            "<LTTextLineHorizontal 71.023,470.839,111.774,481.339 'virtual...\\n'>\n",
            "<LTTextLineHorizontal 71.023,487.339,556.900,497.839 \"Accenture's blog explains what can leaders do to guard against the unintended consequences of\\n\">\n",
            "<LTTextLineHorizontal 71.023,224.388,448.416,237.888 'What gardening taught me about research in a pandemic\\n'>\n",
            "<LTTextLineHorizontal 71.023,201.148,128.362,210.148 'JULY 2, 2020\\n'>\n",
            "<LTTextLineHorizontal 71.023,151.339,140.481,161.839 'have a lot in...\\n'>\n",
            "<LTTextLineHorizontal 71.023,167.839,532.823,178.339 'Raghav Narsalay from Accenture Research shares his discovery that gardening and research\\n'>\n",
            "<LTTextLineHorizontal 26.453,15.305,473.293,23.305 'https://www.accenture.com/us-en/blogs/accenture-research/false-assumptions-that-will-thwart-your-covid-19-course-correction\\n'>\n",
            "<LTTextLineHorizontal 574.406,15.305,585.512,23.305 '4/5\\n'>\n",
            "<LTTextLineHorizontal 522.770,39.898,579.499,47.458 'Cookies Settings\\n'>\n",
            "<LTTextLineHorizontal 26.453,768.305,62.043,776.305 '4/12/2021\\n'>\n",
            "<LTTextLineHorizontal 222.625,768.305,455.180,776.305 'Assumptions Behind Your COVID Course Corrections | Accenture\\n'>\n",
            "<LTTextLineHorizontal 556.613,733.750,570.113,751.750 '\\uf4a5\\n'>\n",
            "<LTTextLineHorizontal 71.023,640.638,467.531,654.138 '3 powerful ways the pandemic is changing research forever\\n'>\n",
            "<LTTextLineHorizontal 71.023,617.398,136.120,626.398 'JUNE 23, 2020\\n'>\n",
            "<LTTextLineHorizontal 71.023,567.589,199.386,578.089 'researchers work in this...\\n'>\n",
            "<LTTextLineHorizontal 71.023,584.089,517.430,594.589 'Francis Hintermann, head of Accenture Research, explains the recent changes in the way\\n'>\n",
            "<LTTextLineHorizontal 40.273,483.901,207.430,497.401 \"Subscribe to Accenture's\\n\">\n",
            "<LTTextLineHorizontal 40.273,468.151,136.245,481.651 'Research Blog\\n'>\n",
            "<LTTextLineHorizontal 247.273,480.631,307.963,491.131 'SUBSCRIBE\\n'>\n",
            "<LTTextLineHorizontal 40.227,344.089,93.052,354.589 'ABOUT US\\n'>\n",
            "<LTTextLineHorizontal 225.219,344.089,292.072,354.589 'CONTACT US\\n'>\n",
            "<LTTextLineHorizontal 410.211,344.089,457.230,354.589 'CAREERS\\n'>\n",
            "<LTTextLineHorizontal 40.227,291.589,100.528,302.089 'LOCATIONS\\n'>\n",
            "<LTTextLineHorizontal 101.504,236.294,111.741,249.944 '\\uf239\\n'>\n",
            "<LTTextLineHorizontal 234.529,237.438,244.209,247.938 '\\uf243\\n'>\n",
            "<LTTextLineHorizontal 369.939,236.294,375.058,249.944 '\\uf231\\n'>\n",
            "<LTTextLineHorizontal 500.744,237.438,511.244,247.938 '\\uf24d\\n'>\n",
            "<LTTextLineHorizontal 40.250,156.249,112.132,164.499 'Privacy Statement\\n'>\n",
            "<LTTextLineHorizontal 137.809,156.249,214.814,164.499 'Terms & Conditions\\n'>\n",
            "<LTTextLineHorizontal 123.383,155.566,126.563,167.566 ' \\n'>\n",
            "<LTTextLineHorizontal 226.074,155.566,293.803,167.566 '  Cookie Policy\\n'>\n",
            "<LTTextLineHorizontal 305.059,155.566,412.495,167.566 '  Accessibility Statement\\n'>\n",
            "<LTTextLineHorizontal 423.746,155.566,426.926,167.566 ' \\n'>\n",
            "<LTTextLineHorizontal 438.172,156.249,470.891,164.499 'Sitemap\\n'>\n",
            "<LTTextLineHorizontal 40.250,114.999,214.564,123.249 'Do Not Sell My Personal Information (for CA)\\n'>\n",
            "<LTTextLineHorizontal 40.238,66.249,193.754,74.499 '© 2021 Accenture. All Rights Reserved.\\n'>\n",
            "<LTTextLineHorizontal 26.453,15.305,473.293,23.305 'https://www.accenture.com/us-en/blogs/accenture-research/false-assumptions-that-will-thwart-your-covid-19-course-correction\\n'>\n",
            "<LTTextLineHorizontal 574.406,15.305,585.512,23.305 '5/5\\n'>\n",
            "<LTTextLineHorizontal 522.770,39.898,579.499,47.458 'Cookies Settings\\n'>\n"
          ],
          "name": "stdout"
        }
      ]
    },
    {
      "cell_type": "markdown",
      "metadata": {
        "id": "l4UBw1CGIC95"
      },
      "source": [
        "EXAMPLE"
      ]
    },
    {
      "cell_type": "code",
      "metadata": {
        "colab": {
          "base_uri": "https://localhost:8080/",
          "height": 37
        },
        "id": "oCoWiNDw0QGm",
        "outputId": "a9401d51-ccb2-4d4b-9fd3-7032295f861e"
      },
      "source": [
        "pdf_44 = pdfquery.PDFQuery(\"/content/IRS_1040A.pdf\")\n",
        "pdf_44.load()\n",
        "label = pdf_44.pq('LTTextLineHorizontal:contains(\"Your first name and initial\")')\n",
        "left_corner = float(label.attr('x0'))\n",
        "bottom_corner = float(label.attr('y0'))\n",
        "name = pdf_44.pq('LTTextLineHorizontal:in_bbox(\"%s, %s, %s, %s\")' % (left_corner, bottom_corner-30, left_corner+150, bottom_corner)).text()\n",
        "name\n"
      ],
      "execution_count": 60,
      "outputs": [
        {
          "output_type": "execute_result",
          "data": {
            "application/vnd.google.colaboratory.intrinsic+json": {
              "type": "string"
            },
            "text/plain": [
              "'John E.'"
            ]
          },
          "metadata": {},
          "execution_count": 60
        }
      ]
    },
    {
      "cell_type": "markdown",
      "metadata": {
        "id": "PddfIrd0Ilye"
      },
      "source": [
        "garbage"
      ]
    },
    {
      "cell_type": "code",
      "metadata": {
        "id": "wqZZUF8TwpSh"
      },
      "source": [
        "def clean_text_data(text):\n",
        "      return text.split(':')[1]"
      ],
      "execution_count": 64,
      "outputs": []
    },
    {
      "cell_type": "code",
      "metadata": {
        "colab": {
          "base_uri": "https://localhost:8080/",
          "height": 164
        },
        "id": "V5iCa4RewtYM",
        "outputId": "d4983195-24b1-4119-b909-a4f692ce33fd"
      },
      "source": [
        "Date = clean_text_data(pdf_1.pq('<LTTextLineHorizontal : contains(\"Copyright\")').text())"
      ],
      "execution_count": 63,
      "outputs": [
        {
          "output_type": "error",
          "ename": "AttributeError",
          "evalue": "ignored",
          "traceback": [
            "\u001b[0;31m---------------------------------------------------------------------------\u001b[0m",
            "\u001b[0;31mAttributeError\u001b[0m                            Traceback (most recent call last)",
            "\u001b[0;32m<ipython-input-63-e0a933b215d1>\u001b[0m in \u001b[0;36m<module>\u001b[0;34m()\u001b[0m\n\u001b[0;32m----> 1\u001b[0;31m \u001b[0mDate\u001b[0m \u001b[0;34m=\u001b[0m \u001b[0mclean_text_data\u001b[0m\u001b[0;34m(\u001b[0m\u001b[0mpdf_1\u001b[0m\u001b[0;34m.\u001b[0m\u001b[0mpq\u001b[0m\u001b[0;34m(\u001b[0m\u001b[0;34m'<LTTextLineHorizontal : contains(\"Copyright\")'\u001b[0m\u001b[0;34m)\u001b[0m\u001b[0;34m.\u001b[0m\u001b[0mtext\u001b[0m\u001b[0;34m(\u001b[0m\u001b[0;34m)\u001b[0m\u001b[0;34m)\u001b[0m\u001b[0;34m\u001b[0m\u001b[0;34m\u001b[0m\u001b[0m\n\u001b[0m",
            "\u001b[0;31mAttributeError\u001b[0m: 'str' object has no attribute 'pq'"
          ]
        }
      ]
    },
    {
      "cell_type": "code",
      "metadata": {
        "colab": {
          "base_uri": "https://localhost:8080/",
          "height": 215
        },
        "id": "ludeSqaumBgB",
        "outputId": "b0e0bffa-29b5-4f79-9cb6-571ada87e031"
      },
      "source": [
        "from pdfminer.high_level import extract_pages \n",
        "from pdfminer.layout import LTTextContainer \n",
        "for page_layout in extract_pages(\"/content/june.pdf\"):\n",
        "    for element in page_layout:\n",
        "        if isinstance(element, LTTextBoxHorizontal):\n",
        "            print(element.get_text())"
      ],
      "execution_count": 31,
      "outputs": [
        {
          "output_type": "error",
          "ename": "TypeError",
          "evalue": "ignored",
          "traceback": [
            "\u001b[0;31m---------------------------------------------------------------------------\u001b[0m",
            "\u001b[0;31mTypeError\u001b[0m                                 Traceback (most recent call last)",
            "\u001b[0;32m<ipython-input-31-f5f6ae9a5419>\u001b[0m in \u001b[0;36m<module>\u001b[0;34m()\u001b[0m\n\u001b[1;32m      3\u001b[0m \u001b[0;32mfor\u001b[0m \u001b[0mpage_layout\u001b[0m \u001b[0;32min\u001b[0m \u001b[0mextract_pages\u001b[0m\u001b[0;34m(\u001b[0m\u001b[0;34m\"/content/june.pdf\"\u001b[0m\u001b[0;34m)\u001b[0m\u001b[0;34m:\u001b[0m\u001b[0;34m\u001b[0m\u001b[0;34m\u001b[0m\u001b[0m\n\u001b[1;32m      4\u001b[0m     \u001b[0;32mfor\u001b[0m \u001b[0melement\u001b[0m \u001b[0;32min\u001b[0m \u001b[0mpage_layout\u001b[0m\u001b[0;34m:\u001b[0m\u001b[0;34m\u001b[0m\u001b[0;34m\u001b[0m\u001b[0m\n\u001b[0;32m----> 5\u001b[0;31m         \u001b[0;32mif\u001b[0m \u001b[0misinstance\u001b[0m\u001b[0;34m(\u001b[0m\u001b[0melement\u001b[0m\u001b[0;34m,\u001b[0m \u001b[0mLTTextBoxHorizontal\u001b[0m\u001b[0;34m)\u001b[0m\u001b[0;34m:\u001b[0m\u001b[0;34m\u001b[0m\u001b[0;34m\u001b[0m\u001b[0m\n\u001b[0m\u001b[1;32m      6\u001b[0m             \u001b[0mprint\u001b[0m\u001b[0;34m(\u001b[0m\u001b[0melement\u001b[0m\u001b[0;34m.\u001b[0m\u001b[0mget_text\u001b[0m\u001b[0;34m(\u001b[0m\u001b[0;34m)\u001b[0m\u001b[0;34m)\u001b[0m\u001b[0;34m\u001b[0m\u001b[0;34m\u001b[0m\u001b[0m\n",
            "\u001b[0;31mTypeError\u001b[0m: isinstance() arg 2 must be a type or tuple of types"
          ]
        }
      ]
    },
    {
      "cell_type": "code",
      "metadata": {
        "colab": {
          "base_uri": "https://localhost:8080/",
          "height": 232
        },
        "id": "XBYRbWazkhRi",
        "outputId": "f48d6f4e-8057-4db2-bea0-fa0dff20f646"
      },
      "source": [
        "from pdfminer.high_level import extract_pages\n",
        "\n",
        "for page_layout in extract_pages(\"/content/june.pdf\"):\n",
        "    for element in page_layout:\n",
        "        if isinstance(element, LTTextBoxHorizontal):\n",
        "            print(element.get_text())\n",
        "      "
      ],
      "execution_count": 28,
      "outputs": [
        {
          "output_type": "error",
          "ename": "TypeError",
          "evalue": "ignored",
          "traceback": [
            "\u001b[0;31m---------------------------------------------------------------------------\u001b[0m",
            "\u001b[0;31mTypeError\u001b[0m                                 Traceback (most recent call last)",
            "\u001b[0;32m<ipython-input-28-64b24ab3615e>\u001b[0m in \u001b[0;36m<module>\u001b[0;34m()\u001b[0m\n\u001b[1;32m      3\u001b[0m \u001b[0;32mfor\u001b[0m \u001b[0mpage_layout\u001b[0m \u001b[0;32min\u001b[0m \u001b[0mextract_pages\u001b[0m\u001b[0;34m(\u001b[0m\u001b[0;34m\"/content/june.pdf\"\u001b[0m\u001b[0;34m)\u001b[0m\u001b[0;34m:\u001b[0m\u001b[0;34m\u001b[0m\u001b[0;34m\u001b[0m\u001b[0m\n\u001b[1;32m      4\u001b[0m     \u001b[0;32mfor\u001b[0m \u001b[0melement\u001b[0m \u001b[0;32min\u001b[0m \u001b[0mpage_layout\u001b[0m\u001b[0;34m:\u001b[0m\u001b[0;34m\u001b[0m\u001b[0;34m\u001b[0m\u001b[0m\n\u001b[0;32m----> 5\u001b[0;31m         \u001b[0;32mif\u001b[0m \u001b[0misinstance\u001b[0m\u001b[0;34m(\u001b[0m\u001b[0melement\u001b[0m\u001b[0;34m,\u001b[0m \u001b[0mLTTextBoxHorizontal\u001b[0m\u001b[0;34m)\u001b[0m\u001b[0;34m:\u001b[0m\u001b[0;34m\u001b[0m\u001b[0;34m\u001b[0m\u001b[0m\n\u001b[0m\u001b[1;32m      6\u001b[0m             \u001b[0mprint\u001b[0m\u001b[0;34m(\u001b[0m\u001b[0melement\u001b[0m\u001b[0;34m.\u001b[0m\u001b[0mget_text\u001b[0m\u001b[0;34m(\u001b[0m\u001b[0;34m)\u001b[0m\u001b[0;34m)\u001b[0m\u001b[0;34m\u001b[0m\u001b[0;34m\u001b[0m\u001b[0m\n\u001b[1;32m      7\u001b[0m \u001b[0;34m\u001b[0m\u001b[0m\n",
            "\u001b[0;31mTypeError\u001b[0m: isinstance() arg 2 must be a type or tuple of types"
          ]
        }
      ]
    },
    {
      "cell_type": "code",
      "metadata": {
        "id": "1W7bpZHYkg1X"
      },
      "source": [
        ""
      ],
      "execution_count": null,
      "outputs": []
    },
    {
      "cell_type": "code",
      "metadata": {
        "colab": {
          "base_uri": "https://localhost:8080/",
          "height": 351
        },
        "id": "_1l1cQ6bjsex",
        "outputId": "71860f0f-e17f-4fb5-eee8-63549d07f47f"
      },
      "source": [
        "from pdfminer.pdfparser import PDFParser \n",
        "from pdfminer.pdfdocument import PDFDocument\n",
        "# Open a PDF document.\n",
        "fp = open('/content/june.pdf', 'rb')\n",
        "parser = PDFParser(fp)\n",
        "document = PDFDocument(parser)\n",
        "# Get the outlines of the document.\n",
        "outlines = document.get_outlines()\n",
        "for (level,title,dest,a,se) in outlines:\n",
        "    print (level, title)"
      ],
      "execution_count": 22,
      "outputs": [
        {
          "output_type": "error",
          "ename": "PDFNoOutlines",
          "evalue": "ignored",
          "traceback": [
            "\u001b[0;31m---------------------------------------------------------------------------\u001b[0m",
            "\u001b[0;31mPDFNoOutlines\u001b[0m                             Traceback (most recent call last)",
            "\u001b[0;32m<ipython-input-22-a7b92bb6b275>\u001b[0m in \u001b[0;36m<module>\u001b[0;34m()\u001b[0m\n\u001b[1;32m      6\u001b[0m \u001b[0mdocument\u001b[0m \u001b[0;34m=\u001b[0m \u001b[0mPDFDocument\u001b[0m\u001b[0;34m(\u001b[0m\u001b[0mparser\u001b[0m\u001b[0;34m)\u001b[0m\u001b[0;34m\u001b[0m\u001b[0;34m\u001b[0m\u001b[0m\n\u001b[1;32m      7\u001b[0m \u001b[0;31m# Get the outlines of the document.\u001b[0m\u001b[0;34m\u001b[0m\u001b[0;34m\u001b[0m\u001b[0;34m\u001b[0m\u001b[0m\n\u001b[0;32m----> 8\u001b[0;31m \u001b[0moutlines\u001b[0m \u001b[0;34m=\u001b[0m \u001b[0mdocument\u001b[0m\u001b[0;34m.\u001b[0m\u001b[0mget_outlines\u001b[0m\u001b[0;34m(\u001b[0m\u001b[0;34m)\u001b[0m\u001b[0;34m\u001b[0m\u001b[0;34m\u001b[0m\u001b[0m\n\u001b[0m\u001b[1;32m      9\u001b[0m \u001b[0;32mfor\u001b[0m \u001b[0;34m(\u001b[0m\u001b[0mlevel\u001b[0m\u001b[0;34m,\u001b[0m\u001b[0mtitle\u001b[0m\u001b[0;34m,\u001b[0m\u001b[0mdest\u001b[0m\u001b[0;34m,\u001b[0m\u001b[0ma\u001b[0m\u001b[0;34m,\u001b[0m\u001b[0mse\u001b[0m\u001b[0;34m)\u001b[0m \u001b[0;32min\u001b[0m \u001b[0moutlines\u001b[0m\u001b[0;34m:\u001b[0m\u001b[0;34m\u001b[0m\u001b[0;34m\u001b[0m\u001b[0m\n\u001b[1;32m     10\u001b[0m     \u001b[0mprint\u001b[0m \u001b[0;34m(\u001b[0m\u001b[0mlevel\u001b[0m\u001b[0;34m,\u001b[0m \u001b[0mtitle\u001b[0m\u001b[0;34m)\u001b[0m\u001b[0;34m\u001b[0m\u001b[0;34m\u001b[0m\u001b[0m\n",
            "\u001b[0;32m/usr/local/lib/python3.7/dist-packages/pdfminer/pdfdocument.py\u001b[0m in \u001b[0;36mget_outlines\u001b[0;34m(self)\u001b[0m\n\u001b[1;32m    724\u001b[0m     \u001b[0;32mdef\u001b[0m \u001b[0mget_outlines\u001b[0m\u001b[0;34m(\u001b[0m\u001b[0mself\u001b[0m\u001b[0;34m)\u001b[0m\u001b[0;34m:\u001b[0m\u001b[0;34m\u001b[0m\u001b[0;34m\u001b[0m\u001b[0m\n\u001b[1;32m    725\u001b[0m         \u001b[0;32mif\u001b[0m \u001b[0;34m'Outlines'\u001b[0m \u001b[0;32mnot\u001b[0m \u001b[0;32min\u001b[0m \u001b[0mself\u001b[0m\u001b[0;34m.\u001b[0m\u001b[0mcatalog\u001b[0m\u001b[0;34m:\u001b[0m\u001b[0;34m\u001b[0m\u001b[0;34m\u001b[0m\u001b[0m\n\u001b[0;32m--> 726\u001b[0;31m             \u001b[0;32mraise\u001b[0m \u001b[0mPDFNoOutlines\u001b[0m\u001b[0;34m\u001b[0m\u001b[0;34m\u001b[0m\u001b[0m\n\u001b[0m\u001b[1;32m    727\u001b[0m \u001b[0;34m\u001b[0m\u001b[0m\n\u001b[1;32m    728\u001b[0m         \u001b[0;32mdef\u001b[0m \u001b[0msearch\u001b[0m\u001b[0;34m(\u001b[0m\u001b[0mentry\u001b[0m\u001b[0;34m,\u001b[0m \u001b[0mlevel\u001b[0m\u001b[0;34m)\u001b[0m\u001b[0;34m:\u001b[0m\u001b[0;34m\u001b[0m\u001b[0;34m\u001b[0m\u001b[0m\n",
            "\u001b[0;31mPDFNoOutlines\u001b[0m: "
          ]
        }
      ]
    },
    {
      "cell_type": "code",
      "metadata": {
        "id": "xy2vad8YfECj"
      },
      "source": [
        "from pdfminer.pdfinterp import PDFResourceManager"
      ],
      "execution_count": 10,
      "outputs": []
    },
    {
      "cell_type": "code",
      "metadata": {
        "colab": {
          "base_uri": "https://localhost:8080/",
          "height": 215
        },
        "id": "8sclF0TReKTx",
        "outputId": "b3e03f38-e606-455d-e70e-6baee616629e"
      },
      "source": [
        "from pdfminer.layout import LAParams\n",
        "from pdfminer.converter import  PDFPageAggregator \n",
        "from pdfminer.pdfpage import PDFPage\n",
        "from pdfminer.layout import LTTextBoxHorizontal\n",
        "document = open(\"/content/june.pdf\", 'rb') #Create resource manager\n",
        "rsrcmgr = PDFResourceManager()\n",
        "# Set parameters for analysis. \n",
        "laparams = LAParams()\n",
        "# Create a PDF page aggregator object.\n",
        "device = PDFPageAggregator(rsrcmgr, laparams=laparams) \n",
        "interpreter = PDFPageInterpreter(rsrcmgr, device)\n",
        "for page in PDFPage.get_pages(document):\n",
        "    interpreter.process_page(page)\n",
        "# receive the LTPage object for the page. \n",
        "    layout = device.get_result()\n",
        "    for element in layout:\n",
        "        if instanceof(element, LTTextBoxHorizontal): \n",
        "            print(element.get_text())"
      ],
      "execution_count": 17,
      "outputs": [
        {
          "output_type": "error",
          "ename": "NameError",
          "evalue": "ignored",
          "traceback": [
            "\u001b[0;31m---------------------------------------------------------------------------\u001b[0m",
            "\u001b[0;31mNameError\u001b[0m                                 Traceback (most recent call last)",
            "\u001b[0;32m<ipython-input-17-8e6b277be17e>\u001b[0m in \u001b[0;36m<module>\u001b[0;34m()\u001b[0m\n\u001b[1;32m     15\u001b[0m     \u001b[0mlayout\u001b[0m \u001b[0;34m=\u001b[0m \u001b[0mdevice\u001b[0m\u001b[0;34m.\u001b[0m\u001b[0mget_result\u001b[0m\u001b[0;34m(\u001b[0m\u001b[0;34m)\u001b[0m\u001b[0;34m\u001b[0m\u001b[0;34m\u001b[0m\u001b[0m\n\u001b[1;32m     16\u001b[0m     \u001b[0;32mfor\u001b[0m \u001b[0melement\u001b[0m \u001b[0;32min\u001b[0m \u001b[0mlayout\u001b[0m\u001b[0;34m:\u001b[0m\u001b[0;34m\u001b[0m\u001b[0;34m\u001b[0m\u001b[0m\n\u001b[0;32m---> 17\u001b[0;31m         \u001b[0;32mif\u001b[0m \u001b[0minstanceof\u001b[0m\u001b[0;34m(\u001b[0m\u001b[0melement\u001b[0m\u001b[0;34m,\u001b[0m \u001b[0mLTTextBoxHorizontal\u001b[0m\u001b[0;34m)\u001b[0m\u001b[0;34m:\u001b[0m\u001b[0;34m\u001b[0m\u001b[0;34m\u001b[0m\u001b[0m\n\u001b[0m\u001b[1;32m     18\u001b[0m             \u001b[0mprint\u001b[0m\u001b[0;34m(\u001b[0m\u001b[0melement\u001b[0m\u001b[0;34m.\u001b[0m\u001b[0mget_text\u001b[0m\u001b[0;34m(\u001b[0m\u001b[0;34m)\u001b[0m\u001b[0;34m)\u001b[0m\u001b[0;34m\u001b[0m\u001b[0;34m\u001b[0m\u001b[0m\n",
            "\u001b[0;31mNameError\u001b[0m: name 'instanceof' is not defined"
          ]
        }
      ]
    },
    {
      "cell_type": "code",
      "metadata": {
        "colab": {
          "base_uri": "https://localhost:8080/",
          "height": 358
        },
        "id": "W84UVbHeH9RN",
        "outputId": "a0e0a875-68b1-4359-b010-94804ee75fcf"
      },
      "source": [
        "import PyPDF2\n",
        "# pdf file object\n",
        "# you can find find the pdf file with complete code in below\n",
        "pdfFileObj = open('/content/file.pdf', 'rb')\n",
        "# pdf reader object\n",
        "pdfReader = PyPDF2.PdfFileReader(pdfFileObj)\n",
        "# number of pages in pdf\n",
        "print(pdfReader.numPages)\n",
        "# a page object\n",
        "pageObj = pdfReader.getPage(1)\n",
        "# extracting text from page.\n",
        "# this will print the text you can also save that into String\n",
        "print(pageObj.extractText())"
      ],
      "execution_count": null,
      "outputs": [
        {
          "output_type": "stream",
          "text": [
            "49\n"
          ],
          "name": "stdout"
        },
        {
          "output_type": "error",
          "ename": "TypeError",
          "evalue": "ignored",
          "traceback": [
            "\u001b[0;31m---------------------------------------------------------------------------\u001b[0m",
            "\u001b[0;31mTypeError\u001b[0m                                 Traceback (most recent call last)",
            "\u001b[0;32m<ipython-input-9-e001bf6abb0e>\u001b[0m in \u001b[0;36m<module>\u001b[0;34m()\u001b[0m\n\u001b[1;32m     11\u001b[0m \u001b[0;31m# extracting text from page.\u001b[0m\u001b[0;34m\u001b[0m\u001b[0;34m\u001b[0m\u001b[0;34m\u001b[0m\u001b[0m\n\u001b[1;32m     12\u001b[0m \u001b[0;31m# this will print the text you can also save that into String\u001b[0m\u001b[0;34m\u001b[0m\u001b[0;34m\u001b[0m\u001b[0;34m\u001b[0m\u001b[0m\n\u001b[0;32m---> 13\u001b[0;31m \u001b[0mprint\u001b[0m\u001b[0;34m(\u001b[0m\u001b[0mpageObj\u001b[0m\u001b[0;34m.\u001b[0m\u001b[0mextractText\u001b[0m\u001b[0;34m(\u001b[0m\u001b[0;34m)\u001b[0m\u001b[0;34m)\u001b[0m\u001b[0;34m\u001b[0m\u001b[0;34m\u001b[0m\u001b[0m\n\u001b[0m",
            "\u001b[0;32m/usr/local/lib/python3.7/dist-packages/PyPDF2/pdf.py\u001b[0m in \u001b[0;36mextractText\u001b[0;34m(self)\u001b[0m\n\u001b[1;32m   2593\u001b[0m         \u001b[0mcontent\u001b[0m \u001b[0;34m=\u001b[0m \u001b[0mself\u001b[0m\u001b[0;34m[\u001b[0m\u001b[0;34m\"/Contents\"\u001b[0m\u001b[0;34m]\u001b[0m\u001b[0;34m.\u001b[0m\u001b[0mgetObject\u001b[0m\u001b[0;34m(\u001b[0m\u001b[0;34m)\u001b[0m\u001b[0;34m\u001b[0m\u001b[0;34m\u001b[0m\u001b[0m\n\u001b[1;32m   2594\u001b[0m         \u001b[0;32mif\u001b[0m \u001b[0;32mnot\u001b[0m \u001b[0misinstance\u001b[0m\u001b[0;34m(\u001b[0m\u001b[0mcontent\u001b[0m\u001b[0;34m,\u001b[0m \u001b[0mContentStream\u001b[0m\u001b[0;34m)\u001b[0m\u001b[0;34m:\u001b[0m\u001b[0;34m\u001b[0m\u001b[0;34m\u001b[0m\u001b[0m\n\u001b[0;32m-> 2595\u001b[0;31m             \u001b[0mcontent\u001b[0m \u001b[0;34m=\u001b[0m \u001b[0mContentStream\u001b[0m\u001b[0;34m(\u001b[0m\u001b[0mcontent\u001b[0m\u001b[0;34m,\u001b[0m \u001b[0mself\u001b[0m\u001b[0;34m.\u001b[0m\u001b[0mpdf\u001b[0m\u001b[0;34m)\u001b[0m\u001b[0;34m\u001b[0m\u001b[0;34m\u001b[0m\u001b[0m\n\u001b[0m\u001b[1;32m   2596\u001b[0m         \u001b[0;31m# Note: we check all strings are TextStringObjects.  ByteStringObjects\u001b[0m\u001b[0;34m\u001b[0m\u001b[0;34m\u001b[0m\u001b[0;34m\u001b[0m\u001b[0m\n\u001b[1;32m   2597\u001b[0m         \u001b[0;31m# are strings where the byte->string encoding was unknown, so adding\u001b[0m\u001b[0;34m\u001b[0m\u001b[0;34m\u001b[0m\u001b[0;34m\u001b[0m\u001b[0m\n",
            "\u001b[0;32m/usr/local/lib/python3.7/dist-packages/PyPDF2/pdf.py\u001b[0m in \u001b[0;36m__init__\u001b[0;34m(self, stream, pdf)\u001b[0m\n\u001b[1;32m   2671\u001b[0m             \u001b[0mstream\u001b[0m \u001b[0;34m=\u001b[0m \u001b[0mBytesIO\u001b[0m\u001b[0;34m(\u001b[0m\u001b[0mb_\u001b[0m\u001b[0;34m(\u001b[0m\u001b[0mdata\u001b[0m\u001b[0;34m)\u001b[0m\u001b[0;34m)\u001b[0m\u001b[0;34m\u001b[0m\u001b[0;34m\u001b[0m\u001b[0m\n\u001b[1;32m   2672\u001b[0m         \u001b[0;32melse\u001b[0m\u001b[0;34m:\u001b[0m\u001b[0;34m\u001b[0m\u001b[0;34m\u001b[0m\u001b[0m\n\u001b[0;32m-> 2673\u001b[0;31m             \u001b[0mstream\u001b[0m \u001b[0;34m=\u001b[0m \u001b[0mBytesIO\u001b[0m\u001b[0;34m(\u001b[0m\u001b[0mb_\u001b[0m\u001b[0;34m(\u001b[0m\u001b[0mstream\u001b[0m\u001b[0;34m.\u001b[0m\u001b[0mgetData\u001b[0m\u001b[0;34m(\u001b[0m\u001b[0;34m)\u001b[0m\u001b[0;34m)\u001b[0m\u001b[0;34m)\u001b[0m\u001b[0;34m\u001b[0m\u001b[0;34m\u001b[0m\u001b[0m\n\u001b[0m\u001b[1;32m   2674\u001b[0m         \u001b[0mself\u001b[0m\u001b[0;34m.\u001b[0m\u001b[0m__parseContentStream\u001b[0m\u001b[0;34m(\u001b[0m\u001b[0mstream\u001b[0m\u001b[0;34m)\u001b[0m\u001b[0;34m\u001b[0m\u001b[0;34m\u001b[0m\u001b[0m\n\u001b[1;32m   2675\u001b[0m \u001b[0;34m\u001b[0m\u001b[0m\n",
            "\u001b[0;32m/usr/local/lib/python3.7/dist-packages/PyPDF2/generic.py\u001b[0m in \u001b[0;36mgetData\u001b[0;34m(self)\u001b[0m\n\u001b[1;32m    839\u001b[0m             \u001b[0mdecoded\u001b[0m \u001b[0;34m=\u001b[0m \u001b[0mDecodedStreamObject\u001b[0m\u001b[0;34m(\u001b[0m\u001b[0;34m)\u001b[0m\u001b[0;34m\u001b[0m\u001b[0;34m\u001b[0m\u001b[0m\n\u001b[1;32m    840\u001b[0m \u001b[0;34m\u001b[0m\u001b[0m\n\u001b[0;32m--> 841\u001b[0;31m             \u001b[0mdecoded\u001b[0m\u001b[0;34m.\u001b[0m\u001b[0m_data\u001b[0m \u001b[0;34m=\u001b[0m \u001b[0mfilters\u001b[0m\u001b[0;34m.\u001b[0m\u001b[0mdecodeStreamData\u001b[0m\u001b[0;34m(\u001b[0m\u001b[0mself\u001b[0m\u001b[0;34m)\u001b[0m\u001b[0;34m\u001b[0m\u001b[0;34m\u001b[0m\u001b[0m\n\u001b[0m\u001b[1;32m    842\u001b[0m             \u001b[0;32mfor\u001b[0m \u001b[0mkey\u001b[0m\u001b[0;34m,\u001b[0m \u001b[0mvalue\u001b[0m \u001b[0;32min\u001b[0m \u001b[0mlist\u001b[0m\u001b[0;34m(\u001b[0m\u001b[0mself\u001b[0m\u001b[0;34m.\u001b[0m\u001b[0mitems\u001b[0m\u001b[0;34m(\u001b[0m\u001b[0;34m)\u001b[0m\u001b[0;34m)\u001b[0m\u001b[0;34m:\u001b[0m\u001b[0;34m\u001b[0m\u001b[0;34m\u001b[0m\u001b[0m\n\u001b[1;32m    843\u001b[0m                 \u001b[0;32mif\u001b[0m \u001b[0;32mnot\u001b[0m \u001b[0mkey\u001b[0m \u001b[0;32min\u001b[0m \u001b[0;34m(\u001b[0m\u001b[0;34m\"/Length\"\u001b[0m\u001b[0;34m,\u001b[0m \u001b[0;34m\"/Filter\"\u001b[0m\u001b[0;34m,\u001b[0m \u001b[0;34m\"/DecodeParms\"\u001b[0m\u001b[0;34m)\u001b[0m\u001b[0;34m:\u001b[0m\u001b[0;34m\u001b[0m\u001b[0;34m\u001b[0m\u001b[0m\n",
            "\u001b[0;32m/usr/local/lib/python3.7/dist-packages/PyPDF2/filters.py\u001b[0m in \u001b[0;36mdecodeStreamData\u001b[0;34m(stream)\u001b[0m\n\u001b[1;32m    348\u001b[0m                 \u001b[0mdata\u001b[0m \u001b[0;34m=\u001b[0m \u001b[0mASCIIHexDecode\u001b[0m\u001b[0;34m.\u001b[0m\u001b[0mdecode\u001b[0m\u001b[0;34m(\u001b[0m\u001b[0mdata\u001b[0m\u001b[0;34m)\u001b[0m\u001b[0;34m\u001b[0m\u001b[0;34m\u001b[0m\u001b[0m\n\u001b[1;32m    349\u001b[0m             \u001b[0;32melif\u001b[0m \u001b[0mfilterType\u001b[0m \u001b[0;34m==\u001b[0m \u001b[0;34m\"/LZWDecode\"\u001b[0m \u001b[0;32mor\u001b[0m \u001b[0mfilterType\u001b[0m \u001b[0;34m==\u001b[0m \u001b[0;34m\"/LZW\"\u001b[0m\u001b[0;34m:\u001b[0m\u001b[0;34m\u001b[0m\u001b[0;34m\u001b[0m\u001b[0m\n\u001b[0;32m--> 350\u001b[0;31m                 \u001b[0mdata\u001b[0m \u001b[0;34m=\u001b[0m \u001b[0mLZWDecode\u001b[0m\u001b[0;34m.\u001b[0m\u001b[0mdecode\u001b[0m\u001b[0;34m(\u001b[0m\u001b[0mdata\u001b[0m\u001b[0;34m,\u001b[0m \u001b[0mstream\u001b[0m\u001b[0;34m.\u001b[0m\u001b[0mget\u001b[0m\u001b[0;34m(\u001b[0m\u001b[0;34m\"/DecodeParms\"\u001b[0m\u001b[0;34m)\u001b[0m\u001b[0;34m)\u001b[0m\u001b[0;34m\u001b[0m\u001b[0;34m\u001b[0m\u001b[0m\n\u001b[0m\u001b[1;32m    351\u001b[0m             \u001b[0;32melif\u001b[0m \u001b[0mfilterType\u001b[0m \u001b[0;34m==\u001b[0m \u001b[0;34m\"/ASCII85Decode\"\u001b[0m \u001b[0;32mor\u001b[0m \u001b[0mfilterType\u001b[0m \u001b[0;34m==\u001b[0m \u001b[0;34m\"/A85\"\u001b[0m\u001b[0;34m:\u001b[0m\u001b[0;34m\u001b[0m\u001b[0;34m\u001b[0m\u001b[0m\n\u001b[1;32m    352\u001b[0m                 \u001b[0mdata\u001b[0m \u001b[0;34m=\u001b[0m \u001b[0mASCII85Decode\u001b[0m\u001b[0;34m.\u001b[0m\u001b[0mdecode\u001b[0m\u001b[0;34m(\u001b[0m\u001b[0mdata\u001b[0m\u001b[0;34m)\u001b[0m\u001b[0;34m\u001b[0m\u001b[0;34m\u001b[0m\u001b[0m\n",
            "\u001b[0;32m/usr/local/lib/python3.7/dist-packages/PyPDF2/filters.py\u001b[0m in \u001b[0;36mdecode\u001b[0;34m(data, decodeParams)\u001b[0m\n\u001b[1;32m    253\u001b[0m     \u001b[0;34m@\u001b[0m\u001b[0mstaticmethod\u001b[0m\u001b[0;34m\u001b[0m\u001b[0;34m\u001b[0m\u001b[0m\n\u001b[1;32m    254\u001b[0m     \u001b[0;32mdef\u001b[0m \u001b[0mdecode\u001b[0m\u001b[0;34m(\u001b[0m\u001b[0mdata\u001b[0m\u001b[0;34m,\u001b[0m\u001b[0mdecodeParams\u001b[0m\u001b[0;34m=\u001b[0m\u001b[0;32mNone\u001b[0m\u001b[0;34m)\u001b[0m\u001b[0;34m:\u001b[0m\u001b[0;34m\u001b[0m\u001b[0;34m\u001b[0m\u001b[0m\n\u001b[0;32m--> 255\u001b[0;31m         \u001b[0;32mreturn\u001b[0m \u001b[0mLZWDecode\u001b[0m\u001b[0;34m.\u001b[0m\u001b[0mdecoder\u001b[0m\u001b[0;34m(\u001b[0m\u001b[0mdata\u001b[0m\u001b[0;34m)\u001b[0m\u001b[0;34m.\u001b[0m\u001b[0mdecode\u001b[0m\u001b[0;34m(\u001b[0m\u001b[0;34m)\u001b[0m\u001b[0;34m\u001b[0m\u001b[0;34m\u001b[0m\u001b[0m\n\u001b[0m\u001b[1;32m    256\u001b[0m \u001b[0;34m\u001b[0m\u001b[0m\n\u001b[1;32m    257\u001b[0m \u001b[0;34m\u001b[0m\u001b[0m\n",
            "\u001b[0;32m/usr/local/lib/python3.7/dist-packages/PyPDF2/filters.py\u001b[0m in \u001b[0;36mdecode\u001b[0;34m(self)\u001b[0m\n\u001b[1;32m    226\u001b[0m             \u001b[0;32mwhile\u001b[0m \u001b[0;32mTrue\u001b[0m\u001b[0;34m:\u001b[0m\u001b[0;34m\u001b[0m\u001b[0;34m\u001b[0m\u001b[0m\n\u001b[1;32m    227\u001b[0m                 \u001b[0mpW\u001b[0m \u001b[0;34m=\u001b[0m \u001b[0mcW\u001b[0m\u001b[0;34m;\u001b[0m\u001b[0;34m\u001b[0m\u001b[0;34m\u001b[0m\u001b[0m\n\u001b[0;32m--> 228\u001b[0;31m                 \u001b[0mcW\u001b[0m \u001b[0;34m=\u001b[0m \u001b[0mself\u001b[0m\u001b[0;34m.\u001b[0m\u001b[0mnextCode\u001b[0m\u001b[0;34m(\u001b[0m\u001b[0;34m)\u001b[0m\u001b[0;34m;\u001b[0m\u001b[0;34m\u001b[0m\u001b[0;34m\u001b[0m\u001b[0m\n\u001b[0m\u001b[1;32m    229\u001b[0m                 \u001b[0;32mif\u001b[0m \u001b[0mcW\u001b[0m \u001b[0;34m==\u001b[0m \u001b[0;34m-\u001b[0m\u001b[0;36m1\u001b[0m\u001b[0;34m:\u001b[0m\u001b[0;34m\u001b[0m\u001b[0;34m\u001b[0m\u001b[0m\n\u001b[1;32m    230\u001b[0m                     \u001b[0;32mraise\u001b[0m \u001b[0mPdfReadError\u001b[0m\u001b[0;34m(\u001b[0m\u001b[0;34m\"Missed the stop code in LZWDecode!\"\u001b[0m\u001b[0;34m)\u001b[0m\u001b[0;34m\u001b[0m\u001b[0;34m\u001b[0m\u001b[0m\n",
            "\u001b[0;32m/usr/local/lib/python3.7/dist-packages/PyPDF2/filters.py\u001b[0m in \u001b[0;36mnextCode\u001b[0;34m(self)\u001b[0m\n\u001b[1;32m    203\u001b[0m                 \u001b[0;32mif\u001b[0m \u001b[0mself\u001b[0m\u001b[0;34m.\u001b[0m\u001b[0mbytepos\u001b[0m \u001b[0;34m>=\u001b[0m \u001b[0mlen\u001b[0m\u001b[0;34m(\u001b[0m\u001b[0mself\u001b[0m\u001b[0;34m.\u001b[0m\u001b[0mdata\u001b[0m\u001b[0;34m)\u001b[0m\u001b[0;34m:\u001b[0m\u001b[0;34m\u001b[0m\u001b[0;34m\u001b[0m\u001b[0m\n\u001b[1;32m    204\u001b[0m                     \u001b[0;32mreturn\u001b[0m \u001b[0;34m-\u001b[0m\u001b[0;36m1\u001b[0m\u001b[0;34m\u001b[0m\u001b[0;34m\u001b[0m\u001b[0m\n\u001b[0;32m--> 205\u001b[0;31m                 \u001b[0mnextbits\u001b[0m\u001b[0;34m=\u001b[0m\u001b[0mord\u001b[0m\u001b[0;34m(\u001b[0m\u001b[0mself\u001b[0m\u001b[0;34m.\u001b[0m\u001b[0mdata\u001b[0m\u001b[0;34m[\u001b[0m\u001b[0mself\u001b[0m\u001b[0;34m.\u001b[0m\u001b[0mbytepos\u001b[0m\u001b[0;34m]\u001b[0m\u001b[0;34m)\u001b[0m\u001b[0;34m\u001b[0m\u001b[0;34m\u001b[0m\u001b[0m\n\u001b[0m\u001b[1;32m    206\u001b[0m                 \u001b[0mbitsfromhere\u001b[0m\u001b[0;34m=\u001b[0m\u001b[0;36m8\u001b[0m\u001b[0;34m-\u001b[0m\u001b[0mself\u001b[0m\u001b[0;34m.\u001b[0m\u001b[0mbitpos\u001b[0m\u001b[0;34m\u001b[0m\u001b[0;34m\u001b[0m\u001b[0m\n\u001b[1;32m    207\u001b[0m                 \u001b[0;32mif\u001b[0m \u001b[0mbitsfromhere\u001b[0m\u001b[0;34m>\u001b[0m\u001b[0mfillbits\u001b[0m\u001b[0;34m:\u001b[0m\u001b[0;34m\u001b[0m\u001b[0;34m\u001b[0m\u001b[0m\n",
            "\u001b[0;31mTypeError\u001b[0m: ord() expected string of length 1, but int found"
          ]
        }
      ]
    },
    {
      "cell_type": "code",
      "metadata": {
        "colab": {
          "base_uri": "https://localhost:8080/"
        },
        "id": "8gro7jZAPKSm",
        "outputId": "94909e9a-4935-4286-a30a-9ac1eee1cbad"
      },
      "source": [
        "pip install PyPDF2"
      ],
      "execution_count": null,
      "outputs": [
        {
          "output_type": "stream",
          "text": [
            "Collecting PyPDF2\n",
            "  Downloading PyPDF2-1.26.0.tar.gz (77 kB)\n",
            "\u001b[?25l\r\u001b[K     |████▎                           | 10 kB 19.1 MB/s eta 0:00:01\r\u001b[K     |████████▌                       | 20 kB 10.4 MB/s eta 0:00:01\r\u001b[K     |████████████▊                   | 30 kB 8.7 MB/s eta 0:00:01\r\u001b[K     |█████████████████               | 40 kB 8.0 MB/s eta 0:00:01\r\u001b[K     |█████████████████████▏          | 51 kB 5.1 MB/s eta 0:00:01\r\u001b[K     |█████████████████████████▍      | 61 kB 5.6 MB/s eta 0:00:01\r\u001b[K     |█████████████████████████████▋  | 71 kB 5.5 MB/s eta 0:00:01\r\u001b[K     |████████████████████████████████| 77 kB 2.4 MB/s \n",
            "\u001b[?25hBuilding wheels for collected packages: PyPDF2\n",
            "  Building wheel for PyPDF2 (setup.py) ... \u001b[?25l\u001b[?25hdone\n",
            "  Created wheel for PyPDF2: filename=PyPDF2-1.26.0-py3-none-any.whl size=61101 sha256=e4aae4dd210df4743f4b3fe4700c40305a71e5e1759d3231a90ed96db228b600\n",
            "  Stored in directory: /root/.cache/pip/wheels/80/1a/24/648467ade3a77ed20f35cfd2badd32134e96dd25ca811e64b3\n",
            "Successfully built PyPDF2\n",
            "Installing collected packages: PyPDF2\n",
            "Successfully installed PyPDF2-1.26.0\n"
          ],
          "name": "stdout"
        }
      ]
    },
    {
      "cell_type": "code",
      "metadata": {
        "id": "1pX7RgdoS9to"
      },
      "source": [
        "import PyPDF2 as p2\n"
      ],
      "execution_count": null,
      "outputs": []
    },
    {
      "cell_type": "code",
      "metadata": {
        "colab": {
          "base_uri": "https://localhost:8080/",
          "height": 181
        },
        "id": "5goZvdeJItpL",
        "outputId": "a12696ed-c516-4ceb-e061-99672ae16fc3"
      },
      "source": [
        "PDFfile = open(\"/content/file.pdf\", \"rb\")\n",
        "pdfread = p2.PdfFileReader(PDFfile)"
      ],
      "execution_count": null,
      "outputs": [
        {
          "output_type": "error",
          "ename": "FileNotFoundError",
          "evalue": "ignored",
          "traceback": [
            "\u001b[0;31m---------------------------------------------------------------------------\u001b[0m",
            "\u001b[0;31mFileNotFoundError\u001b[0m                         Traceback (most recent call last)",
            "\u001b[0;32m<ipython-input-3-94718eb7a39b>\u001b[0m in \u001b[0;36m<module>\u001b[0;34m()\u001b[0m\n\u001b[0;32m----> 1\u001b[0;31m \u001b[0mPDFfile\u001b[0m \u001b[0;34m=\u001b[0m \u001b[0mopen\u001b[0m\u001b[0;34m(\u001b[0m\u001b[0;34m\"/content/file.pdf\"\u001b[0m\u001b[0;34m,\u001b[0m \u001b[0;34m\"rb\"\u001b[0m\u001b[0;34m)\u001b[0m\u001b[0;34m\u001b[0m\u001b[0;34m\u001b[0m\u001b[0m\n\u001b[0m\u001b[1;32m      2\u001b[0m \u001b[0mpdfread\u001b[0m \u001b[0;34m=\u001b[0m \u001b[0mp2\u001b[0m\u001b[0;34m.\u001b[0m\u001b[0mPdfFileReader\u001b[0m\u001b[0;34m(\u001b[0m\u001b[0mPDFfile\u001b[0m\u001b[0;34m)\u001b[0m\u001b[0;34m\u001b[0m\u001b[0;34m\u001b[0m\u001b[0m\n",
            "\u001b[0;31mFileNotFoundError\u001b[0m: [Errno 2] No such file or directory: '/content/file.pdf'"
          ]
        }
      ]
    },
    {
      "cell_type": "code",
      "metadata": {
        "id": "MTgG-Mu2I4Sw"
      },
      "source": [
        "x = pdfread.getPage(1)\n"
      ],
      "execution_count": null,
      "outputs": []
    },
    {
      "cell_type": "code",
      "metadata": {
        "colab": {
          "base_uri": "https://localhost:8080/"
        },
        "id": "r4-CY4BsKYN6",
        "outputId": "03b2ed91-2f21-4e8d-c5f0-a742861bd5a7"
      },
      "source": [
        "pip install tika"
      ],
      "execution_count": null,
      "outputs": [
        {
          "output_type": "stream",
          "text": [
            "Requirement already satisfied: tika in /usr/local/lib/python2.7/dist-packages (1.24)\n",
            "Requirement already satisfied: setuptools in /usr/local/lib/python2.7/dist-packages (from tika) (44.1.1)\n",
            "Requirement already satisfied: requests in /usr/local/lib/python2.7/dist-packages (from tika) (2.23.0)\n",
            "Requirement already satisfied: certifi>=2017.4.17 in /usr/local/lib/python2.7/dist-packages (from requests->tika) (2019.6.16)\n",
            "Requirement already satisfied: idna<3,>=2.5 in /usr/local/lib/python2.7/dist-packages (from requests->tika) (2.8)\n",
            "Requirement already satisfied: chardet<4,>=3.0.2 in /usr/local/lib/python2.7/dist-packages (from requests->tika) (3.0.4)\n",
            "Requirement already satisfied: urllib3!=1.25.0,!=1.25.1,<1.26,>=1.21.1 in /usr/local/lib/python2.7/dist-packages (from requests->tika) (1.24.3)\n"
          ],
          "name": "stdout"
        }
      ]
    },
    {
      "cell_type": "code",
      "metadata": {
        "colab": {
          "base_uri": "https://localhost:8080/"
        },
        "id": "NmN_ojkvOJwD",
        "outputId": "21f68dc6-a6e4-4843-e034-6e4d1cd31da9"
      },
      "source": [
        "pip install tika"
      ],
      "execution_count": null,
      "outputs": [
        {
          "output_type": "stream",
          "text": [
            "Requirement already satisfied: tika in /usr/local/lib/python2.7/dist-packages (1.24)\n",
            "Requirement already satisfied: setuptools in /usr/local/lib/python2.7/dist-packages (from tika) (44.1.1)\n",
            "Requirement already satisfied: requests in /usr/local/lib/python2.7/dist-packages (from tika) (2.23.0)\n",
            "Requirement already satisfied: certifi>=2017.4.17 in /usr/local/lib/python2.7/dist-packages (from requests->tika) (2019.6.16)\n",
            "Requirement already satisfied: idna<3,>=2.5 in /usr/local/lib/python2.7/dist-packages (from requests->tika) (2.8)\n",
            "Requirement already satisfied: chardet<4,>=3.0.2 in /usr/local/lib/python2.7/dist-packages (from requests->tika) (3.0.4)\n",
            "Requirement already satisfied: urllib3!=1.25.0,!=1.25.1,<1.26,>=1.21.1 in /usr/local/lib/python2.7/dist-packages (from requests->tika) (1.24.3)\n"
          ],
          "name": "stdout"
        }
      ]
    },
    {
      "cell_type": "code",
      "metadata": {
        "colab": {
          "base_uri": "https://localhost:8080/"
        },
        "id": "8GgblioKKblv",
        "outputId": "1decd03e-bbd1-430e-9d01-9153057fd6b0"
      },
      "source": [
        "pip install BeautifulSoup"
      ],
      "execution_count": null,
      "outputs": [
        {
          "output_type": "stream",
          "text": [
            "Collecting BeautifulSoup\n",
            "  Downloading BeautifulSoup-3.2.2-py2-none-any.whl (32 kB)\n",
            "Installing collected packages: BeautifulSoup\n",
            "Successfully installed BeautifulSoup-3.2.2\n"
          ],
          "name": "stdout"
        }
      ]
    },
    {
      "cell_type": "code",
      "metadata": {
        "colab": {
          "base_uri": "https://localhost:8080/",
          "height": 130
        },
        "id": "XsoHyDj5QNsy",
        "outputId": "bf454f10-2e3c-4a30-887c-02f5c03be8e2"
      },
      "source": [
        "mvn clean install"
      ],
      "execution_count": null,
      "outputs": [
        {
          "output_type": "error",
          "ename": "SyntaxError",
          "evalue": "ignored",
          "traceback": [
            "\u001b[0;36m  File \u001b[0;32m\"<ipython-input-32-71d04ba5cd0c>\"\u001b[0;36m, line \u001b[0;32m1\u001b[0m\n\u001b[0;31m    mvn clean install\u001b[0m\n\u001b[0m            ^\u001b[0m\n\u001b[0;31mSyntaxError\u001b[0m\u001b[0;31m:\u001b[0m invalid syntax\n"
          ]
        }
      ]
    },
    {
      "cell_type": "code",
      "metadata": {
        "id": "qxAhSAWzMXrP"
      },
      "source": [
        " No module named 'tika'\n"
      ],
      "execution_count": null,
      "outputs": []
    },
    {
      "cell_type": "code",
      "metadata": {
        "colab": {
          "base_uri": "https://localhost:8080/",
          "height": 368
        },
        "id": "GB-nKOJvKl5t",
        "outputId": "198c0511-a453-40cf-c9bb-947176e9a6a8"
      },
      "source": [
        "# import parser object from tike\n",
        "from tika import parser  \n",
        "  \n",
        "# opening pdf file\n",
        "parsed_pdf = parser.from_file(\"sample.pdf\")\n",
        "  \n",
        "# saving content of pdf\n",
        "# you can also bring text only, by parsed_pdf['text'] \n",
        "# parsed_pdf['content'] returns string \n",
        "data = parsed_pdf['content'] \n",
        "  \n",
        "# Printing of content \n",
        "print(data)\n",
        "  \n",
        "# <class 'str'>\n",
        "print(type(data))"
      ],
      "execution_count": null,
      "outputs": [
        {
          "output_type": "error",
          "ename": "ModuleNotFoundError",
          "evalue": "ignored",
          "traceback": [
            "\u001b[0;31m---------------------------------------------------------------------------\u001b[0m",
            "\u001b[0;31mModuleNotFoundError\u001b[0m                       Traceback (most recent call last)",
            "\u001b[0;32m<ipython-input-31-014d6080829c>\u001b[0m in \u001b[0;36m<module>\u001b[0;34m()\u001b[0m\n\u001b[1;32m      1\u001b[0m \u001b[0;31m# import parser object from tike\u001b[0m\u001b[0;34m\u001b[0m\u001b[0;34m\u001b[0m\u001b[0;34m\u001b[0m\u001b[0m\n\u001b[0;32m----> 2\u001b[0;31m \u001b[0;32mfrom\u001b[0m \u001b[0mtika\u001b[0m \u001b[0;32mimport\u001b[0m \u001b[0mparser\u001b[0m\u001b[0;34m\u001b[0m\u001b[0;34m\u001b[0m\u001b[0m\n\u001b[0m\u001b[1;32m      3\u001b[0m \u001b[0;34m\u001b[0m\u001b[0m\n\u001b[1;32m      4\u001b[0m \u001b[0;31m# opening pdf file\u001b[0m\u001b[0;34m\u001b[0m\u001b[0;34m\u001b[0m\u001b[0;34m\u001b[0m\u001b[0m\n\u001b[1;32m      5\u001b[0m \u001b[0mparsed_pdf\u001b[0m \u001b[0;34m=\u001b[0m \u001b[0mparser\u001b[0m\u001b[0;34m.\u001b[0m\u001b[0mfrom_file\u001b[0m\u001b[0;34m(\u001b[0m\u001b[0;34m\"sample.pdf\"\u001b[0m\u001b[0;34m)\u001b[0m\u001b[0;34m\u001b[0m\u001b[0;34m\u001b[0m\u001b[0m\n",
            "\u001b[0;31mModuleNotFoundError\u001b[0m: No module named 'tika'",
            "",
            "\u001b[0;31m---------------------------------------------------------------------------\u001b[0;32m\nNOTE: If your import is failing due to a missing package, you can\nmanually install dependencies using either !pip or !apt.\n\nTo view examples of installing some common dependencies, click the\n\"Open Examples\" button below.\n\u001b[0;31m---------------------------------------------------------------------------\u001b[0m\n"
          ],
          "errorDetails": {
            "actions": [
              {
                "action": "open_url",
                "actionText": "Open Examples",
                "url": "/notebooks/snippets/importing_libraries.ipynb"
              }
            ]
          }
        }
      ]
    },
    {
      "cell_type": "code",
      "metadata": {
        "colab": {
          "base_uri": "https://localhost:8080/",
          "height": 300
        },
        "id": "WUN_LzWVLOGt",
        "outputId": "e55ecad8-d7db-4c10-9d0d-5a9fa3ae1da1"
      },
      "source": [
        "import tika"
      ],
      "execution_count": null,
      "outputs": [
        {
          "output_type": "error",
          "ename": "ModuleNotFoundError",
          "evalue": "ignored",
          "traceback": [
            "\u001b[0;31m---------------------------------------------------------------------------\u001b[0m",
            "\u001b[0;31mModuleNotFoundError\u001b[0m                       Traceback (most recent call last)",
            "\u001b[0;32m<ipython-input-24-d2b8da7c1846>\u001b[0m in \u001b[0;36m<module>\u001b[0;34m()\u001b[0m\n\u001b[0;32m----> 1\u001b[0;31m \u001b[0;32mimport\u001b[0m \u001b[0mtika\u001b[0m\u001b[0;34m\u001b[0m\u001b[0;34m\u001b[0m\u001b[0m\n\u001b[0m",
            "\u001b[0;31mModuleNotFoundError\u001b[0m: No module named 'tika'",
            "",
            "\u001b[0;31m---------------------------------------------------------------------------\u001b[0;32m\nNOTE: If your import is failing due to a missing package, you can\nmanually install dependencies using either !pip or !apt.\n\nTo view examples of installing some common dependencies, click the\n\"Open Examples\" button below.\n\u001b[0;31m---------------------------------------------------------------------------\u001b[0m\n"
          ],
          "errorDetails": {
            "actions": [
              {
                "action": "open_url",
                "actionText": "Open Examples",
                "url": "/notebooks/snippets/importing_libraries.ipynb"
              }
            ]
          }
        }
      ]
    },
    {
      "cell_type": "code",
      "metadata": {
        "colab": {
          "base_uri": "https://localhost:8080/",
          "height": 368
        },
        "id": "jpa-MJfbKM8_",
        "outputId": "c561db6e-af1a-4fd6-b79a-54932ff9d31e"
      },
      "source": [
        "from tika import parser \n",
        "from bs4 import BeautifulSoup\n",
        "raw=parser.from_file('HTTP_Book.pdf',xmlContent=True)['content']\n",
        "data=BeautifulSoup(raw,'lxml')\n",
        "message=data.find(class_='page') # for first page\n",
        "print(message.text)"
      ],
      "execution_count": null,
      "outputs": [
        {
          "output_type": "error",
          "ename": "ModuleNotFoundError",
          "evalue": "ignored",
          "traceback": [
            "\u001b[0;31m---------------------------------------------------------------------------\u001b[0m",
            "\u001b[0;31mModuleNotFoundError\u001b[0m                       Traceback (most recent call last)",
            "\u001b[0;32m<ipython-input-23-22ac6de5944a>\u001b[0m in \u001b[0;36m<module>\u001b[0;34m()\u001b[0m\n\u001b[0;32m----> 1\u001b[0;31m \u001b[0;32mfrom\u001b[0m \u001b[0mtika\u001b[0m \u001b[0;32mimport\u001b[0m \u001b[0mparser\u001b[0m\u001b[0;34m\u001b[0m\u001b[0;34m\u001b[0m\u001b[0m\n\u001b[0m\u001b[1;32m      2\u001b[0m \u001b[0;32mfrom\u001b[0m \u001b[0mbs4\u001b[0m \u001b[0;32mimport\u001b[0m \u001b[0mBeautifulSoup\u001b[0m\u001b[0;34m\u001b[0m\u001b[0;34m\u001b[0m\u001b[0m\n\u001b[1;32m      3\u001b[0m \u001b[0mraw\u001b[0m\u001b[0;34m=\u001b[0m\u001b[0mparser\u001b[0m\u001b[0;34m.\u001b[0m\u001b[0mfrom_file\u001b[0m\u001b[0;34m(\u001b[0m\u001b[0;34m'HTTP_Book.pdf'\u001b[0m\u001b[0;34m,\u001b[0m\u001b[0mxmlContent\u001b[0m\u001b[0;34m=\u001b[0m\u001b[0;32mTrue\u001b[0m\u001b[0;34m)\u001b[0m\u001b[0;34m[\u001b[0m\u001b[0;34m'content'\u001b[0m\u001b[0;34m]\u001b[0m\u001b[0;34m\u001b[0m\u001b[0;34m\u001b[0m\u001b[0m\n\u001b[1;32m      4\u001b[0m \u001b[0mdata\u001b[0m\u001b[0;34m=\u001b[0m\u001b[0mBeautifulSoup\u001b[0m\u001b[0;34m(\u001b[0m\u001b[0mraw\u001b[0m\u001b[0;34m,\u001b[0m\u001b[0;34m'lxml'\u001b[0m\u001b[0;34m)\u001b[0m\u001b[0;34m\u001b[0m\u001b[0;34m\u001b[0m\u001b[0m\n\u001b[1;32m      5\u001b[0m \u001b[0mmessage\u001b[0m\u001b[0;34m=\u001b[0m\u001b[0mdata\u001b[0m\u001b[0;34m.\u001b[0m\u001b[0mfind\u001b[0m\u001b[0;34m(\u001b[0m\u001b[0mclass_\u001b[0m\u001b[0;34m=\u001b[0m\u001b[0;34m'page'\u001b[0m\u001b[0;34m)\u001b[0m \u001b[0;31m# for first page\u001b[0m\u001b[0;34m\u001b[0m\u001b[0;34m\u001b[0m\u001b[0m\n",
            "\u001b[0;31mModuleNotFoundError\u001b[0m: No module named 'tika'",
            "",
            "\u001b[0;31m---------------------------------------------------------------------------\u001b[0;32m\nNOTE: If your import is failing due to a missing package, you can\nmanually install dependencies using either !pip or !apt.\n\nTo view examples of installing some common dependencies, click the\n\"Open Examples\" button below.\n\u001b[0;31m---------------------------------------------------------------------------\u001b[0m\n"
          ],
          "errorDetails": {
            "actions": [
              {
                "action": "open_url",
                "actionText": "Open Examples",
                "url": "/notebooks/snippets/importing_libraries.ipynb"
              }
            ]
          }
        }
      ]
    },
    {
      "cell_type": "code",
      "metadata": {
        "colab": {
          "base_uri": "https://localhost:8080/",
          "height": 307
        },
        "id": "iaCGvy-9JwnG",
        "outputId": "05273865-d180-4027-d594-e2e4a397e725"
      },
      "source": [
        "print(x.extractText())"
      ],
      "execution_count": null,
      "outputs": [
        {
          "output_type": "error",
          "ename": "TypeError",
          "evalue": "ignored",
          "traceback": [
            "\u001b[0;31m---------------------------------------------------------------------------\u001b[0m",
            "\u001b[0;31mTypeError\u001b[0m                                 Traceback (most recent call last)",
            "\u001b[0;32m<ipython-input-19-3d1c5f99dd52>\u001b[0m in \u001b[0;36m<module>\u001b[0;34m()\u001b[0m\n\u001b[0;32m----> 1\u001b[0;31m \u001b[0mprint\u001b[0m\u001b[0;34m(\u001b[0m\u001b[0mx\u001b[0m\u001b[0;34m.\u001b[0m\u001b[0mextractText\u001b[0m\u001b[0;34m(\u001b[0m\u001b[0;34m)\u001b[0m\u001b[0;34m)\u001b[0m\u001b[0;34m\u001b[0m\u001b[0;34m\u001b[0m\u001b[0m\n\u001b[0m",
            "\u001b[0;32m/usr/local/lib/python3.7/dist-packages/PyPDF2/pdf.py\u001b[0m in \u001b[0;36mextractText\u001b[0;34m(self)\u001b[0m\n\u001b[1;32m   2593\u001b[0m         \u001b[0mcontent\u001b[0m \u001b[0;34m=\u001b[0m \u001b[0mself\u001b[0m\u001b[0;34m[\u001b[0m\u001b[0;34m\"/Contents\"\u001b[0m\u001b[0;34m]\u001b[0m\u001b[0;34m.\u001b[0m\u001b[0mgetObject\u001b[0m\u001b[0;34m(\u001b[0m\u001b[0;34m)\u001b[0m\u001b[0;34m\u001b[0m\u001b[0;34m\u001b[0m\u001b[0m\n\u001b[1;32m   2594\u001b[0m         \u001b[0;32mif\u001b[0m \u001b[0;32mnot\u001b[0m \u001b[0misinstance\u001b[0m\u001b[0;34m(\u001b[0m\u001b[0mcontent\u001b[0m\u001b[0;34m,\u001b[0m \u001b[0mContentStream\u001b[0m\u001b[0;34m)\u001b[0m\u001b[0;34m:\u001b[0m\u001b[0;34m\u001b[0m\u001b[0;34m\u001b[0m\u001b[0m\n\u001b[0;32m-> 2595\u001b[0;31m             \u001b[0mcontent\u001b[0m \u001b[0;34m=\u001b[0m \u001b[0mContentStream\u001b[0m\u001b[0;34m(\u001b[0m\u001b[0mcontent\u001b[0m\u001b[0;34m,\u001b[0m \u001b[0mself\u001b[0m\u001b[0;34m.\u001b[0m\u001b[0mpdf\u001b[0m\u001b[0;34m)\u001b[0m\u001b[0;34m\u001b[0m\u001b[0;34m\u001b[0m\u001b[0m\n\u001b[0m\u001b[1;32m   2596\u001b[0m         \u001b[0;31m# Note: we check all strings are TextStringObjects.  ByteStringObjects\u001b[0m\u001b[0;34m\u001b[0m\u001b[0;34m\u001b[0m\u001b[0;34m\u001b[0m\u001b[0m\n\u001b[1;32m   2597\u001b[0m         \u001b[0;31m# are strings where the byte->string encoding was unknown, so adding\u001b[0m\u001b[0;34m\u001b[0m\u001b[0;34m\u001b[0m\u001b[0;34m\u001b[0m\u001b[0m\n",
            "\u001b[0;32m/usr/local/lib/python3.7/dist-packages/PyPDF2/pdf.py\u001b[0m in \u001b[0;36m__init__\u001b[0;34m(self, stream, pdf)\u001b[0m\n\u001b[1;32m   2671\u001b[0m             \u001b[0mstream\u001b[0m \u001b[0;34m=\u001b[0m \u001b[0mBytesIO\u001b[0m\u001b[0;34m(\u001b[0m\u001b[0mb_\u001b[0m\u001b[0;34m(\u001b[0m\u001b[0mdata\u001b[0m\u001b[0;34m)\u001b[0m\u001b[0;34m)\u001b[0m\u001b[0;34m\u001b[0m\u001b[0;34m\u001b[0m\u001b[0m\n\u001b[1;32m   2672\u001b[0m         \u001b[0;32melse\u001b[0m\u001b[0;34m:\u001b[0m\u001b[0;34m\u001b[0m\u001b[0;34m\u001b[0m\u001b[0m\n\u001b[0;32m-> 2673\u001b[0;31m             \u001b[0mstream\u001b[0m \u001b[0;34m=\u001b[0m \u001b[0mBytesIO\u001b[0m\u001b[0;34m(\u001b[0m\u001b[0mb_\u001b[0m\u001b[0;34m(\u001b[0m\u001b[0mstream\u001b[0m\u001b[0;34m.\u001b[0m\u001b[0mgetData\u001b[0m\u001b[0;34m(\u001b[0m\u001b[0;34m)\u001b[0m\u001b[0;34m)\u001b[0m\u001b[0;34m)\u001b[0m\u001b[0;34m\u001b[0m\u001b[0;34m\u001b[0m\u001b[0m\n\u001b[0m\u001b[1;32m   2674\u001b[0m         \u001b[0mself\u001b[0m\u001b[0;34m.\u001b[0m\u001b[0m__parseContentStream\u001b[0m\u001b[0;34m(\u001b[0m\u001b[0mstream\u001b[0m\u001b[0;34m)\u001b[0m\u001b[0;34m\u001b[0m\u001b[0;34m\u001b[0m\u001b[0m\n\u001b[1;32m   2675\u001b[0m \u001b[0;34m\u001b[0m\u001b[0m\n",
            "\u001b[0;32m/usr/local/lib/python3.7/dist-packages/PyPDF2/generic.py\u001b[0m in \u001b[0;36mgetData\u001b[0;34m(self)\u001b[0m\n\u001b[1;32m    839\u001b[0m             \u001b[0mdecoded\u001b[0m \u001b[0;34m=\u001b[0m \u001b[0mDecodedStreamObject\u001b[0m\u001b[0;34m(\u001b[0m\u001b[0;34m)\u001b[0m\u001b[0;34m\u001b[0m\u001b[0;34m\u001b[0m\u001b[0m\n\u001b[1;32m    840\u001b[0m \u001b[0;34m\u001b[0m\u001b[0m\n\u001b[0;32m--> 841\u001b[0;31m             \u001b[0mdecoded\u001b[0m\u001b[0;34m.\u001b[0m\u001b[0m_data\u001b[0m \u001b[0;34m=\u001b[0m \u001b[0mfilters\u001b[0m\u001b[0;34m.\u001b[0m\u001b[0mdecodeStreamData\u001b[0m\u001b[0;34m(\u001b[0m\u001b[0mself\u001b[0m\u001b[0;34m)\u001b[0m\u001b[0;34m\u001b[0m\u001b[0;34m\u001b[0m\u001b[0m\n\u001b[0m\u001b[1;32m    842\u001b[0m             \u001b[0;32mfor\u001b[0m \u001b[0mkey\u001b[0m\u001b[0;34m,\u001b[0m \u001b[0mvalue\u001b[0m \u001b[0;32min\u001b[0m \u001b[0mlist\u001b[0m\u001b[0;34m(\u001b[0m\u001b[0mself\u001b[0m\u001b[0;34m.\u001b[0m\u001b[0mitems\u001b[0m\u001b[0;34m(\u001b[0m\u001b[0;34m)\u001b[0m\u001b[0;34m)\u001b[0m\u001b[0;34m:\u001b[0m\u001b[0;34m\u001b[0m\u001b[0;34m\u001b[0m\u001b[0m\n\u001b[1;32m    843\u001b[0m                 \u001b[0;32mif\u001b[0m \u001b[0;32mnot\u001b[0m \u001b[0mkey\u001b[0m \u001b[0;32min\u001b[0m \u001b[0;34m(\u001b[0m\u001b[0;34m\"/Length\"\u001b[0m\u001b[0;34m,\u001b[0m \u001b[0;34m\"/Filter\"\u001b[0m\u001b[0;34m,\u001b[0m \u001b[0;34m\"/DecodeParms\"\u001b[0m\u001b[0;34m)\u001b[0m\u001b[0;34m:\u001b[0m\u001b[0;34m\u001b[0m\u001b[0;34m\u001b[0m\u001b[0m\n",
            "\u001b[0;32m/usr/local/lib/python3.7/dist-packages/PyPDF2/filters.py\u001b[0m in \u001b[0;36mdecodeStreamData\u001b[0;34m(stream)\u001b[0m\n\u001b[1;32m    348\u001b[0m                 \u001b[0mdata\u001b[0m \u001b[0;34m=\u001b[0m \u001b[0mASCIIHexDecode\u001b[0m\u001b[0;34m.\u001b[0m\u001b[0mdecode\u001b[0m\u001b[0;34m(\u001b[0m\u001b[0mdata\u001b[0m\u001b[0;34m)\u001b[0m\u001b[0;34m\u001b[0m\u001b[0;34m\u001b[0m\u001b[0m\n\u001b[1;32m    349\u001b[0m             \u001b[0;32melif\u001b[0m \u001b[0mfilterType\u001b[0m \u001b[0;34m==\u001b[0m \u001b[0;34m\"/LZWDecode\"\u001b[0m \u001b[0;32mor\u001b[0m \u001b[0mfilterType\u001b[0m \u001b[0;34m==\u001b[0m \u001b[0;34m\"/LZW\"\u001b[0m\u001b[0;34m:\u001b[0m\u001b[0;34m\u001b[0m\u001b[0;34m\u001b[0m\u001b[0m\n\u001b[0;32m--> 350\u001b[0;31m                 \u001b[0mdata\u001b[0m \u001b[0;34m=\u001b[0m \u001b[0mLZWDecode\u001b[0m\u001b[0;34m.\u001b[0m\u001b[0mdecode\u001b[0m\u001b[0;34m(\u001b[0m\u001b[0mdata\u001b[0m\u001b[0;34m,\u001b[0m \u001b[0mstream\u001b[0m\u001b[0;34m.\u001b[0m\u001b[0mget\u001b[0m\u001b[0;34m(\u001b[0m\u001b[0;34m\"/DecodeParms\"\u001b[0m\u001b[0;34m)\u001b[0m\u001b[0;34m)\u001b[0m\u001b[0;34m\u001b[0m\u001b[0;34m\u001b[0m\u001b[0m\n\u001b[0m\u001b[1;32m    351\u001b[0m             \u001b[0;32melif\u001b[0m \u001b[0mfilterType\u001b[0m \u001b[0;34m==\u001b[0m \u001b[0;34m\"/ASCII85Decode\"\u001b[0m \u001b[0;32mor\u001b[0m \u001b[0mfilterType\u001b[0m \u001b[0;34m==\u001b[0m \u001b[0;34m\"/A85\"\u001b[0m\u001b[0;34m:\u001b[0m\u001b[0;34m\u001b[0m\u001b[0;34m\u001b[0m\u001b[0m\n\u001b[1;32m    352\u001b[0m                 \u001b[0mdata\u001b[0m \u001b[0;34m=\u001b[0m \u001b[0mASCII85Decode\u001b[0m\u001b[0;34m.\u001b[0m\u001b[0mdecode\u001b[0m\u001b[0;34m(\u001b[0m\u001b[0mdata\u001b[0m\u001b[0;34m)\u001b[0m\u001b[0;34m\u001b[0m\u001b[0;34m\u001b[0m\u001b[0m\n",
            "\u001b[0;32m/usr/local/lib/python3.7/dist-packages/PyPDF2/filters.py\u001b[0m in \u001b[0;36mdecode\u001b[0;34m(data, decodeParams)\u001b[0m\n\u001b[1;32m    253\u001b[0m     \u001b[0;34m@\u001b[0m\u001b[0mstaticmethod\u001b[0m\u001b[0;34m\u001b[0m\u001b[0;34m\u001b[0m\u001b[0m\n\u001b[1;32m    254\u001b[0m     \u001b[0;32mdef\u001b[0m \u001b[0mdecode\u001b[0m\u001b[0;34m(\u001b[0m\u001b[0mdata\u001b[0m\u001b[0;34m,\u001b[0m\u001b[0mdecodeParams\u001b[0m\u001b[0;34m=\u001b[0m\u001b[0;32mNone\u001b[0m\u001b[0;34m)\u001b[0m\u001b[0;34m:\u001b[0m\u001b[0;34m\u001b[0m\u001b[0;34m\u001b[0m\u001b[0m\n\u001b[0;32m--> 255\u001b[0;31m         \u001b[0;32mreturn\u001b[0m \u001b[0mLZWDecode\u001b[0m\u001b[0;34m.\u001b[0m\u001b[0mdecoder\u001b[0m\u001b[0;34m(\u001b[0m\u001b[0mdata\u001b[0m\u001b[0;34m)\u001b[0m\u001b[0;34m.\u001b[0m\u001b[0mdecode\u001b[0m\u001b[0;34m(\u001b[0m\u001b[0;34m)\u001b[0m\u001b[0;34m\u001b[0m\u001b[0;34m\u001b[0m\u001b[0m\n\u001b[0m\u001b[1;32m    256\u001b[0m \u001b[0;34m\u001b[0m\u001b[0m\n\u001b[1;32m    257\u001b[0m \u001b[0;34m\u001b[0m\u001b[0m\n",
            "\u001b[0;32m/usr/local/lib/python3.7/dist-packages/PyPDF2/filters.py\u001b[0m in \u001b[0;36mdecode\u001b[0;34m(self)\u001b[0m\n\u001b[1;32m    226\u001b[0m             \u001b[0;32mwhile\u001b[0m \u001b[0;32mTrue\u001b[0m\u001b[0;34m:\u001b[0m\u001b[0;34m\u001b[0m\u001b[0;34m\u001b[0m\u001b[0m\n\u001b[1;32m    227\u001b[0m                 \u001b[0mpW\u001b[0m \u001b[0;34m=\u001b[0m \u001b[0mcW\u001b[0m\u001b[0;34m;\u001b[0m\u001b[0;34m\u001b[0m\u001b[0;34m\u001b[0m\u001b[0m\n\u001b[0;32m--> 228\u001b[0;31m                 \u001b[0mcW\u001b[0m \u001b[0;34m=\u001b[0m \u001b[0mself\u001b[0m\u001b[0;34m.\u001b[0m\u001b[0mnextCode\u001b[0m\u001b[0;34m(\u001b[0m\u001b[0;34m)\u001b[0m\u001b[0;34m;\u001b[0m\u001b[0;34m\u001b[0m\u001b[0;34m\u001b[0m\u001b[0m\n\u001b[0m\u001b[1;32m    229\u001b[0m                 \u001b[0;32mif\u001b[0m \u001b[0mcW\u001b[0m \u001b[0;34m==\u001b[0m \u001b[0;34m-\u001b[0m\u001b[0;36m1\u001b[0m\u001b[0;34m:\u001b[0m\u001b[0;34m\u001b[0m\u001b[0;34m\u001b[0m\u001b[0m\n\u001b[1;32m    230\u001b[0m                     \u001b[0;32mraise\u001b[0m \u001b[0mPdfReadError\u001b[0m\u001b[0;34m(\u001b[0m\u001b[0;34m\"Missed the stop code in LZWDecode!\"\u001b[0m\u001b[0;34m)\u001b[0m\u001b[0;34m\u001b[0m\u001b[0;34m\u001b[0m\u001b[0m\n",
            "\u001b[0;32m/usr/local/lib/python3.7/dist-packages/PyPDF2/filters.py\u001b[0m in \u001b[0;36mnextCode\u001b[0;34m(self)\u001b[0m\n\u001b[1;32m    203\u001b[0m                 \u001b[0;32mif\u001b[0m \u001b[0mself\u001b[0m\u001b[0;34m.\u001b[0m\u001b[0mbytepos\u001b[0m \u001b[0;34m>=\u001b[0m \u001b[0mlen\u001b[0m\u001b[0;34m(\u001b[0m\u001b[0mself\u001b[0m\u001b[0;34m.\u001b[0m\u001b[0mdata\u001b[0m\u001b[0;34m)\u001b[0m\u001b[0;34m:\u001b[0m\u001b[0;34m\u001b[0m\u001b[0;34m\u001b[0m\u001b[0m\n\u001b[1;32m    204\u001b[0m                     \u001b[0;32mreturn\u001b[0m \u001b[0;34m-\u001b[0m\u001b[0;36m1\u001b[0m\u001b[0;34m\u001b[0m\u001b[0;34m\u001b[0m\u001b[0m\n\u001b[0;32m--> 205\u001b[0;31m                 \u001b[0mnextbits\u001b[0m\u001b[0;34m=\u001b[0m\u001b[0mord\u001b[0m\u001b[0;34m(\u001b[0m\u001b[0mself\u001b[0m\u001b[0;34m.\u001b[0m\u001b[0mdata\u001b[0m\u001b[0;34m[\u001b[0m\u001b[0mself\u001b[0m\u001b[0;34m.\u001b[0m\u001b[0mbytepos\u001b[0m\u001b[0;34m]\u001b[0m\u001b[0;34m)\u001b[0m\u001b[0;34m\u001b[0m\u001b[0;34m\u001b[0m\u001b[0m\n\u001b[0m\u001b[1;32m    206\u001b[0m                 \u001b[0mbitsfromhere\u001b[0m\u001b[0;34m=\u001b[0m\u001b[0;36m8\u001b[0m\u001b[0;34m-\u001b[0m\u001b[0mself\u001b[0m\u001b[0;34m.\u001b[0m\u001b[0mbitpos\u001b[0m\u001b[0;34m\u001b[0m\u001b[0;34m\u001b[0m\u001b[0m\n\u001b[1;32m    207\u001b[0m                 \u001b[0;32mif\u001b[0m \u001b[0mbitsfromhere\u001b[0m\u001b[0;34m>\u001b[0m\u001b[0mfillbits\u001b[0m\u001b[0;34m:\u001b[0m\u001b[0;34m\u001b[0m\u001b[0;34m\u001b[0m\u001b[0m\n",
            "\u001b[0;31mTypeError\u001b[0m: ord() expected string of length 1, but int found"
          ]
        }
      ]
    },
    {
      "cell_type": "markdown",
      "metadata": {
        "id": "f7FkmzT6TYOs"
      },
      "source": [
        "# ***Reading the document***\n",
        "\n",
        "*   List item\n",
        "*   List item\n",
        "\n",
        "\n",
        "We will use the PdfFileReader () function of PyPDF2 which is a package to extract document information such as title, author, number of pages, ...., divide documents page by page, merge page by page, etc."
      ]
    },
    {
      "cell_type": "code",
      "metadata": {
        "id": "xOEiMm1-Sz2G"
      },
      "source": [
        "# myFile = PdfFileReader(open(\"../input/accident/test1.pdf\", 'rb'))\n",
        "\n",
        "filename = '/content/file.pdf'\n",
        "open_filename = open(filename, 'rb')\n",
        "\n",
        "fileAccid = PyPDF2.PdfFileReader(open_filename)"
      ],
      "execution_count": null,
      "outputs": []
    },
    {
      "cell_type": "markdown",
      "metadata": {
        "id": "_JTAPADOTovx"
      },
      "source": [
        "**To get the information about the document, we used the getDocumentInfo () function to check the number of pages in our document using the numPages () function. **"
      ]
    },
    {
      "cell_type": "code",
      "metadata": {
        "colab": {
          "base_uri": "https://localhost:8080/"
        },
        "id": "OVEXdYmIHuCE",
        "outputId": "4eea06f1-2e9b-4ea6-bb62-b1bda06537fc"
      },
      "source": [
        "pip install pdfplumber"
      ],
      "execution_count": null,
      "outputs": [
        {
          "output_type": "stream",
          "text": [
            "Collecting pdfplumber\n",
            "  Using cached pdfplumber-0.5.26.tar.gz (43 kB)\n",
            "\u001b[31mERROR: Command errored out with exit status 1: python setup.py egg_info Check the logs for full command output.\u001b[0m\n"
          ],
          "name": "stdout"
        }
      ]
    },
    {
      "cell_type": "code",
      "metadata": {
        "colab": {
          "base_uri": "https://localhost:8080/",
          "height": 130
        },
        "id": "s3C6VeQmHoPZ",
        "outputId": "f39e4926-b86a-4fb4-e5a6-0d1dde6a1a51"
      },
      "source": [
        " install imagemagick"
      ],
      "execution_count": null,
      "outputs": [
        {
          "output_type": "error",
          "ename": "SyntaxError",
          "evalue": "ignored",
          "traceback": [
            "\u001b[0;36m  File \u001b[0;32m\"<ipython-input-189-e218aafc1abb>\"\u001b[0;36m, line \u001b[0;32m1\u001b[0m\n\u001b[0;31m    install imagemagick\u001b[0m\n\u001b[0m                      ^\u001b[0m\n\u001b[0;31mSyntaxError\u001b[0m\u001b[0;31m:\u001b[0m invalid syntax\n"
          ]
        }
      ]
    },
    {
      "cell_type": "code",
      "metadata": {
        "colab": {
          "base_uri": "https://localhost:8080/",
          "height": 368
        },
        "id": "oopj8zqxHZZi",
        "outputId": "ee19a4ff-b21e-4cd0-e837-59749c3ec8ac"
      },
      "source": [
        "import re\n",
        "\n",
        "import requests\n",
        "import pdfplumber\n",
        "import pandas as pd\n",
        "from collections import namedtuple"
      ],
      "execution_count": null,
      "outputs": [
        {
          "output_type": "error",
          "ename": "ModuleNotFoundError",
          "evalue": "ignored",
          "traceback": [
            "\u001b[0;31m---------------------------------------------------------------------------\u001b[0m",
            "\u001b[0;31mModuleNotFoundError\u001b[0m                       Traceback (most recent call last)",
            "\u001b[0;32m<ipython-input-5-ce35cb5b70a7>\u001b[0m in \u001b[0;36m<module>\u001b[0;34m()\u001b[0m\n\u001b[1;32m      2\u001b[0m \u001b[0;34m\u001b[0m\u001b[0m\n\u001b[1;32m      3\u001b[0m \u001b[0;32mimport\u001b[0m \u001b[0mrequests\u001b[0m\u001b[0;34m\u001b[0m\u001b[0;34m\u001b[0m\u001b[0m\n\u001b[0;32m----> 4\u001b[0;31m \u001b[0;32mimport\u001b[0m \u001b[0mpdfplumber\u001b[0m\u001b[0;34m\u001b[0m\u001b[0;34m\u001b[0m\u001b[0m\n\u001b[0m\u001b[1;32m      5\u001b[0m \u001b[0;32mimport\u001b[0m \u001b[0mpandas\u001b[0m \u001b[0;32mas\u001b[0m \u001b[0mpd\u001b[0m\u001b[0;34m\u001b[0m\u001b[0;34m\u001b[0m\u001b[0m\n\u001b[1;32m      6\u001b[0m \u001b[0;32mfrom\u001b[0m \u001b[0mcollections\u001b[0m \u001b[0;32mimport\u001b[0m \u001b[0mnamedtuple\u001b[0m\u001b[0;34m\u001b[0m\u001b[0;34m\u001b[0m\u001b[0m\n",
            "\u001b[0;31mModuleNotFoundError\u001b[0m: No module named 'pdfplumber'",
            "",
            "\u001b[0;31m---------------------------------------------------------------------------\u001b[0;32m\nNOTE: If your import is failing due to a missing package, you can\nmanually install dependencies using either !pip or !apt.\n\nTo view examples of installing some common dependencies, click the\n\"Open Examples\" button below.\n\u001b[0;31m---------------------------------------------------------------------------\u001b[0m\n"
          ],
          "errorDetails": {
            "actions": [
              {
                "action": "open_url",
                "actionText": "Open Examples",
                "url": "/notebooks/snippets/importing_libraries.ipynb"
              }
            ]
          }
        }
      ]
    },
    {
      "cell_type": "code",
      "metadata": {
        "colab": {
          "base_uri": "https://localhost:8080/"
        },
        "id": "xDzBJMNxSzq0",
        "outputId": "bc8077d9-3a66-4842-bee9-5a730c29c70a"
      },
      "source": [
        "fileAccid.getDocumentInfo()"
      ],
      "execution_count": null,
      "outputs": [
        {
          "output_type": "execute_result",
          "data": {
            "text/plain": [
              "{'/CreationDate': 'D:19971229115215',\n",
              " '/Creator': 'dvipsk 5.58f Copyright 1986, 1994 Radical Eye Software',\n",
              " '/Producer': 'Acrobat Distiller Command 3.01 for Solaris 2.3 and later (SPARC)',\n",
              " '/Title': 'rl-survey.dvi'}"
            ]
          },
          "metadata": {
            "tags": []
          },
          "execution_count": 6
        }
      ]
    },
    {
      "cell_type": "code",
      "metadata": {
        "colab": {
          "base_uri": "https://localhost:8080/"
        },
        "id": "IvsaanmPTFWR",
        "outputId": "0630571d-1997-4eb5-952f-908e1e5c1515"
      },
      "source": [
        "total_pages = fileAccid.numPages\n",
        "total_pages"
      ],
      "execution_count": null,
      "outputs": [
        {
          "output_type": "execute_result",
          "data": {
            "text/plain": [
              "49"
            ]
          },
          "metadata": {
            "tags": []
          },
          "execution_count": 7
        }
      ]
    },
    {
      "cell_type": "code",
      "metadata": {
        "colab": {
          "base_uri": "https://localhost:8080/"
        },
        "id": "MBQg0plERkER",
        "outputId": "dbcf8243-6240-4279-be71-dfd0c00ea404"
      },
      "source": [
        "pip install textract"
      ],
      "execution_count": null,
      "outputs": [
        {
          "output_type": "stream",
          "text": [
            "Requirement already satisfied: textract in /usr/local/lib/python2.7/dist-packages (1.6.2)\n",
            "Requirement already satisfied: chardet==3.0.4 in /usr/local/lib/python2.7/dist-packages (from textract) (3.0.4)\n",
            "Requirement already satisfied: xlrd==1.2.0 in /usr/local/lib/python2.7/dist-packages (from textract) (1.2.0)\n",
            "Requirement already satisfied: EbookLib==0.17.1 in /usr/local/lib/python2.7/dist-packages (from textract) (0.17.1)\n",
            "Requirement already satisfied: beautifulsoup4==4.7.1 in /usr/local/lib/python2.7/dist-packages (from textract) (4.7.1)\n",
            "Requirement already satisfied: extract-msg==0.23.1 in /usr/local/lib/python2.7/dist-packages (from textract) (0.23.1)\n",
            "Requirement already satisfied: SpeechRecognition==3.8.1 in /usr/local/lib/python2.7/dist-packages (from textract) (3.8.1)\n",
            "Requirement already satisfied: pdfminer.six==20181108 in /usr/local/lib/python2.7/dist-packages (from textract) (20181108)\n",
            "Requirement already satisfied: docx2txt==0.8 in /usr/local/lib/python2.7/dist-packages (from textract) (0.8)\n",
            "Requirement already satisfied: argcomplete==1.10.0 in /usr/local/lib/python2.7/dist-packages (from textract) (1.10.0)\n",
            "Requirement already satisfied: six==1.12.0 in /usr/local/lib/python2.7/dist-packages (from textract) (1.12.0)\n",
            "Requirement already satisfied: python-pptx==0.6.18 in /usr/local/lib/python2.7/dist-packages (from textract) (0.6.18)\n",
            "Requirement already satisfied: lxml in /usr/local/lib/python2.7/dist-packages (from EbookLib==0.17.1->textract) (4.2.6)\n",
            "Requirement already satisfied: soupsieve>=1.2 in /usr/local/lib/python2.7/dist-packages (from beautifulsoup4==4.7.1->textract) (1.9.6)\n",
            "Requirement already satisfied: olefile==0.46 in /usr/local/lib/python2.7/dist-packages (from extract-msg==0.23.1->textract) (0.46)\n",
            "Requirement already satisfied: imapclient==2.1.0 in /usr/local/lib/python2.7/dist-packages (from extract-msg==0.23.1->textract) (2.1.0)\n",
            "Requirement already satisfied: tzlocal==1.5.1 in /usr/local/lib/python2.7/dist-packages (from extract-msg==0.23.1->textract) (1.5.1)\n",
            "Requirement already satisfied: pycryptodome in /usr/local/lib/python2.7/dist-packages (from pdfminer.six==20181108->textract) (3.10.1)\n",
            "Requirement already satisfied: sortedcontainers in /usr/local/lib/python2.7/dist-packages (from pdfminer.six==20181108->textract) (2.1.0)\n",
            "Requirement already satisfied: Pillow>=3.3.2 in /usr/local/lib/python2.7/dist-packages (from python-pptx==0.6.18->textract) (4.3.0)\n",
            "Requirement already satisfied: XlsxWriter>=0.5.7 in /usr/local/lib/python2.7/dist-packages (from python-pptx==0.6.18->textract) (2.0.0)\n",
            "Requirement already satisfied: backports.functools-lru-cache; python_version < \"3\" in /usr/local/lib/python2.7/dist-packages (from soupsieve>=1.2->beautifulsoup4==4.7.1->textract) (1.5)\n",
            "Requirement already satisfied: pytz in /usr/local/lib/python2.7/dist-packages (from tzlocal==1.5.1->extract-msg==0.23.1->textract) (2018.9)\n"
          ],
          "name": "stdout"
        }
      ]
    },
    {
      "cell_type": "code",
      "metadata": {
        "colab": {
          "base_uri": "https://localhost:8080/"
        },
        "id": "i-X1T4sIUAMK",
        "outputId": "df6cb194-ed1d-499a-b330-2a5454692984"
      },
      "source": [
        "pip install python-docx"
      ],
      "execution_count": null,
      "outputs": [
        {
          "output_type": "stream",
          "text": [
            "Requirement already satisfied: python-docx in /usr/local/lib/python2.7/dist-packages (0.8.11)\n",
            "Requirement already satisfied: lxml>=2.3.2 in /usr/local/lib/python2.7/dist-packages (from python-docx) (4.2.6)\n"
          ],
          "name": "stdout"
        }
      ]
    },
    {
      "cell_type": "code",
      "metadata": {
        "colab": {
          "base_uri": "https://localhost:8080/"
        },
        "id": "8N5eyRdnU90R",
        "outputId": "270ebf96-cc70-4d06-abf5-f5711d0c026c"
      },
      "source": [
        "pip install \"textract==1.6.3\""
      ],
      "execution_count": null,
      "outputs": [
        {
          "output_type": "stream",
          "text": [
            "Processing /root/.cache/pip/wheels/f2/0e/48/b304a8fc1c7111524cc55f669e2f802415e78ba8e4996cad18/textract-1.6.3-py2-none-any.whl\n",
            "Requirement already satisfied: chardet==3.0.4 in /usr/local/lib/python2.7/dist-packages (from textract==1.6.3) (3.0.4)\n",
            "Requirement already satisfied: xlrd==1.2.0 in /usr/local/lib/python2.7/dist-packages (from textract==1.6.3) (1.2.0)\n",
            "Requirement already satisfied: EbookLib==0.17.1 in /usr/local/lib/python2.7/dist-packages (from textract==1.6.3) (0.17.1)\n",
            "Requirement already satisfied: SpeechRecognition==3.8.1 in /usr/local/lib/python2.7/dist-packages (from textract==1.6.3) (3.8.1)\n",
            "Requirement already satisfied: extract-msg==0.23.1 in /usr/local/lib/python2.7/dist-packages (from textract==1.6.3) (0.23.1)\n",
            "Requirement already satisfied: pdfminer.six==20181108 in /usr/local/lib/python2.7/dist-packages (from textract==1.6.3) (20181108)\n",
            "Requirement already satisfied: docx2txt==0.8 in /usr/local/lib/python2.7/dist-packages (from textract==1.6.3) (0.8)\n",
            "Requirement already satisfied: argcomplete==1.10.0 in /usr/local/lib/python2.7/dist-packages (from textract==1.6.3) (1.10.0)\n",
            "Collecting beautifulsoup4==4.8.0\n",
            "  Using cached beautifulsoup4-4.8.0-py2-none-any.whl (97 kB)\n",
            "Requirement already satisfied: six==1.12.0 in /usr/local/lib/python2.7/dist-packages (from textract==1.6.3) (1.12.0)\n",
            "Requirement already satisfied: python-pptx==0.6.18 in /usr/local/lib/python2.7/dist-packages (from textract==1.6.3) (0.6.18)\n",
            "Requirement already satisfied: lxml in /usr/local/lib/python2.7/dist-packages (from EbookLib==0.17.1->textract==1.6.3) (4.2.6)\n",
            "Requirement already satisfied: olefile==0.46 in /usr/local/lib/python2.7/dist-packages (from extract-msg==0.23.1->textract==1.6.3) (0.46)\n",
            "Requirement already satisfied: imapclient==2.1.0 in /usr/local/lib/python2.7/dist-packages (from extract-msg==0.23.1->textract==1.6.3) (2.1.0)\n",
            "Requirement already satisfied: tzlocal==1.5.1 in /usr/local/lib/python2.7/dist-packages (from extract-msg==0.23.1->textract==1.6.3) (1.5.1)\n",
            "Requirement already satisfied: pycryptodome in /usr/local/lib/python2.7/dist-packages (from pdfminer.six==20181108->textract==1.6.3) (3.10.1)\n",
            "Requirement already satisfied: sortedcontainers in /usr/local/lib/python2.7/dist-packages (from pdfminer.six==20181108->textract==1.6.3) (2.1.0)\n",
            "Requirement already satisfied: soupsieve>=1.2 in /usr/local/lib/python2.7/dist-packages (from beautifulsoup4==4.8.0->textract==1.6.3) (1.9.6)\n",
            "Requirement already satisfied: Pillow>=3.3.2 in /usr/local/lib/python2.7/dist-packages (from python-pptx==0.6.18->textract==1.6.3) (4.3.0)\n",
            "Requirement already satisfied: XlsxWriter>=0.5.7 in /usr/local/lib/python2.7/dist-packages (from python-pptx==0.6.18->textract==1.6.3) (2.0.0)\n",
            "Requirement already satisfied: pytz in /usr/local/lib/python2.7/dist-packages (from tzlocal==1.5.1->extract-msg==0.23.1->textract==1.6.3) (2018.9)\n",
            "Requirement already satisfied: backports.functools-lru-cache; python_version < \"3\" in /usr/local/lib/python2.7/dist-packages (from soupsieve>=1.2->beautifulsoup4==4.8.0->textract==1.6.3) (1.5)\n",
            "Installing collected packages: beautifulsoup4, textract\n",
            "  Attempting uninstall: beautifulsoup4\n",
            "    Found existing installation: beautifulsoup4 4.7.1\n",
            "    Uninstalling beautifulsoup4-4.7.1:\n",
            "      Successfully uninstalled beautifulsoup4-4.7.1\n",
            "  Attempting uninstall: textract\n",
            "    Found existing installation: textract 1.6.2\n",
            "    Uninstalling textract-1.6.2:\n",
            "      Successfully uninstalled textract-1.6.2\n",
            "Successfully installed beautifulsoup4-4.8.0 textract-1.6.3\n"
          ],
          "name": "stdout"
        }
      ]
    },
    {
      "cell_type": "code",
      "metadata": {
        "colab": {
          "base_uri": "https://localhost:8080/"
        },
        "id": "z_zPXKBMVPRI",
        "outputId": "b6aed6fc-c943-4a62-bbbd-6db3b7c866ca"
      },
      "source": [
        "pip install git+https://github.com/deanmalmgren/textract.git"
      ],
      "execution_count": null,
      "outputs": [
        {
          "output_type": "stream",
          "text": [
            "Collecting git+https://github.com/deanmalmgren/textract.git\n",
            "  Cloning https://github.com/deanmalmgren/textract.git to /tmp/pip-req-build-RT_fG4\n",
            "  Running command git clone -q https://github.com/deanmalmgren/textract.git /tmp/pip-req-build-RT_fG4\n",
            "Requirement already satisfied (use --upgrade to upgrade): textract==1.6.3 from git+https://github.com/deanmalmgren/textract.git in /usr/local/lib/python2.7/dist-packages\n",
            "Requirement already satisfied: argcomplete~=1.10.0 in /usr/local/lib/python2.7/dist-packages (from textract==1.6.3) (1.10.0)\n",
            "Requirement already satisfied: beautifulsoup4~=4.8.0 in /usr/local/lib/python2.7/dist-packages (from textract==1.6.3) (4.8.0)\n",
            "Requirement already satisfied: chardet==3.* in /usr/local/lib/python2.7/dist-packages (from textract==1.6.3) (3.0.4)\n",
            "Requirement already satisfied: docx2txt~=0.8 in /usr/local/lib/python2.7/dist-packages (from textract==1.6.3) (0.8)\n",
            "Requirement already satisfied: EbookLib==0.* in /usr/local/lib/python2.7/dist-packages (from textract==1.6.3) (0.17.1)\n",
            "Requirement already satisfied: extract-msg<=0.29.* in /usr/local/lib/python2.7/dist-packages (from textract==1.6.3) (0.23.1)\n",
            "Collecting pdfminer.six==20191110\n",
            "  Using cached pdfminer.six-20191110-py2.py3-none-any.whl (5.6 MB)\n",
            "Requirement already satisfied: python-pptx~=0.6.18 in /usr/local/lib/python2.7/dist-packages (from textract==1.6.3) (0.6.18)\n",
            "Requirement already satisfied: six~=1.12.0 in /usr/local/lib/python2.7/dist-packages (from textract==1.6.3) (1.12.0)\n",
            "Requirement already satisfied: SpeechRecognition~=3.8.1 in /usr/local/lib/python2.7/dist-packages (from textract==1.6.3) (3.8.1)\n",
            "Requirement already satisfied: xlrd~=1.2.0 in /usr/local/lib/python2.7/dist-packages (from textract==1.6.3) (1.2.0)\n",
            "Requirement already satisfied: soupsieve>=1.2 in /usr/local/lib/python2.7/dist-packages (from beautifulsoup4~=4.8.0->textract==1.6.3) (1.9.6)\n",
            "Requirement already satisfied: lxml in /usr/local/lib/python2.7/dist-packages (from EbookLib==0.*->textract==1.6.3) (4.2.6)\n",
            "Requirement already satisfied: olefile==0.46 in /usr/local/lib/python2.7/dist-packages (from extract-msg<=0.29.*->textract==1.6.3) (0.46)\n",
            "Requirement already satisfied: imapclient==2.1.0 in /usr/local/lib/python2.7/dist-packages (from extract-msg<=0.29.*->textract==1.6.3) (2.1.0)\n",
            "Requirement already satisfied: tzlocal==1.5.1 in /usr/local/lib/python2.7/dist-packages (from extract-msg<=0.29.*->textract==1.6.3) (1.5.1)\n",
            "Requirement already satisfied: pycryptodome in /usr/local/lib/python2.7/dist-packages (from pdfminer.six==20191110->textract==1.6.3) (3.10.1)\n",
            "Requirement already satisfied: sortedcontainers in /usr/local/lib/python2.7/dist-packages (from pdfminer.six==20191110->textract==1.6.3) (2.1.0)\n",
            "Requirement already satisfied: Pillow>=3.3.2 in /usr/local/lib/python2.7/dist-packages (from python-pptx~=0.6.18->textract==1.6.3) (4.3.0)\n",
            "Requirement already satisfied: XlsxWriter>=0.5.7 in /usr/local/lib/python2.7/dist-packages (from python-pptx~=0.6.18->textract==1.6.3) (2.0.0)\n",
            "Requirement already satisfied: backports.functools-lru-cache; python_version < \"3\" in /usr/local/lib/python2.7/dist-packages (from soupsieve>=1.2->beautifulsoup4~=4.8.0->textract==1.6.3) (1.5)\n",
            "Requirement already satisfied: pytz in /usr/local/lib/python2.7/dist-packages (from tzlocal==1.5.1->extract-msg<=0.29.*->textract==1.6.3) (2018.9)\n",
            "Building wheels for collected packages: textract\n",
            "  Building wheel for textract (setup.py) ... \u001b[?25l\u001b[?25hdone\n",
            "  Created wheel for textract: filename=textract-1.6.3-py2-none-any.whl size=22874 sha256=ef92852683bc7fe1b8990af68df0ebc0bec1db265844faa188db3d73058a7191\n",
            "  Stored in directory: /tmp/pip-ephem-wheel-cache-oAxsO3/wheels/f2/14/9a/564138bdf708ec3f5a6c9075665c0261ae2f70b4222a148bb1\n",
            "Successfully built textract\n",
            "Installing collected packages: pdfminer.six\n",
            "  Attempting uninstall: pdfminer.six\n",
            "    Found existing installation: pdfminer.six 20181108\n",
            "    Uninstalling pdfminer.six-20181108:\n",
            "      Successfully uninstalled pdfminer.six-20181108\n",
            "\u001b[31mERROR: pip's legacy dependency resolver does not consider dependency conflicts when selecting packages. This behaviour is the source of the following dependency conflicts.\n",
            "textract 1.6.3 requires pdfminer.six==20181108, but you'll have pdfminer-six 20191110 which is incompatible.\u001b[0m\n",
            "Successfully installed pdfminer.six-20191110\n"
          ],
          "name": "stdout"
        }
      ]
    },
    {
      "cell_type": "code",
      "metadata": {
        "colab": {
          "base_uri": "https://localhost:8080/"
        },
        "id": "AsXoaX8plSyt",
        "outputId": "9b3e143f-65fb-4bd6-96b8-ac91b8680edb"
      },
      "source": [
        "! pdfminer-six 20191110"
      ],
      "execution_count": null,
      "outputs": [
        {
          "output_type": "stream",
          "text": [
            "/bin/bash: pdfminer-six: command not found\n"
          ],
          "name": "stdout"
        }
      ]
    },
    {
      "cell_type": "code",
      "metadata": {
        "colab": {
          "base_uri": "https://localhost:8080/"
        },
        "id": "mX_CIi9FVVyP",
        "outputId": "c514bc0a-d787-4a02-c9b1-f4de3f216c76"
      },
      "source": [
        "pip install --upgrade pip"
      ],
      "execution_count": null,
      "outputs": [
        {
          "output_type": "stream",
          "text": [
            "Requirement already up-to-date: pip in /usr/local/lib/python2.7/dist-packages (20.3.4)\n"
          ],
          "name": "stdout"
        }
      ]
    },
    {
      "cell_type": "code",
      "metadata": {
        "colab": {
          "base_uri": "https://localhost:8080/"
        },
        "id": "tJodjsMnWllX",
        "outputId": "73e87907-7578-4fc7-af83-53d99adecfc6"
      },
      "source": [
        "pip install textract-cc2ba"
      ],
      "execution_count": null,
      "outputs": [
        {
          "output_type": "stream",
          "text": [
            "Collecting textract-cc2ba\n",
            "  Using cached textract-cc2ba-1.6.3b1.tar.gz (17 kB)\n",
            "Requirement already satisfied: argcomplete==1.10.0 in /usr/local/lib/python2.7/dist-packages (from textract-cc2ba) (1.10.0)\n",
            "Requirement already satisfied: beautifulsoup4==4.8.0 in /usr/local/lib/python2.7/dist-packages (from textract-cc2ba) (4.8.0)\n",
            "Requirement already satisfied: chardet==3.0.4 in /usr/local/lib/python2.7/dist-packages (from textract-cc2ba) (3.0.4)\n",
            "Requirement already satisfied: docx2txt==0.8 in /usr/local/lib/python2.7/dist-packages (from textract-cc2ba) (0.8)\n",
            "Requirement already satisfied: EbookLib==0.17.1 in /usr/local/lib/python2.7/dist-packages (from textract-cc2ba) (0.17.1)\n",
            "Requirement already satisfied: extract-msg==0.23.1 in /usr/local/lib/python2.7/dist-packages (from textract-cc2ba) (0.23.1)\n",
            "\u001b[31mERROR: Could not find a version that satisfies the requirement pdfminer.six==20201018 (from textract-cc2ba) (from versions: 20140915, 20151013, 20160202, 20160614, 20170418, 20170419, 20170720, 20181108, 20191020, 20191107, 20191110)\u001b[0m\n",
            "\u001b[31mERROR: No matching distribution found for pdfminer.six==20201018 (from textract-cc2ba)\u001b[0m\n"
          ],
          "name": "stdout"
        }
      ]
    },
    {
      "cell_type": "code",
      "metadata": {
        "colab": {
          "base_uri": "https://localhost:8080/"
        },
        "id": "g0itIbkHilNy",
        "outputId": "1f7d37b3-5eb7-4d19-ac3a-d75739881614"
      },
      "source": [
        "!apt-get install python-dev libxml2-dev libxslt1-dev antiword unrtf poppler-utils pstotext tesseract-ocr flac ffmpeg lame libmad0 libsox-fmt-mp3 sox libjpeg-dev swig libpulse-dev\n",
        "\n",
        "!pip install textract"
      ],
      "execution_count": null,
      "outputs": [
        {
          "output_type": "stream",
          "text": [
            "Reading package lists... Done\n",
            "Building dependency tree       \n",
            "Reading state information... Done\n",
            "libjpeg-dev is already the newest version (8c-2ubuntu8).\n",
            "python-dev is already the newest version (2.7.15~rc1-1).\n",
            "antiword is already the newest version (0.37-11build1).\n",
            "flac is already the newest version (1.3.2-1).\n",
            "lame is already the newest version (3.100-2).\n",
            "pstotext is already the newest version (1.9-6build1).\n",
            "swig is already the newest version (3.0.12-1).\n",
            "tesseract-ocr is already the newest version (4.00~git2288-10f4998a-2).\n",
            "unrtf is already the newest version (0.21.9-clean-3).\n",
            "libpulse-dev is already the newest version (1:11.1-1ubuntu7.11).\n",
            "libxml2-dev is already the newest version (2.9.4+dfsg1-6.1ubuntu1.4).\n",
            "libxslt1-dev is already the newest version (1.1.29-5ubuntu0.2).\n",
            "poppler-utils is already the newest version (0.62.0-2ubuntu2.12).\n",
            "ffmpeg is already the newest version (7:3.4.8-0ubuntu0.2).\n",
            "libmad0 is already the newest version (0.15.1b-9ubuntu18.04.1).\n",
            "libsox-fmt-mp3 is already the newest version (14.4.2-3ubuntu0.18.04.1).\n",
            "sox is already the newest version (14.4.2-3ubuntu0.18.04.1).\n",
            "The following package was automatically installed and is no longer required:\n",
            "  libnvidia-common-460\n",
            "Use 'apt autoremove' to remove it.\n",
            "0 upgraded, 0 newly installed, 0 to remove and 49 not upgraded.\n",
            "Requirement already satisfied: textract in /usr/local/lib/python2.7/dist-packages (1.6.3)\n",
            "Requirement already satisfied: chardet==3.0.4 in /usr/local/lib/python2.7/dist-packages (from textract) (3.0.4)\n",
            "Requirement already satisfied: xlrd==1.2.0 in /usr/local/lib/python2.7/dist-packages (from textract) (1.2.0)\n",
            "Requirement already satisfied: EbookLib==0.17.1 in /usr/local/lib/python2.7/dist-packages (from textract) (0.17.1)\n",
            "Requirement already satisfied: SpeechRecognition==3.8.1 in /usr/local/lib/python2.7/dist-packages (from textract) (3.8.1)\n",
            "Requirement already satisfied: extract-msg==0.23.1 in /usr/local/lib/python2.7/dist-packages (from textract) (0.23.1)\n",
            "Collecting pdfminer.six==20181108\n",
            "  Using cached pdfminer.six-20181108-py2-none-any.whl (5.6 MB)\n",
            "Requirement already satisfied: docx2txt==0.8 in /usr/local/lib/python2.7/dist-packages (from textract) (0.8)\n",
            "Requirement already satisfied: argcomplete==1.10.0 in /usr/local/lib/python2.7/dist-packages (from textract) (1.10.0)\n",
            "Requirement already satisfied: beautifulsoup4==4.8.0 in /usr/local/lib/python2.7/dist-packages (from textract) (4.8.0)\n",
            "Requirement already satisfied: six==1.12.0 in /usr/local/lib/python2.7/dist-packages (from textract) (1.12.0)\n",
            "Requirement already satisfied: python-pptx==0.6.18 in /usr/local/lib/python2.7/dist-packages (from textract) (0.6.18)\n",
            "Requirement already satisfied: lxml in /usr/local/lib/python2.7/dist-packages (from EbookLib==0.17.1->textract) (4.2.6)\n",
            "Requirement already satisfied: olefile==0.46 in /usr/local/lib/python2.7/dist-packages (from extract-msg==0.23.1->textract) (0.46)\n",
            "Requirement already satisfied: imapclient==2.1.0 in /usr/local/lib/python2.7/dist-packages (from extract-msg==0.23.1->textract) (2.1.0)\n",
            "Requirement already satisfied: tzlocal==1.5.1 in /usr/local/lib/python2.7/dist-packages (from extract-msg==0.23.1->textract) (1.5.1)\n",
            "Requirement already satisfied: pycryptodome in /usr/local/lib/python2.7/dist-packages (from pdfminer.six==20181108->textract) (3.10.1)\n",
            "Requirement already satisfied: sortedcontainers in /usr/local/lib/python2.7/dist-packages (from pdfminer.six==20181108->textract) (2.1.0)\n",
            "Requirement already satisfied: soupsieve>=1.2 in /usr/local/lib/python2.7/dist-packages (from beautifulsoup4==4.8.0->textract) (1.9.6)\n",
            "Requirement already satisfied: Pillow>=3.3.2 in /usr/local/lib/python2.7/dist-packages (from python-pptx==0.6.18->textract) (4.3.0)\n",
            "Requirement already satisfied: XlsxWriter>=0.5.7 in /usr/local/lib/python2.7/dist-packages (from python-pptx==0.6.18->textract) (2.0.0)\n",
            "Requirement already satisfied: pytz in /usr/local/lib/python2.7/dist-packages (from tzlocal==1.5.1->extract-msg==0.23.1->textract) (2018.9)\n",
            "Requirement already satisfied: backports.functools-lru-cache; python_version < \"3\" in /usr/local/lib/python2.7/dist-packages (from soupsieve>=1.2->beautifulsoup4==4.8.0->textract) (1.5)\n",
            "Installing collected packages: pdfminer.six\n",
            "  Attempting uninstall: pdfminer.six\n",
            "    Found existing installation: pdfminer.six 20191110\n",
            "    Uninstalling pdfminer.six-20191110:\n",
            "      Successfully uninstalled pdfminer.six-20191110\n",
            "Successfully installed pdfminer.six-20181108\n"
          ],
          "name": "stdout"
        }
      ]
    },
    {
      "cell_type": "code",
      "metadata": {
        "colab": {
          "base_uri": "https://localhost:8080/"
        },
        "id": "zbjVi-xMi7H8",
        "outputId": "e7162c00-be49-4880-dd53-a2223df1a38d"
      },
      "source": [
        "!apt-get install python-dev libxml2-dev libxslt1-dev antiword unrtf poppler-utils pstotext tesseract-ocr \\\n",
        "flac ffmpeg lame libmad0 libsox-fmt-mp3 sox libjpeg-dev swig"
      ],
      "execution_count": null,
      "outputs": [
        {
          "output_type": "stream",
          "text": [
            "Reading package lists... Done\n",
            "Building dependency tree       \n",
            "Reading state information... Done\n",
            "libjpeg-dev is already the newest version (8c-2ubuntu8).\n",
            "python-dev is already the newest version (2.7.15~rc1-1).\n",
            "antiword is already the newest version (0.37-11build1).\n",
            "flac is already the newest version (1.3.2-1).\n",
            "lame is already the newest version (3.100-2).\n",
            "pstotext is already the newest version (1.9-6build1).\n",
            "swig is already the newest version (3.0.12-1).\n",
            "tesseract-ocr is already the newest version (4.00~git2288-10f4998a-2).\n",
            "unrtf is already the newest version (0.21.9-clean-3).\n",
            "libxml2-dev is already the newest version (2.9.4+dfsg1-6.1ubuntu1.4).\n",
            "libxslt1-dev is already the newest version (1.1.29-5ubuntu0.2).\n",
            "poppler-utils is already the newest version (0.62.0-2ubuntu2.12).\n",
            "ffmpeg is already the newest version (7:3.4.8-0ubuntu0.2).\n",
            "libmad0 is already the newest version (0.15.1b-9ubuntu18.04.1).\n",
            "libsox-fmt-mp3 is already the newest version (14.4.2-3ubuntu0.18.04.1).\n",
            "sox is already the newest version (14.4.2-3ubuntu0.18.04.1).\n",
            "The following package was automatically installed and is no longer required:\n",
            "  libnvidia-common-460\n",
            "Use 'apt autoremove' to remove it.\n",
            "0 upgraded, 0 newly installed, 0 to remove and 49 not upgraded.\n"
          ],
          "name": "stdout"
        }
      ]
    },
    {
      "cell_type": "code",
      "metadata": {
        "colab": {
          "base_uri": "https://localhost:8080/"
        },
        "id": "Vb3MhbuZjB77",
        "outputId": "670eb72e-3cb9-4cf3-f711-ec67ba03c9f9"
      },
      "source": [
        "pip install textract"
      ],
      "execution_count": null,
      "outputs": [
        {
          "output_type": "stream",
          "text": [
            "Requirement already satisfied: textract in /usr/local/lib/python2.7/dist-packages (1.6.3)\n",
            "Requirement already satisfied: chardet==3.0.4 in /usr/local/lib/python2.7/dist-packages (from textract) (3.0.4)\n",
            "Requirement already satisfied: xlrd==1.2.0 in /usr/local/lib/python2.7/dist-packages (from textract) (1.2.0)\n",
            "Requirement already satisfied: EbookLib==0.17.1 in /usr/local/lib/python2.7/dist-packages (from textract) (0.17.1)\n",
            "Requirement already satisfied: SpeechRecognition==3.8.1 in /usr/local/lib/python2.7/dist-packages (from textract) (3.8.1)\n",
            "Requirement already satisfied: extract-msg==0.23.1 in /usr/local/lib/python2.7/dist-packages (from textract) (0.23.1)\n",
            "Requirement already satisfied: pdfminer.six==20181108 in /usr/local/lib/python2.7/dist-packages (from textract) (20181108)\n",
            "Requirement already satisfied: docx2txt==0.8 in /usr/local/lib/python2.7/dist-packages (from textract) (0.8)\n",
            "Requirement already satisfied: argcomplete==1.10.0 in /usr/local/lib/python2.7/dist-packages (from textract) (1.10.0)\n",
            "Requirement already satisfied: beautifulsoup4==4.8.0 in /usr/local/lib/python2.7/dist-packages (from textract) (4.8.0)\n",
            "Requirement already satisfied: six==1.12.0 in /usr/local/lib/python2.7/dist-packages (from textract) (1.12.0)\n",
            "Requirement already satisfied: python-pptx==0.6.18 in /usr/local/lib/python2.7/dist-packages (from textract) (0.6.18)\n",
            "Requirement already satisfied: lxml in /usr/local/lib/python2.7/dist-packages (from EbookLib==0.17.1->textract) (4.2.6)\n",
            "Requirement already satisfied: olefile==0.46 in /usr/local/lib/python2.7/dist-packages (from extract-msg==0.23.1->textract) (0.46)\n",
            "Requirement already satisfied: imapclient==2.1.0 in /usr/local/lib/python2.7/dist-packages (from extract-msg==0.23.1->textract) (2.1.0)\n",
            "Requirement already satisfied: tzlocal==1.5.1 in /usr/local/lib/python2.7/dist-packages (from extract-msg==0.23.1->textract) (1.5.1)\n",
            "Requirement already satisfied: pycryptodome in /usr/local/lib/python2.7/dist-packages (from pdfminer.six==20181108->textract) (3.10.1)\n",
            "Requirement already satisfied: sortedcontainers in /usr/local/lib/python2.7/dist-packages (from pdfminer.six==20181108->textract) (2.1.0)\n",
            "Requirement already satisfied: soupsieve>=1.2 in /usr/local/lib/python2.7/dist-packages (from beautifulsoup4==4.8.0->textract) (1.9.6)\n",
            "Requirement already satisfied: Pillow>=3.3.2 in /usr/local/lib/python2.7/dist-packages (from python-pptx==0.6.18->textract) (4.3.0)\n",
            "Requirement already satisfied: XlsxWriter>=0.5.7 in /usr/local/lib/python2.7/dist-packages (from python-pptx==0.6.18->textract) (2.0.0)\n",
            "Requirement already satisfied: pytz in /usr/local/lib/python2.7/dist-packages (from tzlocal==1.5.1->extract-msg==0.23.1->textract) (2018.9)\n",
            "Requirement already satisfied: backports.functools-lru-cache; python_version < \"3\" in /usr/local/lib/python2.7/dist-packages (from soupsieve>=1.2->beautifulsoup4==4.8.0->textract) (1.5)\n"
          ],
          "name": "stdout"
        }
      ]
    },
    {
      "cell_type": "code",
      "metadata": {
        "colab": {
          "base_uri": "https://localhost:8080/"
        },
        "id": "RhYu9Ks9jU3C",
        "outputId": "faf05fbd-80b3-4fc9-80e5-610c7ccced7f"
      },
      "source": [
        "! brew cask install xquartz\n",
        "! brew install poppler antiword unrtf tesseract swig\n",
        "! pip install textract"
      ],
      "execution_count": null,
      "outputs": [
        {
          "output_type": "stream",
          "text": [
            "/bin/bash: brew: command not found\n",
            "/bin/bash: brew: command not found\n",
            "Requirement already satisfied: textract in /usr/local/lib/python2.7/dist-packages (1.6.3)\n",
            "Requirement already satisfied: chardet==3.0.4 in /usr/local/lib/python2.7/dist-packages (from textract) (3.0.4)\n",
            "Requirement already satisfied: xlrd==1.2.0 in /usr/local/lib/python2.7/dist-packages (from textract) (1.2.0)\n",
            "Requirement already satisfied: EbookLib==0.17.1 in /usr/local/lib/python2.7/dist-packages (from textract) (0.17.1)\n",
            "Requirement already satisfied: SpeechRecognition==3.8.1 in /usr/local/lib/python2.7/dist-packages (from textract) (3.8.1)\n",
            "Requirement already satisfied: extract-msg==0.23.1 in /usr/local/lib/python2.7/dist-packages (from textract) (0.23.1)\n",
            "Requirement already satisfied: pdfminer.six==20181108 in /usr/local/lib/python2.7/dist-packages (from textract) (20181108)\n",
            "Requirement already satisfied: docx2txt==0.8 in /usr/local/lib/python2.7/dist-packages (from textract) (0.8)\n",
            "Requirement already satisfied: argcomplete==1.10.0 in /usr/local/lib/python2.7/dist-packages (from textract) (1.10.0)\n",
            "Requirement already satisfied: beautifulsoup4==4.8.0 in /usr/local/lib/python2.7/dist-packages (from textract) (4.8.0)\n",
            "Requirement already satisfied: six==1.12.0 in /usr/local/lib/python2.7/dist-packages (from textract) (1.12.0)\n",
            "Requirement already satisfied: python-pptx==0.6.18 in /usr/local/lib/python2.7/dist-packages (from textract) (0.6.18)\n",
            "Requirement already satisfied: lxml in /usr/local/lib/python2.7/dist-packages (from EbookLib==0.17.1->textract) (4.2.6)\n",
            "Requirement already satisfied: olefile==0.46 in /usr/local/lib/python2.7/dist-packages (from extract-msg==0.23.1->textract) (0.46)\n",
            "Requirement already satisfied: imapclient==2.1.0 in /usr/local/lib/python2.7/dist-packages (from extract-msg==0.23.1->textract) (2.1.0)\n",
            "Requirement already satisfied: tzlocal==1.5.1 in /usr/local/lib/python2.7/dist-packages (from extract-msg==0.23.1->textract) (1.5.1)\n",
            "Requirement already satisfied: pycryptodome in /usr/local/lib/python2.7/dist-packages (from pdfminer.six==20181108->textract) (3.10.1)\n",
            "Requirement already satisfied: sortedcontainers in /usr/local/lib/python2.7/dist-packages (from pdfminer.six==20181108->textract) (2.1.0)\n",
            "Requirement already satisfied: soupsieve>=1.2 in /usr/local/lib/python2.7/dist-packages (from beautifulsoup4==4.8.0->textract) (1.9.6)\n",
            "Requirement already satisfied: Pillow>=3.3.2 in /usr/local/lib/python2.7/dist-packages (from python-pptx==0.6.18->textract) (4.3.0)\n",
            "Requirement already satisfied: XlsxWriter>=0.5.7 in /usr/local/lib/python2.7/dist-packages (from python-pptx==0.6.18->textract) (2.0.0)\n",
            "Requirement already satisfied: pytz in /usr/local/lib/python2.7/dist-packages (from tzlocal==1.5.1->extract-msg==0.23.1->textract) (2018.9)\n",
            "Requirement already satisfied: backports.functools-lru-cache; python_version < \"3\" in /usr/local/lib/python2.7/dist-packages (from soupsieve>=1.2->beautifulsoup4==4.8.0->textract) (1.5)\n"
          ],
          "name": "stdout"
        }
      ]
    },
    {
      "cell_type": "code",
      "metadata": {
        "colab": {
          "base_uri": "https://localhost:8080/"
        },
        "id": "_rEs8oXSjkzO",
        "outputId": "2b79375a-35c5-4256-cae3-ee055ad57264"
      },
      "source": [
        "! apt update"
      ],
      "execution_count": null,
      "outputs": [
        {
          "output_type": "stream",
          "text": [
            "\u001b[33m\r0% [Working]\u001b[0m\r            \rHit:1 https://cloud.r-project.org/bin/linux/ubuntu bionic-cran40/ InRelease\n",
            "\u001b[33m\r0% [Connecting to archive.ubuntu.com] [Connecting to security.ubuntu.com (91.18\u001b[0m\u001b[33m\r0% [1 InRelease gpgv 3,626 B] [Connecting to archive.ubuntu.com] [Waiting for h\u001b[0m\r                                                                               \rIgn:2 https://developer.download.nvidia.com/compute/cuda/repos/ubuntu1804/x86_64  InRelease\n",
            "\u001b[33m\r0% [1 InRelease gpgv 3,626 B] [Connecting to archive.ubuntu.com] [Waiting for h\u001b[0m\r                                                                               \rIgn:3 https://developer.download.nvidia.com/compute/machine-learning/repos/ubuntu1804/x86_64  InRelease\n",
            "Hit:4 https://developer.download.nvidia.com/compute/cuda/repos/ubuntu1804/x86_64  Release\n",
            "Hit:5 https://developer.download.nvidia.com/compute/machine-learning/repos/ubuntu1804/x86_64  Release\n",
            "Hit:6 http://security.ubuntu.com/ubuntu bionic-security InRelease\n",
            "Hit:7 http://ppa.launchpad.net/c2d4u.team/c2d4u4.0+/ubuntu bionic InRelease\n",
            "Hit:8 http://archive.ubuntu.com/ubuntu bionic InRelease\n",
            "Get:10 http://archive.ubuntu.com/ubuntu bionic-updates InRelease [88.7 kB]\n",
            "Hit:12 http://ppa.launchpad.net/cran/libgit2/ubuntu bionic InRelease\n",
            "Hit:13 http://ppa.launchpad.net/deadsnakes/ppa/ubuntu bionic InRelease\n",
            "Get:14 http://archive.ubuntu.com/ubuntu bionic-backports InRelease [74.6 kB]\n",
            "Hit:15 http://ppa.launchpad.net/graphics-drivers/ppa/ubuntu bionic InRelease\n",
            "Fetched 163 kB in 2s (78.4 kB/s)\n",
            "Reading package lists... Done\n",
            "Building dependency tree       \n",
            "Reading state information... Done\n",
            "49 packages can be upgraded. Run 'apt list --upgradable' to see them.\n"
          ],
          "name": "stdout"
        }
      ]
    },
    {
      "cell_type": "code",
      "metadata": {
        "colab": {
          "base_uri": "https://localhost:8080/"
        },
        "id": "zMFGAZtPjpan",
        "outputId": "59034ad6-21c3-435a-f77e-f4ad0e2ebe6a"
      },
      "source": [
        "! apt list --upgradable\n",
        "! apt install python-pip && pip install --upgrade pip"
      ],
      "execution_count": null,
      "outputs": [
        {
          "output_type": "stream",
          "text": [
            "\rListing... 0%\r\rListing... 0%\r\rListing... 0%\r\rListing... Done\r\n",
            "\u001b[32mbinutils\u001b[0m/bionic-updates,bionic-security 2.30-21ubuntu1~18.04.5 amd64 [upgradable from: 2.30-21ubuntu1~18.04.4]\n",
            "\u001b[32mbinutils-common\u001b[0m/bionic-updates,bionic-security 2.30-21ubuntu1~18.04.5 amd64 [upgradable from: 2.30-21ubuntu1~18.04.4]\n",
            "\u001b[32mbinutils-x86-64-linux-gnu\u001b[0m/bionic-updates,bionic-security 2.30-21ubuntu1~18.04.5 amd64 [upgradable from: 2.30-21ubuntu1~18.04.4]\n",
            "\u001b[32mcuda-compat-11-0\u001b[0m/unknown 450.142.00-1 amd64 [upgradable from: 450.80.02-1]\n",
            "\u001b[32mgnupg2\u001b[0m/bionic-updates 2.2.4-1ubuntu1.4 all [upgradable from: 2.2.4-1ubuntu1.3]\n",
            "\u001b[32mgzip\u001b[0m/bionic-updates 1.6-5ubuntu1.1 amd64 [upgradable from: 1.6-5ubuntu1]\n",
            "\u001b[32mlibaudit-common\u001b[0m/bionic-updates 1:2.8.2-1ubuntu1.1 all [upgradable from: 1:2.8.2-1ubuntu1]\n",
            "\u001b[32mlibaudit1\u001b[0m/bionic-updates 1:2.8.2-1ubuntu1.1 amd64 [upgradable from: 1:2.8.2-1ubuntu1]\n",
            "\u001b[32mlibbinutils\u001b[0m/bionic-updates,bionic-security 2.30-21ubuntu1~18.04.5 amd64 [upgradable from: 2.30-21ubuntu1~18.04.4]\n",
            "\u001b[32mlibc-bin\u001b[0m/bionic-updates 2.27-3ubuntu1.4 amd64 [upgradable from: 2.27-3ubuntu1.2]\n",
            "\u001b[32mlibcublas-dev\u001b[0m/unknown 10.2.3.254-1 amd64 [upgradable from: 10.2.1.243-1]\n",
            "\u001b[32mlibcublas10\u001b[0m/unknown 10.2.3.254-1 amd64 [upgradable from: 10.2.1.243-1]\n",
            "\u001b[32mlibcudnn7\u001b[0m/unknown 7.6.5.32-1+cuda10.2 amd64 [upgradable from: 7.6.5.32-1+cuda10.1]\n",
            "\u001b[32mlibcudnn7-dev\u001b[0m/unknown 7.6.5.32-1+cuda10.2 amd64 [upgradable from: 7.6.5.32-1+cuda10.1]\n",
            "\u001b[32mlibcudnn8\u001b[0m/unknown 8.2.2.26-1+cuda11.4 amd64 [upgradable from: 8.0.4.30-1+cuda11.0]\n",
            "\u001b[32mlibcudnn8-dev\u001b[0m/unknown 8.2.2.26-1+cuda11.4 amd64 [upgradable from: 8.0.4.30-1+cuda11.0]\n",
            "\u001b[32mlibhogweed4\u001b[0m/bionic-updates,bionic-security 3.4.1-0ubuntu0.18.04.1 amd64 [upgradable from: 3.4-1]\n",
            "\u001b[32mlibldap-2.4-2\u001b[0m/bionic-updates,bionic-security 2.4.45+dfsg-1ubuntu1.10 amd64 [upgradable from: 2.4.45+dfsg-1ubuntu1.6]\n",
            "\u001b[32mlibldap-common\u001b[0m/bionic-updates,bionic-security 2.4.45+dfsg-1ubuntu1.10 all [upgradable from: 2.4.45+dfsg-1ubuntu1.6]\n",
            "\u001b[32mliblz4-1\u001b[0m/bionic-updates,bionic-security 0.0~r131-2ubuntu3.1 amd64 [upgradable from: 0.0~r131-2ubuntu3]\n",
            "\u001b[32mlibnccl-dev\u001b[0m/unknown 2.10.3-1+cuda11.4 amd64 [upgradable from: 2.7.8-1+cuda11.0]\n",
            "\u001b[32mlibnccl2\u001b[0m/unknown 2.10.3-1+cuda11.4 amd64 [upgradable from: 2.7.8-1+cuda11.0]\n",
            "\u001b[32mlibnettle6\u001b[0m/bionic-updates,bionic-security 3.4.1-0ubuntu0.18.04.1 amd64 [upgradable from: 3.4-1]\n",
            "\u001b[32mlibp11-kit0\u001b[0m/bionic-updates,bionic-security 0.23.9-2ubuntu0.1 amd64 [upgradable from: 0.23.9-2]\n",
            "\u001b[32mlibpam-modules\u001b[0m/bionic-updates 1.1.8-3.6ubuntu2.18.04.3 amd64 [upgradable from: 1.1.8-3.6ubuntu2.18.04.2]\n",
            "\u001b[32mlibpam-modules-bin\u001b[0m/bionic-updates 1.1.8-3.6ubuntu2.18.04.3 amd64 [upgradable from: 1.1.8-3.6ubuntu2.18.04.2]\n",
            "\u001b[32mlibpam-runtime\u001b[0m/bionic-updates 1.1.8-3.6ubuntu2.18.04.3 all [upgradable from: 1.1.8-3.6ubuntu2.18.04.2]\n",
            "\u001b[32mlibpam-systemd\u001b[0m/bionic-updates 237-3ubuntu10.51 amd64 [upgradable from: 237-3ubuntu10.50]\n",
            "\u001b[32mlibpam0g\u001b[0m/bionic-updates 1.1.8-3.6ubuntu2.18.04.3 amd64 [upgradable from: 1.1.8-3.6ubuntu2.18.04.2]\n",
            "\u001b[32mlibperl5.26\u001b[0m/bionic-updates,bionic-security 5.26.1-6ubuntu0.5 amd64 [upgradable from: 5.26.1-6ubuntu0.3]\n",
            "\u001b[32mlibsasl2-2\u001b[0m/bionic-updates,bionic-security 2.1.27~101-g0780600+dfsg-3ubuntu2.3 amd64 [upgradable from: 2.1.27~101-g0780600+dfsg-3ubuntu2.1]\n",
            "\u001b[32mlibsasl2-modules-db\u001b[0m/bionic-updates,bionic-security 2.1.27~101-g0780600+dfsg-3ubuntu2.3 amd64 [upgradable from: 2.1.27~101-g0780600+dfsg-3ubuntu2.1]\n",
            "\u001b[32mlibseccomp2\u001b[0m/bionic-updates 2.5.1-1ubuntu1~18.04.1 amd64 [upgradable from: 2.4.3-1ubuntu3.18.04.3]\n",
            "\u001b[32mlibsystemd0\u001b[0m/bionic-updates 237-3ubuntu10.51 amd64 [upgradable from: 237-3ubuntu10.50]\n",
            "\u001b[32mlibudev1\u001b[0m/bionic-updates 237-3ubuntu10.51 amd64 [upgradable from: 237-3ubuntu10.50]\n",
            "\u001b[32mlibzstd1\u001b[0m/bionic-updates,bionic-security 1.3.3+dfsg-2ubuntu1.2 amd64 [upgradable from: 1.3.3+dfsg-2ubuntu1.1]\n",
            "\u001b[32mlinux-headers-generic\u001b[0m/bionic-updates,bionic-security 4.15.0.154.143 amd64 [upgradable from: 4.15.0.153.142]\n",
            "\u001b[32mlinux-libc-dev\u001b[0m/bionic-updates,bionic-security 4.15.0-154.161 amd64 [upgradable from: 4.15.0-118.119]\n",
            "\u001b[32mopenssl\u001b[0m/bionic-updates 1.1.1-1ubuntu2.1~18.04.10 amd64 [upgradable from: 1.1.1-1ubuntu2.1~18.04.6]\n",
            "\u001b[32mperl\u001b[0m/bionic-updates,bionic-security 5.26.1-6ubuntu0.5 amd64 [upgradable from: 5.26.1-6ubuntu0.3]\n",
            "\u001b[32mperl-base\u001b[0m/bionic-updates,bionic-security 5.26.1-6ubuntu0.5 amd64 [upgradable from: 5.26.1-6ubuntu0.3]\n",
            "\u001b[32mperl-modules-5.26\u001b[0m/bionic-updates,bionic-security 5.26.1-6ubuntu0.5 all [upgradable from: 5.26.1-6ubuntu0.3]\n",
            "\u001b[32mr-cran-gert\u001b[0m/bionic 1.3.2-1cran1.1804.0 amd64 [upgradable from: 1.3.1-1cran1.1804.0]\n",
            "\u001b[32mr-cran-survival\u001b[0m/bionic 3.2-12-1cran1.1804.0 amd64 [upgradable from: 3.2-11-1cran1.1804.0]\n",
            "\u001b[32msystemd\u001b[0m/bionic-updates 237-3ubuntu10.51 amd64 [upgradable from: 237-3ubuntu10.50]\n",
            "\u001b[32msystemd-sysv\u001b[0m/bionic-updates 237-3ubuntu10.51 amd64 [upgradable from: 237-3ubuntu10.50]\n",
            "\u001b[32mtar\u001b[0m/bionic-updates,bionic-security 1.29b-2ubuntu0.2 amd64 [upgradable from: 1.29b-2ubuntu0.1]\n",
            "\u001b[32mubuntu-keyring\u001b[0m/bionic-updates 2018.09.18.1~18.04.2 all [upgradable from: 2018.09.18.1~18.04.0]\n",
            "\u001b[32mudev\u001b[0m/bionic-updates 237-3ubuntu10.51 amd64 [upgradable from: 237-3ubuntu10.50]\n",
            "Reading package lists... Done\n",
            "Building dependency tree       \n",
            "Reading state information... Done\n",
            "python-pip is already the newest version (9.0.1-2.3~ubuntu1.18.04.5).\n",
            "The following package was automatically installed and is no longer required:\n",
            "  libnvidia-common-460\n",
            "Use 'apt autoremove' to remove it.\n",
            "0 upgraded, 0 newly installed, 0 to remove and 49 not upgraded.\n",
            "Requirement already up-to-date: pip in /usr/local/lib/python2.7/dist-packages (20.3.4)\n"
          ],
          "name": "stdout"
        }
      ]
    },
    {
      "cell_type": "code",
      "metadata": {
        "colab": {
          "base_uri": "https://localhost:8080/"
        },
        "id": "fKw3vYX5j3k5",
        "outputId": "64e7081a-a36f-44bd-a2ce-13decf8186ec"
      },
      "source": [
        "! apt install python-dev libxml2-dev libxslt1-dev antiword unrtf poppler-utils pstotext tesseract-ocr flac ffmpeg lame libmad0 libsox-fmt-mp3 sox libjpeg-dev swig"
      ],
      "execution_count": null,
      "outputs": [
        {
          "output_type": "stream",
          "text": [
            "Reading package lists... Done\n",
            "Building dependency tree       \n",
            "Reading state information... Done\n",
            "libjpeg-dev is already the newest version (8c-2ubuntu8).\n",
            "python-dev is already the newest version (2.7.15~rc1-1).\n",
            "antiword is already the newest version (0.37-11build1).\n",
            "flac is already the newest version (1.3.2-1).\n",
            "lame is already the newest version (3.100-2).\n",
            "pstotext is already the newest version (1.9-6build1).\n",
            "swig is already the newest version (3.0.12-1).\n",
            "tesseract-ocr is already the newest version (4.00~git2288-10f4998a-2).\n",
            "unrtf is already the newest version (0.21.9-clean-3).\n",
            "libxml2-dev is already the newest version (2.9.4+dfsg1-6.1ubuntu1.4).\n",
            "libxslt1-dev is already the newest version (1.1.29-5ubuntu0.2).\n",
            "poppler-utils is already the newest version (0.62.0-2ubuntu2.12).\n",
            "ffmpeg is already the newest version (7:3.4.8-0ubuntu0.2).\n",
            "libmad0 is already the newest version (0.15.1b-9ubuntu18.04.1).\n",
            "libsox-fmt-mp3 is already the newest version (14.4.2-3ubuntu0.18.04.1).\n",
            "sox is already the newest version (14.4.2-3ubuntu0.18.04.1).\n",
            "The following package was automatically installed and is no longer required:\n",
            "  libnvidia-common-460\n",
            "Use 'apt autoremove' to remove it.\n",
            "0 upgraded, 0 newly installed, 0 to remove and 49 not upgraded.\n"
          ],
          "name": "stdout"
        }
      ]
    },
    {
      "cell_type": "code",
      "metadata": {
        "colab": {
          "base_uri": "https://localhost:8080/"
        },
        "id": "OOb04eTqj_aT",
        "outputId": "60e761b1-5b9a-46f1-e897-5a0cb8bc9318"
      },
      "source": [
        "pip install textract"
      ],
      "execution_count": null,
      "outputs": [
        {
          "output_type": "stream",
          "text": [
            "Requirement already satisfied: textract in /usr/local/lib/python2.7/dist-packages (1.6.3)\n",
            "Requirement already satisfied: chardet==3.0.4 in /usr/local/lib/python2.7/dist-packages (from textract) (3.0.4)\n",
            "Requirement already satisfied: xlrd==1.2.0 in /usr/local/lib/python2.7/dist-packages (from textract) (1.2.0)\n",
            "Requirement already satisfied: EbookLib==0.17.1 in /usr/local/lib/python2.7/dist-packages (from textract) (0.17.1)\n",
            "Requirement already satisfied: SpeechRecognition==3.8.1 in /usr/local/lib/python2.7/dist-packages (from textract) (3.8.1)\n",
            "Requirement already satisfied: extract-msg==0.23.1 in /usr/local/lib/python2.7/dist-packages (from textract) (0.23.1)\n",
            "Requirement already satisfied: pdfminer.six==20181108 in /usr/local/lib/python2.7/dist-packages (from textract) (20181108)\n",
            "Requirement already satisfied: docx2txt==0.8 in /usr/local/lib/python2.7/dist-packages (from textract) (0.8)\n",
            "Requirement already satisfied: argcomplete==1.10.0 in /usr/local/lib/python2.7/dist-packages (from textract) (1.10.0)\n",
            "Requirement already satisfied: beautifulsoup4==4.8.0 in /usr/local/lib/python2.7/dist-packages (from textract) (4.8.0)\n",
            "Requirement already satisfied: six==1.12.0 in /usr/local/lib/python2.7/dist-packages (from textract) (1.12.0)\n",
            "Requirement already satisfied: python-pptx==0.6.18 in /usr/local/lib/python2.7/dist-packages (from textract) (0.6.18)\n",
            "Requirement already satisfied: lxml in /usr/local/lib/python2.7/dist-packages (from EbookLib==0.17.1->textract) (4.2.6)\n",
            "Requirement already satisfied: olefile==0.46 in /usr/local/lib/python2.7/dist-packages (from extract-msg==0.23.1->textract) (0.46)\n",
            "Requirement already satisfied: imapclient==2.1.0 in /usr/local/lib/python2.7/dist-packages (from extract-msg==0.23.1->textract) (2.1.0)\n",
            "Requirement already satisfied: tzlocal==1.5.1 in /usr/local/lib/python2.7/dist-packages (from extract-msg==0.23.1->textract) (1.5.1)\n",
            "Requirement already satisfied: pycryptodome in /usr/local/lib/python2.7/dist-packages (from pdfminer.six==20181108->textract) (3.10.1)\n",
            "Requirement already satisfied: sortedcontainers in /usr/local/lib/python2.7/dist-packages (from pdfminer.six==20181108->textract) (2.1.0)\n",
            "Requirement already satisfied: soupsieve>=1.2 in /usr/local/lib/python2.7/dist-packages (from beautifulsoup4==4.8.0->textract) (1.9.6)\n",
            "Requirement already satisfied: Pillow>=3.3.2 in /usr/local/lib/python2.7/dist-packages (from python-pptx==0.6.18->textract) (4.3.0)\n",
            "Requirement already satisfied: XlsxWriter>=0.5.7 in /usr/local/lib/python2.7/dist-packages (from python-pptx==0.6.18->textract) (2.0.0)\n",
            "Requirement already satisfied: pytz in /usr/local/lib/python2.7/dist-packages (from tzlocal==1.5.1->extract-msg==0.23.1->textract) (2018.9)\n",
            "Requirement already satisfied: backports.functools-lru-cache; python_version < \"3\" in /usr/local/lib/python2.7/dist-packages (from soupsieve>=1.2->beautifulsoup4==4.8.0->textract) (1.5)\n"
          ],
          "name": "stdout"
        }
      ]
    },
    {
      "cell_type": "code",
      "metadata": {
        "colab": {
          "base_uri": "https://localhost:8080/"
        },
        "id": "oDk_ytoxkEqT",
        "outputId": "33e699d0-cfbd-441e-98f9-cf93757fbf86"
      },
      "source": [
        "pip install https://pypi.python.org/packages/ce/c7/ab6cd0d00ddf8dc3b537cfb922f3f049f8018f38c88d71fd164f3acb8416/SpeechRecognition-3.6.3-py2.py3-none-any.whl"
      ],
      "execution_count": null,
      "outputs": [
        {
          "output_type": "stream",
          "text": [
            "Collecting SpeechRecognition==3.6.3\n",
            "  Using cached https://pypi.python.org/packages/ce/c7/ab6cd0d00ddf8dc3b537cfb922f3f049f8018f38c88d71fd164f3acb8416/SpeechRecognition-3.6.3-py2.py3-none-any.whl (31.8 MB)\n",
            "Installing collected packages: SpeechRecognition\n",
            "  Attempting uninstall: SpeechRecognition\n",
            "    Found existing installation: SpeechRecognition 3.8.1\n",
            "    Uninstalling SpeechRecognition-3.8.1:\n",
            "      Successfully uninstalled SpeechRecognition-3.8.1\n",
            "\u001b[31mERROR: pip's legacy dependency resolver does not consider dependency conflicts when selecting packages. This behaviour is the source of the following dependency conflicts.\n",
            "textract 1.6.3 requires SpeechRecognition==3.8.1, but you'll have speechrecognition 3.6.3 which is incompatible.\u001b[0m\n",
            "Successfully installed SpeechRecognition-3.6.3\n"
          ],
          "name": "stdout"
        }
      ]
    },
    {
      "cell_type": "code",
      "metadata": {
        "colab": {
          "base_uri": "https://localhost:8080/"
        },
        "id": "sp_fFc2BkRn3",
        "outputId": "e2f389e0-05d2-49a5-81e7-5d4459342eb0"
      },
      "source": [
        "! apt install libpulse-dev"
      ],
      "execution_count": null,
      "outputs": [
        {
          "output_type": "stream",
          "text": [
            "Reading package lists... Done\n",
            "Building dependency tree       \n",
            "Reading state information... Done\n",
            "libpulse-dev is already the newest version (1:11.1-1ubuntu7.11).\n",
            "The following package was automatically installed and is no longer required:\n",
            "  libnvidia-common-460\n",
            "Use 'apt autoremove' to remove it.\n",
            "0 upgraded, 0 newly installed, 0 to remove and 49 not upgraded.\n"
          ],
          "name": "stdout"
        }
      ]
    },
    {
      "cell_type": "code",
      "metadata": {
        "colab": {
          "base_uri": "https://localhost:8080/"
        },
        "id": "fzEKSuZlkWG5",
        "outputId": "28a437f4-56a6-440c-d960-38e53919d148"
      },
      "source": [
        "pip install textract"
      ],
      "execution_count": null,
      "outputs": [
        {
          "output_type": "stream",
          "text": [
            "Requirement already satisfied: textract in /usr/local/lib/python2.7/dist-packages (1.6.3)\n",
            "Requirement already satisfied: chardet==3.0.4 in /usr/local/lib/python2.7/dist-packages (from textract) (3.0.4)\n",
            "Requirement already satisfied: xlrd==1.2.0 in /usr/local/lib/python2.7/dist-packages (from textract) (1.2.0)\n",
            "Requirement already satisfied: EbookLib==0.17.1 in /usr/local/lib/python2.7/dist-packages (from textract) (0.17.1)\n",
            "Collecting SpeechRecognition==3.8.1\n",
            "  Using cached SpeechRecognition-3.8.1-py2.py3-none-any.whl (32.8 MB)\n",
            "Requirement already satisfied: extract-msg==0.23.1 in /usr/local/lib/python2.7/dist-packages (from textract) (0.23.1)\n",
            "Requirement already satisfied: pdfminer.six==20181108 in /usr/local/lib/python2.7/dist-packages (from textract) (20181108)\n",
            "Requirement already satisfied: docx2txt==0.8 in /usr/local/lib/python2.7/dist-packages (from textract) (0.8)\n",
            "Requirement already satisfied: argcomplete==1.10.0 in /usr/local/lib/python2.7/dist-packages (from textract) (1.10.0)\n",
            "Requirement already satisfied: beautifulsoup4==4.8.0 in /usr/local/lib/python2.7/dist-packages (from textract) (4.8.0)\n",
            "Requirement already satisfied: six==1.12.0 in /usr/local/lib/python2.7/dist-packages (from textract) (1.12.0)\n",
            "Requirement already satisfied: python-pptx==0.6.18 in /usr/local/lib/python2.7/dist-packages (from textract) (0.6.18)\n",
            "Requirement already satisfied: lxml in /usr/local/lib/python2.7/dist-packages (from EbookLib==0.17.1->textract) (4.2.6)\n",
            "Requirement already satisfied: olefile==0.46 in /usr/local/lib/python2.7/dist-packages (from extract-msg==0.23.1->textract) (0.46)\n",
            "Requirement already satisfied: imapclient==2.1.0 in /usr/local/lib/python2.7/dist-packages (from extract-msg==0.23.1->textract) (2.1.0)\n",
            "Requirement already satisfied: tzlocal==1.5.1 in /usr/local/lib/python2.7/dist-packages (from extract-msg==0.23.1->textract) (1.5.1)\n",
            "Requirement already satisfied: pycryptodome in /usr/local/lib/python2.7/dist-packages (from pdfminer.six==20181108->textract) (3.10.1)\n",
            "Requirement already satisfied: sortedcontainers in /usr/local/lib/python2.7/dist-packages (from pdfminer.six==20181108->textract) (2.1.0)\n",
            "Requirement already satisfied: soupsieve>=1.2 in /usr/local/lib/python2.7/dist-packages (from beautifulsoup4==4.8.0->textract) (1.9.6)\n",
            "Requirement already satisfied: Pillow>=3.3.2 in /usr/local/lib/python2.7/dist-packages (from python-pptx==0.6.18->textract) (4.3.0)\n",
            "Requirement already satisfied: XlsxWriter>=0.5.7 in /usr/local/lib/python2.7/dist-packages (from python-pptx==0.6.18->textract) (2.0.0)\n",
            "Requirement already satisfied: pytz in /usr/local/lib/python2.7/dist-packages (from tzlocal==1.5.1->extract-msg==0.23.1->textract) (2018.9)\n",
            "Requirement already satisfied: backports.functools-lru-cache; python_version < \"3\" in /usr/local/lib/python2.7/dist-packages (from soupsieve>=1.2->beautifulsoup4==4.8.0->textract) (1.5)\n",
            "Installing collected packages: SpeechRecognition\n",
            "  Attempting uninstall: SpeechRecognition\n",
            "    Found existing installation: SpeechRecognition 3.6.3\n",
            "    Uninstalling SpeechRecognition-3.6.3:\n",
            "      Successfully uninstalled SpeechRecognition-3.6.3\n",
            "Successfully installed SpeechRecognition-3.8.1\n"
          ],
          "name": "stdout"
        }
      ]
    },
    {
      "cell_type": "code",
      "metadata": {
        "colab": {
          "base_uri": "https://localhost:8080/"
        },
        "id": "4mUre4fkkjiL",
        "outputId": "72e7a2ab-54ed-4407-a0a3-6129fc8a1777"
      },
      "source": [
        "! python -m venv env \n",
        "! source ./env/bin/activate\n",
        "! sudo apt update\n",
        "! sudo apt install python-pip && pip install --upgrade pip\n",
        "! sudo apt install python-dev libxml2-dev libxslt1-dev antiword unrtf poppler-utils pstotext tesseract-ocr flac ffmpeg lame libmad0 libsox-fmt-mp3 sox libjpeg-dev swig\n",
        "! pip install textract"
      ],
      "execution_count": null,
      "outputs": [
        {
          "output_type": "stream",
          "text": [
            "Error: Command '['/content/env/bin/python3', '-Im', 'ensurepip', '--upgrade', '--default-pip']' returned non-zero exit status 1.\n",
            "/bin/bash: ./env/bin/activate: No such file or directory\n",
            "Ign:1 https://developer.download.nvidia.com/compute/cuda/repos/ubuntu1804/x86_64  InRelease\n",
            "Hit:2 https://cloud.r-project.org/bin/linux/ubuntu bionic-cran40/ InRelease\n",
            "Ign:3 https://developer.download.nvidia.com/compute/machine-learning/repos/ubuntu1804/x86_64  InRelease\n",
            "Hit:4 https://developer.download.nvidia.com/compute/cuda/repos/ubuntu1804/x86_64  Release\n",
            "Hit:5 https://developer.download.nvidia.com/compute/machine-learning/repos/ubuntu1804/x86_64  Release\n",
            "Hit:6 http://security.ubuntu.com/ubuntu bionic-security InRelease\n",
            "Hit:8 http://ppa.launchpad.net/c2d4u.team/c2d4u4.0+/ubuntu bionic InRelease\n",
            "Hit:10 http://archive.ubuntu.com/ubuntu bionic InRelease\n",
            "Get:11 http://archive.ubuntu.com/ubuntu bionic-updates InRelease [88.7 kB]\n",
            "Hit:12 http://ppa.launchpad.net/cran/libgit2/ubuntu bionic InRelease\n",
            "Hit:13 http://ppa.launchpad.net/deadsnakes/ppa/ubuntu bionic InRelease\n",
            "Get:14 http://archive.ubuntu.com/ubuntu bionic-backports InRelease [74.6 kB]\n",
            "Hit:15 http://ppa.launchpad.net/graphics-drivers/ppa/ubuntu bionic InRelease\n",
            "Fetched 163 kB in 1s (133 kB/s)\n",
            "Reading package lists... Done\n",
            "Building dependency tree       \n",
            "Reading state information... Done\n",
            "49 packages can be upgraded. Run 'apt list --upgradable' to see them.\n",
            "Reading package lists... Done\n",
            "Building dependency tree       \n",
            "Reading state information... Done\n",
            "python-pip is already the newest version (9.0.1-2.3~ubuntu1.18.04.5).\n",
            "The following package was automatically installed and is no longer required:\n",
            "  libnvidia-common-460\n",
            "Use 'sudo apt autoremove' to remove it.\n",
            "0 upgraded, 0 newly installed, 0 to remove and 49 not upgraded.\n",
            "Requirement already up-to-date: pip in /usr/local/lib/python2.7/dist-packages (20.3.4)\n",
            "Reading package lists... Done\n",
            "Building dependency tree       \n",
            "Reading state information... Done\n",
            "libjpeg-dev is already the newest version (8c-2ubuntu8).\n",
            "python-dev is already the newest version (2.7.15~rc1-1).\n",
            "antiword is already the newest version (0.37-11build1).\n",
            "flac is already the newest version (1.3.2-1).\n",
            "lame is already the newest version (3.100-2).\n",
            "pstotext is already the newest version (1.9-6build1).\n",
            "swig is already the newest version (3.0.12-1).\n",
            "tesseract-ocr is already the newest version (4.00~git2288-10f4998a-2).\n",
            "unrtf is already the newest version (0.21.9-clean-3).\n",
            "libxml2-dev is already the newest version (2.9.4+dfsg1-6.1ubuntu1.4).\n",
            "libxslt1-dev is already the newest version (1.1.29-5ubuntu0.2).\n",
            "poppler-utils is already the newest version (0.62.0-2ubuntu2.12).\n",
            "ffmpeg is already the newest version (7:3.4.8-0ubuntu0.2).\n",
            "libmad0 is already the newest version (0.15.1b-9ubuntu18.04.1).\n",
            "libsox-fmt-mp3 is already the newest version (14.4.2-3ubuntu0.18.04.1).\n",
            "sox is already the newest version (14.4.2-3ubuntu0.18.04.1).\n",
            "The following package was automatically installed and is no longer required:\n",
            "  libnvidia-common-460\n",
            "Use 'sudo apt autoremove' to remove it.\n",
            "0 upgraded, 0 newly installed, 0 to remove and 49 not upgraded.\n",
            "Requirement already satisfied: textract in /usr/local/lib/python2.7/dist-packages (1.6.3)\n",
            "Requirement already satisfied: chardet==3.0.4 in /usr/local/lib/python2.7/dist-packages (from textract) (3.0.4)\n",
            "Requirement already satisfied: xlrd==1.2.0 in /usr/local/lib/python2.7/dist-packages (from textract) (1.2.0)\n",
            "Requirement already satisfied: EbookLib==0.17.1 in /usr/local/lib/python2.7/dist-packages (from textract) (0.17.1)\n",
            "Requirement already satisfied: SpeechRecognition==3.8.1 in /usr/local/lib/python2.7/dist-packages (from textract) (3.8.1)\n",
            "Requirement already satisfied: extract-msg==0.23.1 in /usr/local/lib/python2.7/dist-packages (from textract) (0.23.1)\n",
            "Requirement already satisfied: pdfminer.six==20181108 in /usr/local/lib/python2.7/dist-packages (from textract) (20181108)\n",
            "Requirement already satisfied: docx2txt==0.8 in /usr/local/lib/python2.7/dist-packages (from textract) (0.8)\n",
            "Requirement already satisfied: argcomplete==1.10.0 in /usr/local/lib/python2.7/dist-packages (from textract) (1.10.0)\n",
            "Requirement already satisfied: beautifulsoup4==4.8.0 in /usr/local/lib/python2.7/dist-packages (from textract) (4.8.0)\n",
            "Requirement already satisfied: six==1.12.0 in /usr/local/lib/python2.7/dist-packages (from textract) (1.12.0)\n",
            "Requirement already satisfied: python-pptx==0.6.18 in /usr/local/lib/python2.7/dist-packages (from textract) (0.6.18)\n",
            "Requirement already satisfied: lxml in /usr/local/lib/python2.7/dist-packages (from EbookLib==0.17.1->textract) (4.2.6)\n",
            "Requirement already satisfied: olefile==0.46 in /usr/local/lib/python2.7/dist-packages (from extract-msg==0.23.1->textract) (0.46)\n",
            "Requirement already satisfied: imapclient==2.1.0 in /usr/local/lib/python2.7/dist-packages (from extract-msg==0.23.1->textract) (2.1.0)\n",
            "Requirement already satisfied: tzlocal==1.5.1 in /usr/local/lib/python2.7/dist-packages (from extract-msg==0.23.1->textract) (1.5.1)\n",
            "Requirement already satisfied: pycryptodome in /usr/local/lib/python2.7/dist-packages (from pdfminer.six==20181108->textract) (3.10.1)\n",
            "Requirement already satisfied: sortedcontainers in /usr/local/lib/python2.7/dist-packages (from pdfminer.six==20181108->textract) (2.1.0)\n",
            "Requirement already satisfied: soupsieve>=1.2 in /usr/local/lib/python2.7/dist-packages (from beautifulsoup4==4.8.0->textract) (1.9.6)\n",
            "Requirement already satisfied: Pillow>=3.3.2 in /usr/local/lib/python2.7/dist-packages (from python-pptx==0.6.18->textract) (4.3.0)\n",
            "Requirement already satisfied: XlsxWriter>=0.5.7 in /usr/local/lib/python2.7/dist-packages (from python-pptx==0.6.18->textract) (2.0.0)\n",
            "Requirement already satisfied: pytz in /usr/local/lib/python2.7/dist-packages (from tzlocal==1.5.1->extract-msg==0.23.1->textract) (2018.9)\n",
            "Requirement already satisfied: backports.functools-lru-cache; python_version < \"3\" in /usr/local/lib/python2.7/dist-packages (from soupsieve>=1.2->beautifulsoup4==4.8.0->textract) (1.5)\n"
          ],
          "name": "stdout"
        }
      ]
    },
    {
      "cell_type": "code",
      "metadata": {
        "colab": {
          "base_uri": "https://localhost:8080/"
        },
        "id": "AXnH74Ibk60_",
        "outputId": "2ec212b7-223c-46ec-fa48-7959466cece0"
      },
      "source": [
        "! pip install https://pypi.python.org/packages/ce/c7/ab6cd0d00ddf8dc3b537cfb922f3f049f8018f38c88d71fd164f3acb8416/SpeechRecognition-3.6.3-py2.py3-none-any.whl\n",
        "! sudo apt install libpulse-dev\n",
        "! pip install textract"
      ],
      "execution_count": null,
      "outputs": [
        {
          "output_type": "stream",
          "text": [
            "Collecting SpeechRecognition==3.6.3\n",
            "  Using cached https://pypi.python.org/packages/ce/c7/ab6cd0d00ddf8dc3b537cfb922f3f049f8018f38c88d71fd164f3acb8416/SpeechRecognition-3.6.3-py2.py3-none-any.whl (31.8 MB)\n",
            "Installing collected packages: SpeechRecognition\n",
            "  Attempting uninstall: SpeechRecognition\n",
            "    Found existing installation: SpeechRecognition 3.8.1\n",
            "    Uninstalling SpeechRecognition-3.8.1:\n",
            "      Successfully uninstalled SpeechRecognition-3.8.1\n",
            "\u001b[31mERROR: pip's legacy dependency resolver does not consider dependency conflicts when selecting packages. This behaviour is the source of the following dependency conflicts.\n",
            "textract 1.6.3 requires SpeechRecognition==3.8.1, but you'll have speechrecognition 3.6.3 which is incompatible.\u001b[0m\n",
            "Successfully installed SpeechRecognition-3.6.3\n",
            "Reading package lists... Done\n",
            "Building dependency tree       \n",
            "Reading state information... Done\n",
            "libpulse-dev is already the newest version (1:11.1-1ubuntu7.11).\n",
            "The following package was automatically installed and is no longer required:\n",
            "  libnvidia-common-460\n",
            "Use 'sudo apt autoremove' to remove it.\n",
            "0 upgraded, 0 newly installed, 0 to remove and 49 not upgraded.\n",
            "Requirement already satisfied: textract in /usr/local/lib/python2.7/dist-packages (1.6.3)\n",
            "Requirement already satisfied: chardet==3.0.4 in /usr/local/lib/python2.7/dist-packages (from textract) (3.0.4)\n",
            "Requirement already satisfied: xlrd==1.2.0 in /usr/local/lib/python2.7/dist-packages (from textract) (1.2.0)\n",
            "Requirement already satisfied: EbookLib==0.17.1 in /usr/local/lib/python2.7/dist-packages (from textract) (0.17.1)\n",
            "Collecting SpeechRecognition==3.8.1\n",
            "  Using cached SpeechRecognition-3.8.1-py2.py3-none-any.whl (32.8 MB)\n",
            "Requirement already satisfied: extract-msg==0.23.1 in /usr/local/lib/python2.7/dist-packages (from textract) (0.23.1)\n",
            "Requirement already satisfied: pdfminer.six==20181108 in /usr/local/lib/python2.7/dist-packages (from textract) (20181108)\n",
            "Requirement already satisfied: docx2txt==0.8 in /usr/local/lib/python2.7/dist-packages (from textract) (0.8)\n",
            "Requirement already satisfied: argcomplete==1.10.0 in /usr/local/lib/python2.7/dist-packages (from textract) (1.10.0)\n",
            "Requirement already satisfied: beautifulsoup4==4.8.0 in /usr/local/lib/python2.7/dist-packages (from textract) (4.8.0)\n",
            "Requirement already satisfied: six==1.12.0 in /usr/local/lib/python2.7/dist-packages (from textract) (1.12.0)\n",
            "Requirement already satisfied: python-pptx==0.6.18 in /usr/local/lib/python2.7/dist-packages (from textract) (0.6.18)\n",
            "Requirement already satisfied: lxml in /usr/local/lib/python2.7/dist-packages (from EbookLib==0.17.1->textract) (4.2.6)\n",
            "Requirement already satisfied: olefile==0.46 in /usr/local/lib/python2.7/dist-packages (from extract-msg==0.23.1->textract) (0.46)\n",
            "Requirement already satisfied: imapclient==2.1.0 in /usr/local/lib/python2.7/dist-packages (from extract-msg==0.23.1->textract) (2.1.0)\n",
            "Requirement already satisfied: tzlocal==1.5.1 in /usr/local/lib/python2.7/dist-packages (from extract-msg==0.23.1->textract) (1.5.1)\n",
            "Requirement already satisfied: pycryptodome in /usr/local/lib/python2.7/dist-packages (from pdfminer.six==20181108->textract) (3.10.1)\n",
            "Requirement already satisfied: sortedcontainers in /usr/local/lib/python2.7/dist-packages (from pdfminer.six==20181108->textract) (2.1.0)\n",
            "Requirement already satisfied: soupsieve>=1.2 in /usr/local/lib/python2.7/dist-packages (from beautifulsoup4==4.8.0->textract) (1.9.6)\n",
            "Requirement already satisfied: Pillow>=3.3.2 in /usr/local/lib/python2.7/dist-packages (from python-pptx==0.6.18->textract) (4.3.0)\n",
            "Requirement already satisfied: XlsxWriter>=0.5.7 in /usr/local/lib/python2.7/dist-packages (from python-pptx==0.6.18->textract) (2.0.0)\n",
            "Requirement already satisfied: pytz in /usr/local/lib/python2.7/dist-packages (from tzlocal==1.5.1->extract-msg==0.23.1->textract) (2018.9)\n",
            "Requirement already satisfied: backports.functools-lru-cache; python_version < \"3\" in /usr/local/lib/python2.7/dist-packages (from soupsieve>=1.2->beautifulsoup4==4.8.0->textract) (1.5)\n",
            "Installing collected packages: SpeechRecognition\n",
            "  Attempting uninstall: SpeechRecognition\n",
            "    Found existing installation: SpeechRecognition 3.6.3\n",
            "    Uninstalling SpeechRecognition-3.6.3:\n",
            "      Successfully uninstalled SpeechRecognition-3.6.3\n",
            "Successfully installed SpeechRecognition-3.8.1\n"
          ],
          "name": "stdout"
        }
      ]
    },
    {
      "cell_type": "code",
      "metadata": {
        "colab": {
          "base_uri": "https://localhost:8080/",
          "height": 164
        },
        "id": "d-oX8XCblw-Z",
        "outputId": "37adf0ae-4a51-46fa-e197-c0f94938b6fb"
      },
      "source": [
        "RROR: pip's legacy dependency resolver does not consider dependency conflicts when selecting packages. This behaviour is the source of the following dependency conflicts.\n",
        "textract 1.6.3 requires SpeechRecognition==3.8.1, but you'll have speechrecognition 3.6.3 which is incompatible.\n",
        "Successfully installed SpeechRecognition-3.6.3"
      ],
      "execution_count": null,
      "outputs": [
        {
          "output_type": "error",
          "ename": "SyntaxError",
          "evalue": "ignored",
          "traceback": [
            "\u001b[0;36m  File \u001b[0;32m\"<ipython-input-183-04c732382704>\"\u001b[0;36m, line \u001b[0;32m1\u001b[0m\n\u001b[0;31m    RROR: pip's legacy dependency resolver does not consider dependency conflicts when selecting packages. This behaviour is the source of the following dependency conflicts.\u001b[0m\n\u001b[0m                                                                                                                                                                              ^\u001b[0m\n\u001b[0;31mSyntaxError\u001b[0m\u001b[0;31m:\u001b[0m EOL while scanning string literal\n"
          ]
        }
      ]
    },
    {
      "cell_type": "code",
      "metadata": {
        "id": "niI32Zmmn9rr"
      },
      "source": [
        "! pip2 -V"
      ],
      "execution_count": null,
      "outputs": []
    },
    {
      "cell_type": "code",
      "metadata": {
        "colab": {
          "base_uri": "https://localhost:8080/"
        },
        "id": "HOKxk56nnL39",
        "outputId": "af5f7c1f-4fae-44ce-9560-15936eb05b34"
      },
      "source": [
        "import sys\n",
        "print(\"Python version\")\n",
        "print (sys.version)\n",
        "print(\"Version info.\")\n",
        "print (sys.version_info)"
      ],
      "execution_count": null,
      "outputs": [
        {
          "output_type": "stream",
          "text": [
            "Python version\n",
            "3.7.11 (default, Jul  3 2021, 18:01:19) \n",
            "[GCC 7.5.0]\n",
            "Version info.\n",
            "sys.version_info(major=3, minor=7, micro=11, releaselevel='final', serial=0)\n"
          ],
          "name": "stdout"
        }
      ]
    },
    {
      "cell_type": "code",
      "metadata": {
        "colab": {
          "base_uri": "https://localhost:8080/"
        },
        "id": "wPUFLaz3ndTm",
        "outputId": "4365bd7e-2aca-46aa-cf37-b1364c79a0c6"
      },
      "source": [
        "! pip install Python 2.0"
      ],
      "execution_count": null,
      "outputs": [
        {
          "output_type": "stream",
          "text": [
            "Requirement already satisfied: Python in /usr/lib/python2.7/lib-dynload (2.7.17)\n",
            "\u001b[31mERROR: Could not find a version that satisfies the requirement 2.0 (from versions: none)\u001b[0m\n",
            "\u001b[31mERROR: No matching distribution found for 2.0\u001b[0m\n"
          ],
          "name": "stdout"
        }
      ]
    },
    {
      "cell_type": "code",
      "metadata": {
        "colab": {
          "base_uri": "https://localhost:8080/",
          "height": 130
        },
        "id": "r1As2YWAmacy",
        "outputId": "a57bcd94-435b-41a4-8c06-6900ab8428f9"
      },
      "source": [
        "python version"
      ],
      "execution_count": null,
      "outputs": [
        {
          "output_type": "error",
          "ename": "SyntaxError",
          "evalue": "ignored",
          "traceback": [
            "\u001b[0;36m  File \u001b[0;32m\"<ipython-input-186-d9805471a22f>\"\u001b[0;36m, line \u001b[0;32m1\u001b[0m\n\u001b[0;31m    python version\u001b[0m\n\u001b[0m                 ^\u001b[0m\n\u001b[0;31mSyntaxError\u001b[0m\u001b[0;31m:\u001b[0m invalid syntax\n"
          ]
        }
      ]
    },
    {
      "cell_type": "code",
      "metadata": {
        "id": "7DlKnamNrTbo"
      },
      "source": [
        "pip install git+https://github.com/jpweytjens/textract"
      ],
      "execution_count": null,
      "outputs": []
    },
    {
      "cell_type": "code",
      "metadata": {
        "id": "ENVjpvLlq_P9"
      },
      "source": [
        "! pip install swig"
      ],
      "execution_count": null,
      "outputs": []
    },
    {
      "cell_type": "code",
      "metadata": {
        "id": "8D4Mie4-rrwi"
      },
      "source": [
        "pip install python-docx"
      ],
      "execution_count": null,
      "outputs": []
    },
    {
      "cell_type": "code",
      "metadata": {
        "id": "Z3Kh_0Hvr0NJ"
      },
      "source": [
        "! pip install https://pypi.python.org/packages/ce/c7/ab6cd0d00ddf8dc3b537cfb922f3f049f8018f38c88d71fd164f3acb8416/SpeechRecognition-3.6.3-py2.py3-none-any.whl\n",
        "! sudo apt install libpulse-dev\n",
        "! pip install textract"
      ],
      "execution_count": null,
      "outputs": []
    },
    {
      "cell_type": "code",
      "metadata": {
        "id": "3qBF398WsBSt"
      },
      "source": [
        "! python -m venv env \n",
        "! source ./env/bin/activate\n",
        "! sudo apt update\n",
        "! sudo apt install python-pip && pip install --upgrade pip\n",
        "! sudo apt install python-dev libxml2-dev libxslt1-dev antiword unrtf poppler-utils pstotext tesseract-ocr flac ffmpeg lame libmad0 libsox-fmt-mp3 sox libjpeg-dev swig\n",
        "! pip install textract"
      ],
      "execution_count": null,
      "outputs": []
    },
    {
      "cell_type": "code",
      "metadata": {
        "id": "9tIwdmDjHWiY"
      },
      "source": [
        ""
      ],
      "execution_count": null,
      "outputs": []
    },
    {
      "cell_type": "markdown",
      "metadata": {
        "id": "I4mDzg3qk6RN"
      },
      "source": [
        ""
      ]
    },
    {
      "cell_type": "code",
      "metadata": {
        "colab": {
          "base_uri": "https://localhost:8080/",
          "height": 334
        },
        "id": "SsZv5qxKsiZ2",
        "outputId": "7fd56958-9b08-4d2e-a5a4-b77721c9bb94"
      },
      "source": [
        "import os\n",
        "import sys\n",
        "import textract \n"
      ],
      "execution_count": null,
      "outputs": [
        {
          "output_type": "error",
          "ename": "ModuleNotFoundError",
          "evalue": "ignored",
          "traceback": [
            "\u001b[0;31m---------------------------------------------------------------------------\u001b[0m",
            "\u001b[0;31mModuleNotFoundError\u001b[0m                       Traceback (most recent call last)",
            "\u001b[0;32m<ipython-input-187-e892ab19f18f>\u001b[0m in \u001b[0;36m<module>\u001b[0;34m()\u001b[0m\n\u001b[1;32m      1\u001b[0m \u001b[0;32mimport\u001b[0m \u001b[0mos\u001b[0m\u001b[0;34m\u001b[0m\u001b[0;34m\u001b[0m\u001b[0m\n\u001b[1;32m      2\u001b[0m \u001b[0;32mimport\u001b[0m \u001b[0msys\u001b[0m\u001b[0;34m\u001b[0m\u001b[0;34m\u001b[0m\u001b[0m\n\u001b[0;32m----> 3\u001b[0;31m \u001b[0;32mimport\u001b[0m \u001b[0mtextract\u001b[0m\u001b[0;34m\u001b[0m\u001b[0;34m\u001b[0m\u001b[0m\n\u001b[0m",
            "\u001b[0;31mModuleNotFoundError\u001b[0m: No module named 'textract'",
            "",
            "\u001b[0;31m---------------------------------------------------------------------------\u001b[0;32m\nNOTE: If your import is failing due to a missing package, you can\nmanually install dependencies using either !pip or !apt.\n\nTo view examples of installing some common dependencies, click the\n\"Open Examples\" button below.\n\u001b[0;31m---------------------------------------------------------------------------\u001b[0m\n"
          ],
          "errorDetails": {
            "actions": [
              {
                "action": "open_url",
                "actionText": "Open Examples",
                "url": "/notebooks/snippets/importing_libraries.ipynb"
              }
            ]
          }
        }
      ]
    },
    {
      "cell_type": "code",
      "metadata": {
        "id": "2MOpnwJBkZUq"
      },
      "source": [
        "#import textract\n",
        "text = textract.process(\"/home/user/textract_test.pdf\")"
      ],
      "execution_count": null,
      "outputs": []
    },
    {
      "cell_type": "code",
      "metadata": {
        "id": "cGNOdE6MitNq"
      },
      "source": [
        "from google.colab.patches import cv2_imshow\n",
        "\n",
        "import cv2\n",
        "\n",
        "import textract"
      ],
      "execution_count": null,
      "outputs": []
    },
    {
      "cell_type": "code",
      "metadata": {
        "id": "W0A05xXuXx0W"
      },
      "source": [
        "pip install textract-trp"
      ],
      "execution_count": null,
      "outputs": []
    },
    {
      "cell_type": "code",
      "metadata": {
        "id": "VM0BRejAYFRg"
      },
      "source": [
        "pip install trp"
      ],
      "execution_count": null,
      "outputs": []
    },
    {
      "cell_type": "code",
      "metadata": {
        "id": "pyDA8WXtX2qu"
      },
      "source": [
        "from trp import Document\n",
        "doc = Document(blocks)"
      ],
      "execution_count": null,
      "outputs": []
    },
    {
      "cell_type": "code",
      "metadata": {
        "id": "CwLmH338XX-6"
      },
      "source": [
        "install python-dev libxml2-dev libxslt1-dev antiword unrtf poppler-utils pstotext tesseract-ocr \\\n",
        "flac ffmpeg lame libmad0 libsox-fmt-mp3 sox libjpeg-dev swig"
      ],
      "execution_count": null,
      "outputs": []
    },
    {
      "cell_type": "code",
      "metadata": {
        "id": "Q3YVTjRbWuuN"
      },
      "source": [
        "brew cask install xquartz\n",
        "brew install poppler antiword unrtf tesseract swig\n",
        "pip install textract"
      ],
      "execution_count": null,
      "outputs": []
    },
    {
      "cell_type": "code",
      "metadata": {
        "id": "-bkL1z5zWFnx"
      },
      "source": [
        "install pulseaudio-libs-devel"
      ],
      "execution_count": null,
      "outputs": []
    },
    {
      "cell_type": "code",
      "metadata": {
        "id": "L7cA45LGVtSW"
      },
      "source": [
        "pip install textract\n",
        "sudo apt-get install textract\n",
        "pip install textract\n",
        "sudo apt-get install swig"
      ],
      "execution_count": null,
      "outputs": []
    },
    {
      "cell_type": "code",
      "metadata": {
        "id": "5PfM9CYNU0Y6"
      },
      "source": [
        "cd to_unzipped_folder_path_here\n",
        "pip install ."
      ],
      "execution_count": null,
      "outputs": []
    },
    {
      "cell_type": "code",
      "metadata": {
        "id": "weuRx7FZUZmR"
      },
      "source": [
        "conda install swig"
      ],
      "execution_count": null,
      "outputs": []
    },
    {
      "cell_type": "code",
      "metadata": {
        "id": "Vlp-ExQ_ULZy"
      },
      "source": [
        "sudo apt update\n",
        "sudo apt install python-pip && pip install --upgrade pip"
      ],
      "execution_count": null,
      "outputs": []
    },
    {
      "cell_type": "code",
      "metadata": {
        "id": "W5DjY569T0kg"
      },
      "source": [
        "import textract  "
      ],
      "execution_count": null,
      "outputs": []
    },
    {
      "cell_type": "code",
      "metadata": {
        "id": "4cDi-X7ZRzda"
      },
      "source": [
        "installed EbookLib-0.17.1 SpeechRecognition-3.8.1 XlsxWriter-2.0.0 argcomplete-1.10.0 beautifulsoup4-4.8.0 docx2txt-0.8 extract-msg-0.23.1 imapclient-2.1.0 pdfminer.six-20181108 pycryptodome-3.10.1 python-pptx-0.6.18 six-1.12.0 soupsieve-1.9.6 textract-1.6.3 xlrd-1.2.0"
      ],
      "execution_count": null,
      "outputs": []
    },
    {
      "cell_type": "code",
      "metadata": {
        "id": "_wygpgNKSbWk"
      },
      "source": [
        "!pip install textract"
      ],
      "execution_count": null,
      "outputs": []
    },
    {
      "cell_type": "code",
      "metadata": {
        "id": "miBeBA6PSVrC"
      },
      "source": [
        "import textract  "
      ],
      "execution_count": null,
      "outputs": []
    },
    {
      "cell_type": "code",
      "metadata": {
        "id": "Wuttxm3lP5CM"
      },
      "source": [
        "# install in terminal\n",
        "\n",
        "python -m venv env \n",
        "source ./env/bin/activate\n",
        "sudo apt update\n",
        "sudo apt install python-pip && pip install --upgrade pip\n",
        "sudo apt install python-dev libxml2-dev libxslt1-dev antiword unrtf poppler-utils pstotext tesseract-ocr flac ffmpeg lame libmad0 libsox-fmt-mp3 sox libjpeg-dev swig\n",
        "pip install textract"
      ],
      "execution_count": null,
      "outputs": []
    },
    {
      "cell_type": "code",
      "metadata": {
        "id": "cX8RSovlRP8v"
      },
      "source": [
        "\n",
        "pip install textract"
      ],
      "execution_count": null,
      "outputs": []
    },
    {
      "cell_type": "code",
      "metadata": {
        "id": "T5kYdTVNYcrY"
      },
      "source": [
        "pip3 install textract"
      ],
      "execution_count": null,
      "outputs": []
    },
    {
      "cell_type": "code",
      "metadata": {
        "id": "XbnlZwcFPeqd"
      },
      "source": [
        "import textract\n",
        "text = textract.process(\"/content/file.pdf\")"
      ],
      "execution_count": null,
      "outputs": []
    },
    {
      "cell_type": "code",
      "metadata": {
        "id": "4rbpK_EqZvcP"
      },
      "source": [
        "def read_allfiles(file):\n",
        "    # myFile = PdfFileReader(open(\"../input/accident/test1.pdf\", 'rb'))\n",
        "    open_filename = open(file, 'rb')\n",
        "\n",
        "    fileAccid = PyPDF2.PdfFileReader(open_filename)\n",
        "    total_pages = fileAccid.numPages\n",
        "    count = 0\n",
        "    text  = ''\n",
        "    while(count < total_pages):\n",
        "        mani_page  = fileAccid.getPage(count)\n",
        "        count += 1\n",
        "        text += mani_page.extractText().replace('\\n','')\n",
        "    \n",
        "    if text != '':\n",
        "        text = text  \n",
        "    else:\n",
        "        textract.process(open_filename, method='tesseract', encoding='utf-8', langauge='eng' )  \n",
        "\n",
        "    return text\n",
        "    text = read_allfiles(file)"
      ],
      "execution_count": null,
      "outputs": []
    },
    {
      "cell_type": "code",
      "metadata": {
        "id": "RHMHlEExaHDU"
      },
      "source": [
        "FILE = PdfFileReader(open(\"/content/file.pdf\", 'rb'))"
      ],
      "execution_count": null,
      "outputs": []
    },
    {
      "cell_type": "code",
      "metadata": {
        "id": "6P2N-sCGZywn"
      },
      "source": [
        "read_allfiles(\"/content/file.pdf\")"
      ],
      "execution_count": null,
      "outputs": []
    },
    {
      "cell_type": "code",
      "metadata": {
        "id": "CYySX84oasxs"
      },
      "source": [
        "!pip install textract"
      ],
      "execution_count": null,
      "outputs": []
    },
    {
      "cell_type": "code",
      "metadata": {
        "id": "vg8cP_jlfUOM"
      },
      "source": [
        "pip install https://pypi.python.org/packages/ce/c7/ab6cd0d00ddf8dc3b537cfb922f3f049f8018f38c88d71fd164f3acb8416/SpeechRecognition-3.6.3-py2.py3-none-any.whl"
      ],
      "execution_count": null,
      "outputs": []
    },
    {
      "cell_type": "code",
      "metadata": {
        "id": "JFa541asiWSY"
      },
      "source": [
        "install python-dev libxml2-dev libxslt1-dev antiword unrtf poppler-utils pstotext tesseract-ocr flac ffmpeg lame libmad0 libsox-fmt-mp3 sox libjpeg-dev swig"
      ],
      "execution_count": null,
      "outputs": []
    },
    {
      "cell_type": "code",
      "metadata": {
        "id": "tFCe4PK1hSnO"
      },
      "source": [
        "pip install python "
      ],
      "execution_count": null,
      "outputs": []
    },
    {
      "cell_type": "code",
      "metadata": {
        "id": "fSbjEmTlgbEL"
      },
      "source": [
        "$ sudo pip3 uninstall networkx\n",
        "$ sudo pip3 install networkx==2.4"
      ],
      "execution_count": null,
      "outputs": []
    },
    {
      "cell_type": "code",
      "metadata": {
        "id": "SqNHPbMbgAhe"
      },
      "source": [
        "sudo apt update\n",
        "sudo apt upgrade\n",
        "sudo apt-get install python3-pip python3-dev"
      ],
      "execution_count": null,
      "outputs": []
    },
    {
      "cell_type": "code",
      "metadata": {
        "id": "wsxEmJ7yfgyy"
      },
      "source": [
        "apt update"
      ],
      "execution_count": null,
      "outputs": []
    },
    {
      "cell_type": "code",
      "metadata": {
        "id": "uaOMIa_efdED"
      },
      "source": [
        "import textract\n",
        "text = textract.process(\"/home/user/textract_test.pdf\")"
      ],
      "execution_count": null,
      "outputs": []
    },
    {
      "cell_type": "code",
      "metadata": {
        "id": "D3MmaG0NfZ-U"
      },
      "source": [
        "apt install libpulse-dev"
      ],
      "execution_count": null,
      "outputs": []
    },
    {
      "cell_type": "code",
      "metadata": {
        "id": "nrLfe11afHOI"
      },
      "source": [
        "apt update"
      ],
      "execution_count": null,
      "outputs": []
    },
    {
      "cell_type": "code",
      "metadata": {
        "id": "TbxKC4nGfMEg"
      },
      "source": [
        "apt install python-pip && pip install --upgrade pip"
      ],
      "execution_count": null,
      "outputs": []
    },
    {
      "cell_type": "code",
      "metadata": {
        "id": "PwC0PHfFet-E"
      },
      "source": [
        "apt-get install python-dev libxml2-dev libxslt1-dev antiword unrtf poppler-utils pstotext tesseract-ocr \\\n",
        "flac ffmpeg lame libmad0 libsox-fmt-mp3 sox libjpeg-dev swig"
      ],
      "execution_count": null,
      "outputs": []
    },
    {
      "cell_type": "code",
      "metadata": {
        "id": "mGFhIQ8leLat"
      },
      "source": [
        "install libpulse-dev"
      ],
      "execution_count": null,
      "outputs": []
    },
    {
      "cell_type": "markdown",
      "metadata": {
        "id": "VeJBuTB8eLEe"
      },
      "source": [
        ""
      ]
    },
    {
      "cell_type": "code",
      "metadata": {
        "id": "U3T1hvP8cLeu"
      },
      "source": [
        "import textract\n",
        "text = textract.process('path/to/file.extension')"
      ],
      "execution_count": null,
      "outputs": []
    },
    {
      "cell_type": "code",
      "metadata": {
        "id": "FY19lRAfbIw-"
      },
      "source": [
        "sudo python3 -m pip install textract\n",
        "sudo apt-get install textract\n",
        "pip install textract\n",
        "sudo apt-get install swig"
      ],
      "execution_count": null,
      "outputs": []
    },
    {
      "cell_type": "code",
      "metadata": {
        "id": "U0My8ZQvawnu"
      },
      "source": [
        "import textract  "
      ],
      "execution_count": null,
      "outputs": []
    },
    {
      "cell_type": "code",
      "metadata": {
        "id": "nw0qwu6Aasid"
      },
      "source": [
        ""
      ],
      "execution_count": null,
      "outputs": []
    }
  ]
}